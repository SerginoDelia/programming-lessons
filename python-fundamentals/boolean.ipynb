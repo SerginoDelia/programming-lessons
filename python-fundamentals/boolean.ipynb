{
 "cells": [
  {
   "cell_type": "markdown",
   "id": "24c70d15-1d97-471e-87bd-e34b36a337b3",
   "metadata": {},
   "source": [
    "## Boolean\n"
   ]
  },
  {
   "cell_type": "code",
   "execution_count": 1,
   "id": "63a33149-ad8d-48f8-8f87-59b467079ad1",
   "metadata": {},
   "outputs": [
    {
     "data": {
      "text/plain": [
       "False"
      ]
     },
     "execution_count": 1,
     "metadata": {},
     "output_type": "execute_result"
    }
   ],
   "source": [
    "not True"
   ]
  },
  {
   "cell_type": "code",
   "execution_count": 2,
   "id": "4056a95d-7f5d-47bb-bde4-ebd0175510b8",
   "metadata": {},
   "outputs": [
    {
     "data": {
      "text/plain": [
       "True"
      ]
     },
     "execution_count": 2,
     "metadata": {},
     "output_type": "execute_result"
    }
   ],
   "source": [
    "not False"
   ]
  },
  {
   "cell_type": "code",
   "execution_count": 3,
   "id": "2a4c3a13-8484-4b8a-a60f-c67a4980b53d",
   "metadata": {},
   "outputs": [
    {
     "data": {
      "text/plain": [
       "True"
      ]
     },
     "execution_count": 3,
     "metadata": {},
     "output_type": "execute_result"
    }
   ],
   "source": [
    "True and True"
   ]
  },
  {
   "cell_type": "code",
   "execution_count": 4,
   "id": "a0be9710-7984-4d6b-8dae-51a8835e3557",
   "metadata": {},
   "outputs": [
    {
     "data": {
      "text/plain": [
       "False"
      ]
     },
     "execution_count": 4,
     "metadata": {},
     "output_type": "execute_result"
    }
   ],
   "source": [
    "True and False"
   ]
  },
  {
   "cell_type": "code",
   "execution_count": 5,
   "id": "acae875e-3df8-4f00-a791-7868c1b59acb",
   "metadata": {},
   "outputs": [
    {
     "data": {
      "text/plain": [
       "False"
      ]
     },
     "execution_count": 5,
     "metadata": {},
     "output_type": "execute_result"
    }
   ],
   "source": [
    "False and True"
   ]
  },
  {
   "cell_type": "code",
   "execution_count": 6,
   "id": "a4a86293-4e8f-43a8-ba16-c75eb8a25ac0",
   "metadata": {},
   "outputs": [
    {
     "data": {
      "text/plain": [
       "True"
      ]
     },
     "execution_count": 6,
     "metadata": {},
     "output_type": "execute_result"
    }
   ],
   "source": [
    "True or False"
   ]
  },
  {
   "cell_type": "code",
   "execution_count": 7,
   "id": "d3e33eaf-46b7-4475-a1ec-080b7ca310d8",
   "metadata": {},
   "outputs": [
    {
     "data": {
      "text/plain": [
       "True"
      ]
     },
     "execution_count": 7,
     "metadata": {},
     "output_type": "execute_result"
    }
   ],
   "source": [
    "False or True"
   ]
  },
  {
   "cell_type": "code",
   "execution_count": 8,
   "id": "353930e6-b210-44b8-a726-ad1fc2368de2",
   "metadata": {},
   "outputs": [],
   "source": [
    "balance = 1000.00\n",
    "withdrawal = 50.0\n",
    "withdrawal_limit = 500"
   ]
  },
  {
   "cell_type": "code",
   "execution_count": 9,
   "id": "366cdcba-e85a-4a67-b7b3-871e50616423",
   "metadata": {},
   "outputs": [
    {
     "data": {
      "text/plain": [
       "True"
      ]
     },
     "execution_count": 9,
     "metadata": {},
     "output_type": "execute_result"
    }
   ],
   "source": [
    "(withdrawal < withdrawal_limit) and (withdrawal <= balance)"
   ]
  },
  {
   "cell_type": "code",
   "execution_count": 10,
   "id": "40cdf508-4479-4bff-b845-dd8f555d9235",
   "metadata": {},
   "outputs": [],
   "source": [
    "a = 20\n",
    "b = 0"
   ]
  },
  {
   "cell_type": "code",
   "execution_count": 11,
   "id": "42dc36c8-381b-4318-9b25-437271dad623",
   "metadata": {},
   "outputs": [
    {
     "ename": "ZeroDivisionError",
     "evalue": "division by zero",
     "output_type": "error",
     "traceback": [
      "\u001b[0;31m---------------------------------------------------------------------------\u001b[0m",
      "\u001b[0;31mZeroDivisionError\u001b[0m                         Traceback (most recent call last)",
      "Cell \u001b[0;32mIn[11], line 1\u001b[0m\n\u001b[0;32m----> 1\u001b[0m \u001b[43ma\u001b[49m\u001b[43m \u001b[49m\u001b[38;5;241;43m/\u001b[39;49m\u001b[43m \u001b[49m\u001b[43mb\u001b[49m \u001b[38;5;241m>\u001b[39m \u001b[38;5;241m1\u001b[39m\n",
      "\u001b[0;31mZeroDivisionError\u001b[0m: division by zero"
     ]
    }
   ],
   "source": [
    "a / b > 1"
   ]
  },
  {
   "cell_type": "code",
   "execution_count": 12,
   "id": "b93af549-796d-494a-8032-eb6360d4f875",
   "metadata": {},
   "outputs": [
    {
     "data": {
      "text/plain": [
       "False"
      ]
     },
     "execution_count": 12,
     "metadata": {},
     "output_type": "execute_result"
    }
   ],
   "source": [
    "b != 0 and a / b > 1"
   ]
  },
  {
   "cell_type": "code",
   "execution_count": null,
   "id": "399114f3-ddfc-402e-858d-4085ca88fa68",
   "metadata": {},
   "outputs": [],
   "source": []
  }
 ],
 "metadata": {
  "kernelspec": {
   "display_name": "Python 3 (ipykernel)",
   "language": "python",
   "name": "python3"
  },
  "language_info": {
   "codemirror_mode": {
    "name": "ipython",
    "version": 3
   },
   "file_extension": ".py",
   "mimetype": "text/x-python",
   "name": "python",
   "nbconvert_exporter": "python",
   "pygments_lexer": "ipython3",
   "version": "3.9.23"
  }
 },
 "nbformat": 4,
 "nbformat_minor": 5
}
