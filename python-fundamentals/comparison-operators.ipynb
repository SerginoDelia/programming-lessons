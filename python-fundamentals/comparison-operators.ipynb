{
 "cells": [
  {
   "cell_type": "markdown",
   "id": "2b2d2497-8ee3-4836-a29e-c74de4797a08",
   "metadata": {},
   "source": [
    "## Comparison Operators"
   ]
  },
  {
   "cell_type": "code",
   "execution_count": 1,
   "id": "fbad2ea0-2f55-4285-85e7-939c0d49cce6",
   "metadata": {},
   "outputs": [],
   "source": [
    "a = 10\n",
    "b = 10"
   ]
  },
  {
   "cell_type": "code",
   "execution_count": 2,
   "id": "81b97d0c-c680-448e-a108-1ca43f391396",
   "metadata": {},
   "outputs": [
    {
     "data": {
      "text/plain": [
       "True"
      ]
     },
     "execution_count": 2,
     "metadata": {},
     "output_type": "execute_result"
    }
   ],
   "source": [
    "a == b"
   ]
  },
  {
   "cell_type": "code",
   "execution_count": 3,
   "id": "e71077ef-d591-445d-8823-522fa1ca2d39",
   "metadata": {},
   "outputs": [],
   "source": [
    "c = 10.0"
   ]
  },
  {
   "cell_type": "code",
   "execution_count": 4,
   "id": "2b309766-ac78-486d-8c7d-c74cdc2817a1",
   "metadata": {},
   "outputs": [
    {
     "data": {
      "text/plain": [
       "True"
      ]
     },
     "execution_count": 4,
     "metadata": {},
     "output_type": "execute_result"
    }
   ],
   "source": [
    "a == c"
   ]
  },
  {
   "cell_type": "code",
   "execution_count": 5,
   "id": "2ceb37e3-a2a4-488d-97ea-e4494ce45b97",
   "metadata": {},
   "outputs": [
    {
     "data": {
      "text/plain": [
       "False"
      ]
     },
     "execution_count": 5,
     "metadata": {},
     "output_type": "execute_result"
    }
   ],
   "source": [
    "a is c"
   ]
  },
  {
   "cell_type": "code",
   "execution_count": 6,
   "id": "db9fbc60-54f4-4fa1-a12a-f8640c7b9499",
   "metadata": {},
   "outputs": [],
   "source": [
    "a = 10\n",
    "b = 10.0"
   ]
  },
  {
   "cell_type": "code",
   "execution_count": 7,
   "id": "06b3bfe9-1659-41b3-9f8d-dad00f7d8a85",
   "metadata": {},
   "outputs": [
    {
     "data": {
      "text/plain": [
       "False"
      ]
     },
     "execution_count": 7,
     "metadata": {},
     "output_type": "execute_result"
    }
   ],
   "source": [
    "a is b"
   ]
  },
  {
   "cell_type": "code",
   "execution_count": 10,
   "id": "3bd5dc1b-4e50-44d9-adcc-1003dae2f319",
   "metadata": {},
   "outputs": [
    {
     "data": {
      "text/plain": [
       "(4341656144, 4392471472)"
      ]
     },
     "execution_count": 10,
     "metadata": {},
     "output_type": "execute_result"
    }
   ],
   "source": [
    "# memory address\n",
    "id(a), id(b)"
   ]
  },
  {
   "cell_type": "code",
   "execution_count": 11,
   "id": "d2583493-8a18-4571-afb6-cabfbd598c95",
   "metadata": {},
   "outputs": [],
   "source": [
    "a = 10\n",
    "b = 10\n"
   ]
  },
  {
   "cell_type": "code",
   "execution_count": 12,
   "id": "57fa0ca4-9ffe-46d5-a910-64eea208893e",
   "metadata": {},
   "outputs": [
    {
     "data": {
      "text/plain": [
       "True"
      ]
     },
     "execution_count": 12,
     "metadata": {},
     "output_type": "execute_result"
    }
   ],
   "source": [
    "a is b"
   ]
  },
  {
   "cell_type": "code",
   "execution_count": 13,
   "id": "bb628a8a-4c3f-4fad-bd14-d0d6f9eccf2d",
   "metadata": {},
   "outputs": [],
   "source": [
    "a = 10_000\n",
    "b = 10_000"
   ]
  },
  {
   "cell_type": "code",
   "execution_count": 14,
   "id": "586daf4d-a217-41eb-ba87-c2a711ed98c3",
   "metadata": {},
   "outputs": [
    {
     "data": {
      "text/plain": [
       "False"
      ]
     },
     "execution_count": 14,
     "metadata": {},
     "output_type": "execute_result"
    }
   ],
   "source": [
    "a is b"
   ]
  },
  {
   "cell_type": "code",
   "execution_count": 15,
   "id": "62c6650e-1a7a-4761-bb0e-b40ebe7fa832",
   "metadata": {},
   "outputs": [
    {
     "data": {
      "text/plain": [
       "True"
      ]
     },
     "execution_count": 15,
     "metadata": {},
     "output_type": "execute_result"
    }
   ],
   "source": [
    "10 != 12"
   ]
  },
  {
   "cell_type": "code",
   "execution_count": 16,
   "id": "b14512e3-65fd-4294-91b9-6a403402ffe9",
   "metadata": {},
   "outputs": [
    {
     "data": {
      "text/plain": [
       "False"
      ]
     },
     "execution_count": 16,
     "metadata": {},
     "output_type": "execute_result"
    }
   ],
   "source": [
    "10.5 != 10.5"
   ]
  },
  {
   "cell_type": "code",
   "execution_count": 17,
   "id": "0879cc80-5719-4c35-9c36-be43e5fb4fce",
   "metadata": {},
   "outputs": [
    {
     "data": {
      "text/plain": [
       "True"
      ]
     },
     "execution_count": 17,
     "metadata": {},
     "output_type": "execute_result"
    }
   ],
   "source": [
    "10 >= 5"
   ]
  },
  {
   "cell_type": "code",
   "execution_count": 18,
   "id": "36d5073b-70db-4e1c-b2ba-feb98423a020",
   "metadata": {},
   "outputs": [
    {
     "data": {
      "text/plain": [
       "True"
      ]
     },
     "execution_count": 18,
     "metadata": {},
     "output_type": "execute_result"
    }
   ],
   "source": [
    "10.5 < 100"
   ]
  },
  {
   "cell_type": "code",
   "execution_count": null,
   "id": "76c4ef49-5a75-44ec-873a-9c51362d0c85",
   "metadata": {},
   "outputs": [],
   "source": []
  }
 ],
 "metadata": {
  "kernelspec": {
   "display_name": "Python 3 (ipykernel)",
   "language": "python",
   "name": "python3"
  },
  "language_info": {
   "codemirror_mode": {
    "name": "ipython",
    "version": 3
   },
   "file_extension": ".py",
   "mimetype": "text/x-python",
   "name": "python",
   "nbconvert_exporter": "python",
   "pygments_lexer": "ipython3",
   "version": "3.9.23"
  }
 },
 "nbformat": 4,
 "nbformat_minor": 5
}
