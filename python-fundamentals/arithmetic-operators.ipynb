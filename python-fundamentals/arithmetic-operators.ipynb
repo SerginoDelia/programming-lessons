{
 "cells": [
  {
   "cell_type": "markdown",
   "id": "6646f87e-7f06-48eb-91fa-6cb12cf2b68f",
   "metadata": {},
   "source": [
    "## Arithmetic Operators"
   ]
  },
  {
   "cell_type": "code",
   "execution_count": 67,
   "id": "2179635f-0760-4430-b4a5-322285e91eb3",
   "metadata": {},
   "outputs": [
    {
     "data": {
      "text/plain": [
       "1.5"
      ]
     },
     "execution_count": 67,
     "metadata": {},
     "output_type": "execute_result"
    }
   ],
   "source": [
    "1 + 0.5"
   ]
  },
  {
   "cell_type": "code",
   "execution_count": 68,
   "id": "bf3f5a3b-6dcd-40a6-9ad0-ea2f9dc96aa6",
   "metadata": {},
   "outputs": [
    {
     "data": {
      "text/plain": [
       "1.5"
      ]
     },
     "execution_count": 68,
     "metadata": {},
     "output_type": "execute_result"
    }
   ],
   "source": [
    "1.0 + 0.5"
   ]
  },
  {
   "cell_type": "code",
   "execution_count": 69,
   "id": "ad09bc06-2580-4a60-ab54-50e9a9166dce",
   "metadata": {},
   "outputs": [
    {
     "data": {
      "text/plain": [
       "2.25"
      ]
     },
     "execution_count": 69,
     "metadata": {},
     "output_type": "execute_result"
    }
   ],
   "source": [
    "2 * 1.125"
   ]
  },
  {
   "cell_type": "code",
   "execution_count": 70,
   "id": "e5f0feae-f46a-41bf-b42f-695f5559bce8",
   "metadata": {},
   "outputs": [
    {
     "data": {
      "text/plain": [
       "4.5"
      ]
     },
     "execution_count": 70,
     "metadata": {},
     "output_type": "execute_result"
    }
   ],
   "source": [
    "18 / 4"
   ]
  },
  {
   "cell_type": "code",
   "execution_count": 71,
   "id": "72e5e5b9-16d2-4341-a589-dbac2ec2466a",
   "metadata": {},
   "outputs": [
    {
     "data": {
      "text/plain": [
       "256"
      ]
     },
     "execution_count": 71,
     "metadata": {},
     "output_type": "execute_result"
    }
   ],
   "source": [
    "2 ** 8"
   ]
  },
  {
   "cell_type": "code",
   "execution_count": 72,
   "id": "8dfbbe06-545c-4209-bfb6-8bb4c910c7d0",
   "metadata": {},
   "outputs": [
    {
     "data": {
      "text/plain": [
       "0.00390625"
      ]
     },
     "execution_count": 72,
     "metadata": {},
     "output_type": "execute_result"
    }
   ],
   "source": [
    "2 ** (-8)"
   ]
  },
  {
   "cell_type": "code",
   "execution_count": 73,
   "id": "36f6a7e8-4d8b-4126-96ce-614ad1055fa2",
   "metadata": {},
   "outputs": [
    {
     "data": {
      "text/plain": [
       "2.0"
      ]
     },
     "execution_count": 73,
     "metadata": {},
     "output_type": "execute_result"
    }
   ],
   "source": [
    "4 ** 0.5"
   ]
  },
  {
   "cell_type": "code",
   "execution_count": 74,
   "id": "ad755a22-8d16-4717-ba17-0775a5acea00",
   "metadata": {},
   "outputs": [
    {
     "data": {
      "text/plain": [
       "(1.2246467991473532e-16+2j)"
      ]
     },
     "execution_count": 74,
     "metadata": {},
     "output_type": "execute_result"
    }
   ],
   "source": [
    "(-4) ** 0.5"
   ]
  },
  {
   "cell_type": "code",
   "execution_count": 75,
   "id": "a28870c1-dac2-43be-9085-935cd9b38fa1",
   "metadata": {},
   "outputs": [
    {
     "data": {
      "text/plain": [
       "(1.2246467991473532e-16+2j)"
      ]
     },
     "execution_count": 75,
     "metadata": {},
     "output_type": "execute_result"
    }
   ],
   "source": [
    "c = (-4) ** 0.5\n",
    "c"
   ]
  },
  {
   "cell_type": "code",
   "execution_count": 76,
   "id": "2e425868-9d5e-4cca-ae31-db389ec12e63",
   "metadata": {},
   "outputs": [
    {
     "data": {
      "text/plain": [
       "float"
      ]
     },
     "execution_count": 76,
     "metadata": {},
     "output_type": "execute_result"
    }
   ],
   "source": [
    "type(10.0)"
   ]
  },
  {
   "cell_type": "code",
   "execution_count": 77,
   "id": "fcc6a292-4fae-43bc-a3ef-8a5b9a828004",
   "metadata": {},
   "outputs": [
    {
     "data": {
      "text/plain": [
       "(10+2j)"
      ]
     },
     "execution_count": 77,
     "metadata": {},
     "output_type": "execute_result"
    }
   ],
   "source": [
    "# complex numbers\n",
    "c = 10 + 2j\n",
    "c"
   ]
  },
  {
   "cell_type": "code",
   "execution_count": 78,
   "id": "cb6fa2e7-fb44-4e9c-a31f-8d2aead016b8",
   "metadata": {},
   "outputs": [
    {
     "data": {
      "text/plain": [
       "3"
      ]
     },
     "execution_count": 78,
     "metadata": {},
     "output_type": "execute_result"
    }
   ],
   "source": [
    "a = 1\n",
    "a.__add__(2)"
   ]
  },
  {
   "cell_type": "code",
   "execution_count": 79,
   "id": "3ee0ed6c-7169-46da-b796-2466043844dd",
   "metadata": {},
   "outputs": [],
   "source": [
    "class Vector:\n",
    "    def __init__(self, x, y):\n",
    "        self.x = x\n",
    "        self.y = y\n",
    "\n",
    "    def __repr__(self):\n",
    "        return f'Vector({self.x}, {self.y})'\n",
    "        "
   ]
  },
  {
   "cell_type": "code",
   "execution_count": 80,
   "id": "8fc477ae-e441-4964-8ae3-b8f24f1304f3",
   "metadata": {},
   "outputs": [],
   "source": [
    "v1 = Vector(1,1)\n",
    "v2 = Vector(2, 3)"
   ]
  },
  {
   "cell_type": "code",
   "execution_count": 81,
   "id": "dfaf8034-4021-4494-8c1c-1b298af5d968",
   "metadata": {},
   "outputs": [
    {
     "data": {
      "text/plain": [
       "Vector(1, 1)"
      ]
     },
     "execution_count": 81,
     "metadata": {},
     "output_type": "execute_result"
    }
   ],
   "source": [
    "v1"
   ]
  },
  {
   "cell_type": "code",
   "execution_count": 82,
   "id": "7b7db951-8bcd-4649-b123-240e645b5373",
   "metadata": {},
   "outputs": [
    {
     "data": {
      "text/plain": [
       "Vector(2, 3)"
      ]
     },
     "execution_count": 82,
     "metadata": {},
     "output_type": "execute_result"
    }
   ],
   "source": [
    "v2"
   ]
  },
  {
   "cell_type": "code",
   "execution_count": 83,
   "id": "21007d06-7a7d-479e-aee0-d45105128733",
   "metadata": {},
   "outputs": [
    {
     "ename": "TypeError",
     "evalue": "unsupported operand type(s) for +: 'Vector' and 'Vector'",
     "output_type": "error",
     "traceback": [
      "\u001b[0;31m---------------------------------------------------------------------------\u001b[0m",
      "\u001b[0;31mTypeError\u001b[0m                                 Traceback (most recent call last)",
      "Cell \u001b[0;32mIn[83], line 1\u001b[0m\n\u001b[0;32m----> 1\u001b[0m \u001b[43mv1\u001b[49m\u001b[43m \u001b[49m\u001b[38;5;241;43m+\u001b[39;49m\u001b[43m \u001b[49m\u001b[43mv2\u001b[49m\n",
      "\u001b[0;31mTypeError\u001b[0m: unsupported operand type(s) for +: 'Vector' and 'Vector'"
     ]
    }
   ],
   "source": [
    "v1 + v2"
   ]
  },
  {
   "cell_type": "code",
   "execution_count": null,
   "id": "b3bea93c-9395-4db8-a434-fc335c5e27e5",
   "metadata": {},
   "outputs": [],
   "source": [
    "class Vector:\n",
    "    def __init__(self, x, y):\n",
    "        self.x = x\n",
    "        self.y = y\n",
    "        \n",
    "    def __add__(self, other):\n",
    "        if isinstance(other, Vector):\n",
    "            return Vector(self.x + other.x, self.y + other.y)\n",
    "        \n",
    "    def __repr__(self):\n",
    "        return f'Vector({self.x}, {self.y})'"
   ]
  },
  {
   "cell_type": "code",
   "execution_count": null,
   "id": "40ed8da8-eaf5-4ad1-adce-cfe105421b44",
   "metadata": {},
   "outputs": [],
   "source": [
    "v1 = Vector(1,1)\n",
    "v2 = Vector(2, 3)"
   ]
  },
  {
   "cell_type": "code",
   "execution_count": 84,
   "id": "84b6ec2a-2a72-41e2-94fe-6beffd44928e",
   "metadata": {},
   "outputs": [
    {
     "ename": "TypeError",
     "evalue": "unsupported operand type(s) for +: 'Vector' and 'Vector'",
     "output_type": "error",
     "traceback": [
      "\u001b[0;31m---------------------------------------------------------------------------\u001b[0m",
      "\u001b[0;31mTypeError\u001b[0m                                 Traceback (most recent call last)",
      "Cell \u001b[0;32mIn[84], line 1\u001b[0m\n\u001b[0;32m----> 1\u001b[0m \u001b[43mv1\u001b[49m\u001b[43m \u001b[49m\u001b[38;5;241;43m+\u001b[39;49m\u001b[43m \u001b[49m\u001b[43mv2\u001b[49m\n",
      "\u001b[0;31mTypeError\u001b[0m: unsupported operand type(s) for +: 'Vector' and 'Vector'"
     ]
    }
   ],
   "source": [
    "v1 + v2"
   ]
  },
  {
   "cell_type": "code",
   "execution_count": null,
   "id": "eadbae0b-50e8-445b-b1ef-cb943e751d43",
   "metadata": {},
   "outputs": [],
   "source": []
  }
 ],
 "metadata": {
  "kernelspec": {
   "display_name": "Python 3 (ipykernel)",
   "language": "python",
   "name": "python3"
  },
  "language_info": {
   "codemirror_mode": {
    "name": "ipython",
    "version": 3
   },
   "file_extension": ".py",
   "mimetype": "text/x-python",
   "name": "python",
   "nbconvert_exporter": "python",
   "pygments_lexer": "ipython3",
   "version": "3.9.23"
  }
 },
 "nbformat": 4,
 "nbformat_minor": 5
}
