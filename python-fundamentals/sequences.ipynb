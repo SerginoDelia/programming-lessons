{
 "cells": [
  {
   "cell_type": "markdown",
   "id": "d6777bd1-14f9-4ff9-95da-4ca135056fa9",
   "metadata": {},
   "source": [
    "## Sequences"
   ]
  },
  {
   "cell_type": "markdown",
   "id": "01287c12-32dd-40ce-a315-7cf7c5e121d1",
   "metadata": {},
   "source": [
    "Lists\n",
    "\n",
    "my_list = [0, 1, 2, 3]"
   ]
  },
  {
   "cell_type": "code",
   "execution_count": 4,
   "id": "142978a3-68c2-4ca1-bc75-40ac3b90dadf",
   "metadata": {},
   "outputs": [],
   "source": [
    "my_list = [5, 1, 2, 3]"
   ]
  },
  {
   "cell_type": "markdown",
   "id": "7db49fbb-7842-45a7-bd55-e80a68f9fa86",
   "metadata": {},
   "source": [
    "## List"
   ]
  },
  {
   "cell_type": "code",
   "execution_count": 2,
   "id": "aafc1aa6-cb69-4680-93d2-932bfc2eb4be",
   "metadata": {},
   "outputs": [],
   "source": [
    "# list"
   ]
  },
  {
   "cell_type": "code",
   "execution_count": 8,
   "id": "3a5cc935-917d-4fbd-a86e-237dfaa2ad4f",
   "metadata": {},
   "outputs": [
    {
     "ename": "IndexError",
     "evalue": "list index out of range",
     "output_type": "error",
     "traceback": [
      "\u001b[0;31m---------------------------------------------------------------------------\u001b[0m",
      "\u001b[0;31mIndexError\u001b[0m                                Traceback (most recent call last)",
      "Cell \u001b[0;32mIn[8], line 1\u001b[0m\n\u001b[0;32m----> 1\u001b[0m \u001b[38;5;28mprint\u001b[39m(my_list[\u001b[38;5;241m4\u001b[39m])\n",
      "\u001b[0;31mIndexError\u001b[0m: list index out of range"
     ]
    }
   ],
   "source": [
    "print(my_list[4])"
   ]
  },
  {
   "cell_type": "code",
   "execution_count": 9,
   "id": "d361b603-a03a-4a7a-bcbf-4a7655f544aa",
   "metadata": {},
   "outputs": [
    {
     "name": "stdout",
     "output_type": "stream",
     "text": [
      "4\n"
     ]
    }
   ],
   "source": [
    "print(len(my_list))"
   ]
  },
  {
   "cell_type": "code",
   "execution_count": 10,
   "id": "e527167e-ccff-4840-a407-2fb0a5b2f279",
   "metadata": {},
   "outputs": [],
   "source": [
    "my_list[0] = 1"
   ]
  },
  {
   "cell_type": "code",
   "execution_count": 12,
   "id": "974f8c11-9c5a-4bc6-ac10-21505dda3aaf",
   "metadata": {},
   "outputs": [
    {
     "name": "stdout",
     "output_type": "stream",
     "text": [
      "[1, 1, 2, 3]\n"
     ]
    }
   ],
   "source": [
    "print(my_list)"
   ]
  },
  {
   "cell_type": "code",
   "execution_count": 13,
   "id": "ff27c15d-cf77-4f12-ac7c-3bbc6b171702",
   "metadata": {},
   "outputs": [
    {
     "name": "stdout",
     "output_type": "stream",
     "text": [
      "1\n"
     ]
    }
   ],
   "source": [
    "print(my_list[0])"
   ]
  },
  {
   "cell_type": "code",
   "execution_count": 14,
   "id": "45735854-69dc-4f5b-89e3-be8271a60349",
   "metadata": {},
   "outputs": [],
   "source": [
    "my_list[2] = 99"
   ]
  },
  {
   "cell_type": "code",
   "execution_count": 16,
   "id": "30306684-c06a-4e9c-8bff-f5cff3a01941",
   "metadata": {},
   "outputs": [
    {
     "name": "stdout",
     "output_type": "stream",
     "text": [
      "[1, 1, 99, 3]\n"
     ]
    }
   ],
   "source": [
    "print(my_list)"
   ]
  },
  {
   "cell_type": "code",
   "execution_count": 17,
   "id": "44dd0164-529d-4440-b578-dde89d249efe",
   "metadata": {},
   "outputs": [],
   "source": [
    "my_list = [True, 'name', 8]"
   ]
  },
  {
   "cell_type": "code",
   "execution_count": 18,
   "id": "456bdb63-e297-4fa0-8a89-5e2a86d5a6d9",
   "metadata": {},
   "outputs": [
    {
     "name": "stdout",
     "output_type": "stream",
     "text": [
      "8\n"
     ]
    }
   ],
   "source": [
    "print(my_list[2])"
   ]
  },
  {
   "cell_type": "code",
   "execution_count": 19,
   "id": "9c86e9db-2792-4efb-a659-71eedb90ee50",
   "metadata": {},
   "outputs": [
    {
     "name": "stdout",
     "output_type": "stream",
     "text": [
      "8\n"
     ]
    }
   ],
   "source": [
    "print(my_list[-1])"
   ]
  },
  {
   "cell_type": "code",
   "execution_count": 20,
   "id": "e5fd365c-585b-44c9-9925-3667782ec28d",
   "metadata": {},
   "outputs": [
    {
     "name": "stdout",
     "output_type": "stream",
     "text": [
      "name\n"
     ]
    }
   ],
   "source": [
    "print(my_list[-2])"
   ]
  },
  {
   "cell_type": "code",
   "execution_count": 21,
   "id": "8f6bd1ba-cc23-4570-8aea-3d60c58ad004",
   "metadata": {},
   "outputs": [
    {
     "data": {
      "text/plain": [
       "3"
      ]
     },
     "execution_count": 21,
     "metadata": {},
     "output_type": "execute_result"
    }
   ],
   "source": [
    "len(my_list)"
   ]
  },
  {
   "cell_type": "code",
   "execution_count": 24,
   "id": "91fd0ad6-9741-4b05-9762-85053c796eff",
   "metadata": {},
   "outputs": [
    {
     "name": "stdout",
     "output_type": "stream",
     "text": [
      "8\n"
     ]
    }
   ],
   "source": [
    "print(my_list[len(my_list) - 1])"
   ]
  },
  {
   "cell_type": "code",
   "execution_count": 25,
   "id": "3ba534f3-981f-4471-bef7-da8b686f8598",
   "metadata": {},
   "outputs": [],
   "source": [
    "my_list.append('John')"
   ]
  },
  {
   "cell_type": "code",
   "execution_count": 26,
   "id": "73675efe-7883-401c-b3b7-d52fbf5e2c60",
   "metadata": {},
   "outputs": [
    {
     "data": {
      "text/plain": [
       "[True, 'name', 8, 'John']"
      ]
     },
     "execution_count": 26,
     "metadata": {},
     "output_type": "execute_result"
    }
   ],
   "source": [
    "my_list"
   ]
  },
  {
   "cell_type": "code",
   "execution_count": 27,
   "id": "e623a187-01c0-43ce-ac35-094725e268c4",
   "metadata": {},
   "outputs": [],
   "source": [
    "# insert"
   ]
  },
  {
   "cell_type": "code",
   "execution_count": 28,
   "id": "a164aea1-30b2-4388-a838-9ba446fbae0e",
   "metadata": {},
   "outputs": [],
   "source": [
    "my_list.insert(2, 'Seven')"
   ]
  },
  {
   "cell_type": "code",
   "execution_count": 29,
   "id": "57a188c6-43f9-4c7c-92c0-6c6b873ca852",
   "metadata": {},
   "outputs": [
    {
     "data": {
      "text/plain": [
       "[True, 'name', 'Seven', 8, 'John']"
      ]
     },
     "execution_count": 29,
     "metadata": {},
     "output_type": "execute_result"
    }
   ],
   "source": [
    "my_list"
   ]
  },
  {
   "cell_type": "code",
   "execution_count": 30,
   "id": "57c35f95-3f5c-48da-936b-903dff1e0349",
   "metadata": {},
   "outputs": [
    {
     "data": {
      "text/plain": [
       "'John'"
      ]
     },
     "execution_count": 30,
     "metadata": {},
     "output_type": "execute_result"
    }
   ],
   "source": [
    "my_list.pop()"
   ]
  },
  {
   "cell_type": "code",
   "execution_count": 31,
   "id": "c4f629a6-15b2-4639-ba50-d53ab945b6a1",
   "metadata": {},
   "outputs": [
    {
     "data": {
      "text/plain": [
       "[True, 'name', 'Seven', 8]"
      ]
     },
     "execution_count": 31,
     "metadata": {},
     "output_type": "execute_result"
    }
   ],
   "source": [
    "my_list"
   ]
  },
  {
   "cell_type": "code",
   "execution_count": 32,
   "id": "9e8ee4f5-b9b5-4bb1-aba8-4bcc3eaf22e5",
   "metadata": {},
   "outputs": [],
   "source": [
    "jasmine = my_list"
   ]
  },
  {
   "cell_type": "code",
   "execution_count": 33,
   "id": "7ccae140-ed97-4476-a806-bd3a1a063fb5",
   "metadata": {},
   "outputs": [
    {
     "data": {
      "text/plain": [
       "[True, 'name', 'Seven', 8]"
      ]
     },
     "execution_count": 33,
     "metadata": {},
     "output_type": "execute_result"
    }
   ],
   "source": [
    "jasmine"
   ]
  },
  {
   "cell_type": "code",
   "execution_count": 37,
   "id": "6422f501-2c71-4bf7-80bb-5d67ad3fdcff",
   "metadata": {},
   "outputs": [],
   "source": [
    "yahshua_home = ['xbox', 'couch', 'tv', 'streaming']"
   ]
  },
  {
   "cell_type": "code",
   "execution_count": 38,
   "id": "630a7c70-2886-43fa-890e-aaf16e985f71",
   "metadata": {},
   "outputs": [],
   "source": [
    "jasmine = yahshua_home"
   ]
  },
  {
   "cell_type": "code",
   "execution_count": 39,
   "id": "689b0c82-9bb6-4ec8-aa9b-5c9817df477b",
   "metadata": {},
   "outputs": [
    {
     "data": {
      "text/plain": [
       "['xbox', 'couch', 'tv', 'streaming']"
      ]
     },
     "execution_count": 39,
     "metadata": {},
     "output_type": "execute_result"
    }
   ],
   "source": [
    "jasmine"
   ]
  },
  {
   "cell_type": "code",
   "execution_count": 40,
   "id": "a3f8c5a6-1738-4d81-a456-7c290e968c12",
   "metadata": {},
   "outputs": [],
   "source": [
    "jasmine.append('toothbrush')"
   ]
  },
  {
   "cell_type": "code",
   "execution_count": 41,
   "id": "f9b53a23-29d7-4385-b89d-8475282e2266",
   "metadata": {},
   "outputs": [
    {
     "data": {
      "text/plain": [
       "['xbox', 'couch', 'tv', 'streaming', 'toothbrush']"
      ]
     },
     "execution_count": 41,
     "metadata": {},
     "output_type": "execute_result"
    }
   ],
   "source": [
    "jasmine"
   ]
  },
  {
   "cell_type": "code",
   "execution_count": 42,
   "id": "1216bfbd-f413-43bd-903c-689b107a8a38",
   "metadata": {},
   "outputs": [
    {
     "data": {
      "text/plain": [
       "['xbox', 'couch', 'tv', 'streaming', 'toothbrush']"
      ]
     },
     "execution_count": 42,
     "metadata": {},
     "output_type": "execute_result"
    }
   ],
   "source": [
    "yahshua_home"
   ]
  },
  {
   "cell_type": "code",
   "execution_count": 43,
   "id": "aa9bf8e4-b1de-4400-b680-c4f049a630ac",
   "metadata": {},
   "outputs": [],
   "source": [
    "jasmine.append('table')"
   ]
  },
  {
   "cell_type": "code",
   "execution_count": 44,
   "id": "7248751f-0678-4bea-886f-40f222e39524",
   "metadata": {},
   "outputs": [
    {
     "data": {
      "text/plain": [
       "['xbox', 'couch', 'tv', 'streaming', 'toothbrush', 'table']"
      ]
     },
     "execution_count": 44,
     "metadata": {},
     "output_type": "execute_result"
    }
   ],
   "source": [
    "jasmine"
   ]
  },
  {
   "cell_type": "code",
   "execution_count": 61,
   "id": "8c293760-8385-4c75-926f-369dba2f9e39",
   "metadata": {},
   "outputs": [
    {
     "name": "stdout",
     "output_type": "stream",
     "text": [
      "['streaming']\n"
     ]
    },
    {
     "ename": "ValueError",
     "evalue": "list.remove(x): x not in list",
     "output_type": "error",
     "traceback": [
      "\u001b[0;31m---------------------------------------------------------------------------\u001b[0m",
      "\u001b[0;31mValueError\u001b[0m                                Traceback (most recent call last)",
      "Cell \u001b[0;32mIn[61], line 3\u001b[0m\n\u001b[1;32m      1\u001b[0m \u001b[38;5;28mprint\u001b[39m(jasmine)\n\u001b[0;32m----> 3\u001b[0m jasmine\u001b[38;5;241m.\u001b[39mremove(\u001b[38;5;124m'\u001b[39m\u001b[38;5;124mcouch\u001b[39m\u001b[38;5;124m'\u001b[39m)\n\u001b[1;32m      5\u001b[0m \u001b[38;5;28mprint\u001b[39m(jasmine)\n",
      "\u001b[0;31mValueError\u001b[0m: list.remove(x): x not in list"
     ]
    }
   ],
   "source": [
    "print(jasmine)\n",
    "\n",
    "jasmine.remove('couch')\n",
    "\n",
    "print(jasmine)"
   ]
  },
  {
   "cell_type": "code",
   "execution_count": 45,
   "id": "06841c91-641c-4277-bd70-e0fd71fcb909",
   "metadata": {},
   "outputs": [
    {
     "data": {
      "text/plain": [
       "['xbox', 'couch', 'tv', 'streaming', 'toothbrush', 'table']"
      ]
     },
     "execution_count": 45,
     "metadata": {},
     "output_type": "execute_result"
    }
   ],
   "source": [
    "yahshua_home"
   ]
  },
  {
   "cell_type": "code",
   "execution_count": 46,
   "id": "5073bb63-e9f8-4fc9-a6b4-cb44f749c6c7",
   "metadata": {},
   "outputs": [
    {
     "data": {
      "text/plain": [
       "'table'"
      ]
     },
     "execution_count": 46,
     "metadata": {},
     "output_type": "execute_result"
    }
   ],
   "source": [
    "yahshua_home.pop()"
   ]
  },
  {
   "cell_type": "code",
   "execution_count": 56,
   "id": "fd1405cf-c693-4c10-bb4a-43eb18644927",
   "metadata": {},
   "outputs": [
    {
     "data": {
      "text/plain": [
       "['tv', 'streaming']"
      ]
     },
     "execution_count": 56,
     "metadata": {},
     "output_type": "execute_result"
    }
   ],
   "source": [
    "yahshua_home"
   ]
  },
  {
   "cell_type": "code",
   "execution_count": 59,
   "id": "e4a130ce-f0bb-4afb-97e2-75e5ff6c7796",
   "metadata": {},
   "outputs": [
    {
     "data": {
      "text/plain": [
       "['streaming']"
      ]
     },
     "execution_count": 59,
     "metadata": {},
     "output_type": "execute_result"
    }
   ],
   "source": [
    "jasmine"
   ]
  },
  {
   "cell_type": "code",
   "execution_count": 57,
   "id": "f6529404-2a52-4000-a305-a8f674b5ebbb",
   "metadata": {},
   "outputs": [
    {
     "data": {
      "text/plain": [
       "'tv'"
      ]
     },
     "execution_count": 57,
     "metadata": {},
     "output_type": "execute_result"
    }
   ],
   "source": [
    "jasmine.pop(0)"
   ]
  },
  {
   "cell_type": "code",
   "execution_count": 52,
   "id": "fe2d9eba-e1fb-4acb-baed-d5bfc47ca530",
   "metadata": {},
   "outputs": [
    {
     "data": {
      "text/plain": [
       "['tv', 'streaming', 'toothbrush']"
      ]
     },
     "execution_count": 52,
     "metadata": {},
     "output_type": "execute_result"
    }
   ],
   "source": [
    "yahshua_home"
   ]
  },
  {
   "cell_type": "code",
   "execution_count": 53,
   "id": "8b056de1-2a71-41b0-b34d-a60491650f45",
   "metadata": {},
   "outputs": [
    {
     "data": {
      "text/plain": [
       "'toothbrush'"
      ]
     },
     "execution_count": 53,
     "metadata": {},
     "output_type": "execute_result"
    }
   ],
   "source": [
    "yahshua_home.pop()"
   ]
  },
  {
   "cell_type": "code",
   "execution_count": 62,
   "id": "2f711d8d-b43c-4054-8f72-2162f07f623f",
   "metadata": {},
   "outputs": [],
   "source": [
    "jasmine = ['xbox', 'couch', 'tv', 'streaming', 'toothbrush', 'table']"
   ]
  },
  {
   "cell_type": "code",
   "execution_count": 64,
   "id": "444352e1-bfdb-4415-9662-94f0f2cff62e",
   "metadata": {},
   "outputs": [
    {
     "name": "stdout",
     "output_type": "stream",
     "text": [
      "['xbox', 'couch', 'tv', 'streaming', 'toothbrush', 'table']\n",
      "['xbox', 'tv', 'streaming', 'toothbrush', 'table']\n"
     ]
    }
   ],
   "source": [
    "print(jasmine)\n",
    "\n",
    "jasmine.remove('couch')\n",
    "\n",
    "print(jasmine)"
   ]
  },
  {
   "cell_type": "code",
   "execution_count": 65,
   "id": "767434e1-3b55-4fff-9564-10bfe43f9bd1",
   "metadata": {},
   "outputs": [],
   "source": [
    "jasmine_home = yahshua_home.copy()"
   ]
  },
  {
   "cell_type": "code",
   "execution_count": 66,
   "id": "a6943137-cf49-4d7d-8928-9ff01a9f03e3",
   "metadata": {},
   "outputs": [
    {
     "data": {
      "text/plain": [
       "['streaming']"
      ]
     },
     "execution_count": 66,
     "metadata": {},
     "output_type": "execute_result"
    }
   ],
   "source": [
    "jasmine_home"
   ]
  },
  {
   "cell_type": "code",
   "execution_count": 68,
   "id": "993dc808-b8d5-4861-b8fd-6e908c68b413",
   "metadata": {},
   "outputs": [],
   "source": [
    "yahshua_home = ['xbox', 'couch', 'tv', 'streaming', 'toothbrush', 'table']\n"
   ]
  },
  {
   "cell_type": "code",
   "execution_count": 69,
   "id": "7ceb3dd2-5e83-4bcf-9f5b-25d48db979fc",
   "metadata": {},
   "outputs": [],
   "source": [
    "jasmine_home = yahshua_home.copy()"
   ]
  },
  {
   "cell_type": "code",
   "execution_count": 70,
   "id": "b7dfa040-6f00-4b52-b9f5-b94cdadb1196",
   "metadata": {},
   "outputs": [
    {
     "data": {
      "text/plain": [
       "['xbox', 'couch', 'tv', 'streaming', 'toothbrush', 'table']"
      ]
     },
     "execution_count": 70,
     "metadata": {},
     "output_type": "execute_result"
    }
   ],
   "source": [
    "jasmine_home\n"
   ]
  },
  {
   "cell_type": "code",
   "execution_count": 71,
   "id": "852f9143-641c-4704-8e51-ac69dc23921e",
   "metadata": {},
   "outputs": [
    {
     "name": "stdout",
     "output_type": "stream",
     "text": [
      "['xbox', 'tv', 'streaming', 'toothbrush']\n"
     ]
    }
   ],
   "source": [
    "jasmine.pop()\n",
    "print(jasmine)"
   ]
  },
  {
   "cell_type": "code",
   "execution_count": 72,
   "id": "b4439d81-8ec1-415b-930f-04a74e427401",
   "metadata": {},
   "outputs": [
    {
     "data": {
      "text/plain": [
       "['xbox', 'couch', 'tv', 'streaming', 'toothbrush', 'table']"
      ]
     },
     "execution_count": 72,
     "metadata": {},
     "output_type": "execute_result"
    }
   ],
   "source": [
    "yahshua_home"
   ]
  },
  {
   "cell_type": "code",
   "execution_count": 73,
   "id": "493d9988-8166-4f2c-9fdb-94b5c8a98aae",
   "metadata": {},
   "outputs": [],
   "source": [
    "jasmine = []"
   ]
  },
  {
   "cell_type": "code",
   "execution_count": 74,
   "id": "8d1ecbf1-e61a-46bd-b29c-761d4b02f2cd",
   "metadata": {},
   "outputs": [
    {
     "data": {
      "text/plain": [
       "[]"
      ]
     },
     "execution_count": 74,
     "metadata": {},
     "output_type": "execute_result"
    }
   ],
   "source": [
    "jasmine"
   ]
  },
  {
   "cell_type": "code",
   "execution_count": 75,
   "id": "9850495a-ebab-4741-8ed9-b293410d3218",
   "metadata": {},
   "outputs": [
    {
     "data": {
      "text/plain": [
       "['xbox', 'couch', 'tv', 'streaming', 'toothbrush', 'table']"
      ]
     },
     "execution_count": 75,
     "metadata": {},
     "output_type": "execute_result"
    }
   ],
   "source": [
    "yahshua_home"
   ]
  },
  {
   "cell_type": "markdown",
   "id": "ab593111-89cd-4fb1-a0bf-4036a4b94b3f",
   "metadata": {},
   "source": [
    "## Tuples\n",
    "\n",
    "(Read-only lists)"
   ]
  },
  {
   "cell_type": "code",
   "execution_count": 93,
   "id": "1f0dc134-2214-4ca2-a01b-9113483d9682",
   "metadata": {},
   "outputs": [],
   "source": [
    "# []\n",
    "# ()\n",
    "\n",
    "yahshua_home = ('xbox', 'couch', 'tv', 'streaming', 'toothbrush', 'table')"
   ]
  },
  {
   "cell_type": "code",
   "execution_count": 94,
   "id": "538196ca-4e7f-4f72-8da9-8a5a1a351d13",
   "metadata": {},
   "outputs": [
    {
     "data": {
      "text/plain": [
       "('xbox', 'couch', 'tv', 'streaming', 'toothbrush', 'table')"
      ]
     },
     "execution_count": 94,
     "metadata": {},
     "output_type": "execute_result"
    }
   ],
   "source": [
    "yahshua_home"
   ]
  },
  {
   "cell_type": "code",
   "execution_count": 95,
   "id": "bd5bac0c-b08f-4b07-92d5-5749c29b962c",
   "metadata": {},
   "outputs": [],
   "source": [
    "maria = tuple(yahshua_home)"
   ]
  },
  {
   "cell_type": "code",
   "execution_count": 96,
   "id": "e4a91699-39c3-43d4-9aa2-97c7f6b310ce",
   "metadata": {},
   "outputs": [
    {
     "data": {
      "text/plain": [
       "('xbox', 'couch', 'tv', 'streaming', 'toothbrush', 'table')"
      ]
     },
     "execution_count": 96,
     "metadata": {},
     "output_type": "execute_result"
    }
   ],
   "source": [
    "maria"
   ]
  },
  {
   "cell_type": "code",
   "execution_count": 97,
   "id": "92b70786-9b95-4322-9a9a-dc0a60b059e5",
   "metadata": {},
   "outputs": [
    {
     "ename": "AttributeError",
     "evalue": "'tuple' object has no attribute 'pop'",
     "output_type": "error",
     "traceback": [
      "\u001b[0;31m---------------------------------------------------------------------------\u001b[0m",
      "\u001b[0;31mAttributeError\u001b[0m                            Traceback (most recent call last)",
      "Cell \u001b[0;32mIn[97], line 1\u001b[0m\n\u001b[0;32m----> 1\u001b[0m maria\u001b[38;5;241m.\u001b[39mpop(\u001b[38;5;241m0\u001b[39m)\n",
      "\u001b[0;31mAttributeError\u001b[0m: 'tuple' object has no attribute 'pop'"
     ]
    }
   ],
   "source": [
    "maria.pop(0)"
   ]
  },
  {
   "cell_type": "code",
   "execution_count": 98,
   "id": "1e3e38e8-a1a5-4a72-a10a-aa7f639b4a0b",
   "metadata": {},
   "outputs": [
    {
     "ename": "AttributeError",
     "evalue": "'tuple' object has no attribute 'append'",
     "output_type": "error",
     "traceback": [
      "\u001b[0;31m---------------------------------------------------------------------------\u001b[0m",
      "\u001b[0;31mAttributeError\u001b[0m                            Traceback (most recent call last)",
      "Cell \u001b[0;32mIn[98], line 1\u001b[0m\n\u001b[0;32m----> 1\u001b[0m maria\u001b[38;5;241m.\u001b[39mappend(\u001b[38;5;124m'\u001b[39m\u001b[38;5;124mPlaystation 5\u001b[39m\u001b[38;5;124m'\u001b[39m)\n",
      "\u001b[0;31mAttributeError\u001b[0m: 'tuple' object has no attribute 'append'"
     ]
    }
   ],
   "source": [
    "maria.append('Playstation 5')"
   ]
  },
  {
   "cell_type": "code",
   "execution_count": 99,
   "id": "ec5a47d4-9f85-4370-9d6d-5ad51a4871cf",
   "metadata": {},
   "outputs": [],
   "source": [
    "maria = list(maria)"
   ]
  },
  {
   "cell_type": "code",
   "execution_count": 100,
   "id": "3b1e3fe2-9575-473e-baeb-79cd0f9f6d96",
   "metadata": {},
   "outputs": [
    {
     "data": {
      "text/plain": [
       "['xbox', 'couch', 'tv', 'streaming', 'toothbrush', 'table']"
      ]
     },
     "execution_count": 100,
     "metadata": {},
     "output_type": "execute_result"
    }
   ],
   "source": [
    "maria"
   ]
  },
  {
   "cell_type": "code",
   "execution_count": 101,
   "id": "9094350b-09b6-444a-b1b5-8997aaa484c7",
   "metadata": {},
   "outputs": [
    {
     "data": {
      "text/plain": [
       "'xbox'"
      ]
     },
     "execution_count": 101,
     "metadata": {},
     "output_type": "execute_result"
    }
   ],
   "source": [
    "maria.pop(0)"
   ]
  },
  {
   "cell_type": "code",
   "execution_count": 102,
   "id": "66f50d6d-3829-40a1-9149-51facdcfff35",
   "metadata": {},
   "outputs": [
    {
     "data": {
      "text/plain": [
       "['couch', 'tv', 'streaming', 'toothbrush', 'table']"
      ]
     },
     "execution_count": 102,
     "metadata": {},
     "output_type": "execute_result"
    }
   ],
   "source": [
    "maria"
   ]
  },
  {
   "cell_type": "code",
   "execution_count": 103,
   "id": "1155144b-cb4b-4fae-b28c-5aa4c66f37ad",
   "metadata": {},
   "outputs": [
    {
     "data": {
      "text/plain": [
       "('xbox', 'couch', 'tv', 'streaming', 'toothbrush', 'table')"
      ]
     },
     "execution_count": 103,
     "metadata": {},
     "output_type": "execute_result"
    }
   ],
   "source": [
    "yahshua_home"
   ]
  },
  {
   "cell_type": "code",
   "execution_count": 104,
   "id": "c643bf33-50cf-4224-a51d-2ec6570f364d",
   "metadata": {},
   "outputs": [],
   "source": [
    "yahshua_home = ('xbox', ['couch', 'table'], 'tv', 'streaming', 'toothbrush')"
   ]
  },
  {
   "cell_type": "code",
   "execution_count": 105,
   "id": "34f84862-0275-4c80-a766-04d2a6b71741",
   "metadata": {},
   "outputs": [
    {
     "data": {
      "text/plain": [
       "('xbox', ['couch', 'table'], 'tv', 'streaming', 'toothbrush')"
      ]
     },
     "execution_count": 105,
     "metadata": {},
     "output_type": "execute_result"
    }
   ],
   "source": [
    "yahshua_home"
   ]
  },
  {
   "cell_type": "code",
   "execution_count": 106,
   "id": "2e1ed69c-b968-4e0e-a718-d2ff95b4b098",
   "metadata": {},
   "outputs": [
    {
     "data": {
      "text/plain": [
       "['couch', 'table']"
      ]
     },
     "execution_count": 106,
     "metadata": {},
     "output_type": "execute_result"
    }
   ],
   "source": [
    "yahshua_home[1]"
   ]
  },
  {
   "cell_type": "code",
   "execution_count": 107,
   "id": "b6b23690-923e-4615-b119-d205bdb9f849",
   "metadata": {},
   "outputs": [],
   "source": [
    "maria = yahshua_home"
   ]
  },
  {
   "cell_type": "code",
   "execution_count": 108,
   "id": "4acf29f4-6750-4cd2-a59e-9e0096eb829a",
   "metadata": {},
   "outputs": [
    {
     "data": {
      "text/plain": [
       "('xbox', ['couch', 'table'], 'tv', 'streaming', 'toothbrush')"
      ]
     },
     "execution_count": 108,
     "metadata": {},
     "output_type": "execute_result"
    }
   ],
   "source": [
    "maria"
   ]
  },
  {
   "cell_type": "code",
   "execution_count": 109,
   "id": "bc2b696a-7ce3-469b-ab15-5af422914499",
   "metadata": {},
   "outputs": [
    {
     "data": {
      "text/plain": [
       "'couch'"
      ]
     },
     "execution_count": 109,
     "metadata": {},
     "output_type": "execute_result"
    }
   ],
   "source": [
    "maria[1][0]"
   ]
  },
  {
   "cell_type": "code",
   "execution_count": 110,
   "id": "96081cc2-8c0f-4cea-b16b-2ac32ab66f0e",
   "metadata": {},
   "outputs": [],
   "source": [
    "maria[1][0] = \"green couch\""
   ]
  },
  {
   "cell_type": "code",
   "execution_count": 111,
   "id": "bc570c87-5658-4523-9504-c560b9681fc5",
   "metadata": {},
   "outputs": [
    {
     "data": {
      "text/plain": [
       "('xbox', ['green couch', 'table'], 'tv', 'streaming', 'toothbrush')"
      ]
     },
     "execution_count": 111,
     "metadata": {},
     "output_type": "execute_result"
    }
   ],
   "source": [
    "maria"
   ]
  },
  {
   "cell_type": "code",
   "execution_count": 112,
   "id": "978ecd47-a127-4a62-883f-be6fb6012e8a",
   "metadata": {},
   "outputs": [
    {
     "data": {
      "text/plain": [
       "('xbox', ['green couch', 'table'], 'tv', 'streaming', 'toothbrush')"
      ]
     },
     "execution_count": 112,
     "metadata": {},
     "output_type": "execute_result"
    }
   ],
   "source": [
    "yahshua_home"
   ]
  },
  {
   "cell_type": "code",
   "execution_count": 113,
   "id": "82a9719d-7b02-49e9-8e9b-1727e3837230",
   "metadata": {},
   "outputs": [
    {
     "data": {
      "text/plain": [
       "'table'"
      ]
     },
     "execution_count": 113,
     "metadata": {},
     "output_type": "execute_result"
    }
   ],
   "source": [
    "maria[1].pop()"
   ]
  },
  {
   "cell_type": "code",
   "execution_count": 114,
   "id": "e9170783-f0a4-4a01-b373-41cdcf76d341",
   "metadata": {},
   "outputs": [
    {
     "data": {
      "text/plain": [
       "('xbox', ['green couch'], 'tv', 'streaming', 'toothbrush')"
      ]
     },
     "execution_count": 114,
     "metadata": {},
     "output_type": "execute_result"
    }
   ],
   "source": [
    "yahshua_home"
   ]
  },
  {
   "cell_type": "code",
   "execution_count": 115,
   "id": "416260f8-8438-4fc7-9b0b-ddcc0c378308",
   "metadata": {},
   "outputs": [],
   "source": [
    "maria[1].append(\"glass table\")"
   ]
  },
  {
   "cell_type": "code",
   "execution_count": 116,
   "id": "87f6062a-b950-4f3b-b93a-37db11dc1e35",
   "metadata": {},
   "outputs": [
    {
     "data": {
      "text/plain": [
       "('xbox', ['green couch', 'glass table'], 'tv', 'streaming', 'toothbrush')"
      ]
     },
     "execution_count": 116,
     "metadata": {},
     "output_type": "execute_result"
    }
   ],
   "source": [
    "maria"
   ]
  },
  {
   "cell_type": "code",
   "execution_count": 118,
   "id": "baf258f0-f8bb-451f-a8a1-f629eb1b18b4",
   "metadata": {},
   "outputs": [],
   "source": [
    "my_list = [1, 2, [3, 4, [5, 6]]]"
   ]
  },
  {
   "cell_type": "code",
   "execution_count": 121,
   "id": "d5affdfe-c4d2-4c13-9295-d072f19caf40",
   "metadata": {},
   "outputs": [
    {
     "data": {
      "text/plain": [
       "[3, 4, [5, 6]]"
      ]
     },
     "execution_count": 121,
     "metadata": {},
     "output_type": "execute_result"
    }
   ],
   "source": [
    "my_list[2]"
   ]
  },
  {
   "cell_type": "code",
   "execution_count": 123,
   "id": "2bcb49de-7c12-415c-81c0-b5722c724633",
   "metadata": {},
   "outputs": [
    {
     "data": {
      "text/plain": [
       "[5, 6]"
      ]
     },
     "execution_count": 123,
     "metadata": {},
     "output_type": "execute_result"
    }
   ],
   "source": [
    "my_list[2][2]\n"
   ]
  },
  {
   "cell_type": "code",
   "execution_count": 125,
   "id": "2ead58b9-5266-4676-aac7-e9cc8c236e72",
   "metadata": {},
   "outputs": [
    {
     "data": {
      "text/plain": [
       "6"
      ]
     },
     "execution_count": 125,
     "metadata": {},
     "output_type": "execute_result"
    }
   ],
   "source": [
    "my_list[2][2][1]"
   ]
  },
  {
   "cell_type": "code",
   "execution_count": null,
   "id": "3bd3fb62-60fc-4ade-81d6-a623832d5cea",
   "metadata": {},
   "outputs": [],
   "source": []
  }
 ],
 "metadata": {
  "kernelspec": {
   "display_name": "Python 3 (ipykernel)",
   "language": "python",
   "name": "python3"
  },
  "language_info": {
   "codemirror_mode": {
    "name": "ipython",
    "version": 3
   },
   "file_extension": ".py",
   "mimetype": "text/x-python",
   "name": "python",
   "nbconvert_exporter": "python",
   "pygments_lexer": "ipython3",
   "version": "3.12.7"
  }
 },
 "nbformat": 4,
 "nbformat_minor": 5
}
