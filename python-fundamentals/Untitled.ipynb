{
 "cells": [
  {
   "cell_type": "code",
   "execution_count": null,
   "id": "02d158bf-f2b0-4cdd-8132-f54e724707c4",
   "metadata": {},
   "outputs": [],
   "source": []
  }
 ],
 "metadata": {
  "kernelspec": {
   "display_name": "",
   "name": ""
  },
  "language_info": {
   "name": ""
  }
 },
 "nbformat": 4,
 "nbformat_minor": 5
}
