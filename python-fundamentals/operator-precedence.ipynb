{
 "cells": [
  {
   "cell_type": "markdown",
   "id": "713f107a-c8cf-4306-bd58-9566562dfeb2",
   "metadata": {},
   "source": [
    "## Operator Precedence"
   ]
  },
  {
   "cell_type": "code",
   "execution_count": 1,
   "id": "db2cfa3c-4028-4ef8-b7c2-ffbf5900b495",
   "metadata": {},
   "outputs": [
    {
     "data": {
      "text/plain": [
       "130"
      ]
     },
     "execution_count": 1,
     "metadata": {},
     "output_type": "execute_result"
    }
   ],
   "source": [
    "100 - 20 + 50"
   ]
  },
  {
   "cell_type": "code",
   "execution_count": 2,
   "id": "27fc1861-f51c-4a03-a35c-5085167f3e7c",
   "metadata": {},
   "outputs": [
    {
     "data": {
      "text/plain": [
       "130"
      ]
     },
     "execution_count": 2,
     "metadata": {},
     "output_type": "execute_result"
    }
   ],
   "source": [
    "(100 - 20) + 50\n"
   ]
  },
  {
   "cell_type": "code",
   "execution_count": 3,
   "id": "9e4c11ce-6f40-4d4b-9630-777abe9dd49b",
   "metadata": {},
   "outputs": [
    {
     "data": {
      "text/plain": [
       "1000"
      ]
     },
     "execution_count": 3,
     "metadata": {},
     "output_type": "execute_result"
    }
   ],
   "source": [
    "10 * 4 * 5 * 5"
   ]
  },
  {
   "cell_type": "code",
   "execution_count": 4,
   "id": "4eb48ccb-6576-43ce-85bd-45d5922672be",
   "metadata": {},
   "outputs": [
    {
     "data": {
      "text/plain": [
       "80"
      ]
     },
     "execution_count": 4,
     "metadata": {},
     "output_type": "execute_result"
    }
   ],
   "source": [
    "10 * 2 ** 3"
   ]
  },
  {
   "cell_type": "code",
   "execution_count": 5,
   "id": "c5c6fccf-fe0f-49ce-96f7-f72d6a1c63ac",
   "metadata": {},
   "outputs": [
    {
     "data": {
      "text/plain": [
       "80"
      ]
     },
     "execution_count": 5,
     "metadata": {},
     "output_type": "execute_result"
    }
   ],
   "source": [
    "10 * (2 ** 3)"
   ]
  },
  {
   "cell_type": "code",
   "execution_count": 9,
   "id": "6a28f26b-7085-44bc-88ff-756f55057b12",
   "metadata": {},
   "outputs": [
    {
     "name": "stdout",
     "output_type": "stream",
     "text": [
      "270.70414908622433\n"
     ]
    }
   ],
   "source": [
    "principal = 100\n",
    "apr = 0.1\n",
    "years = 10\n",
    "\n",
    "future_value = principal * ((1 + apr/12) ** (years * 12))\n",
    "\n",
    "print(future_value)"
   ]
  },
  {
   "cell_type": "code",
   "execution_count": 10,
   "id": "134abcfa-cc20-4a94-90e0-71cdfc8c186a",
   "metadata": {},
   "outputs": [
    {
     "data": {
      "text/plain": [
       "0.00390625"
      ]
     },
     "execution_count": 10,
     "metadata": {},
     "output_type": "execute_result"
    }
   ],
   "source": [
    "2 ** -8"
   ]
  },
  {
   "cell_type": "code",
   "execution_count": 13,
   "id": "10a07ddf-ee02-428f-ae3b-926d274b702a",
   "metadata": {},
   "outputs": [
    {
     "data": {
      "text/plain": [
       "-2.0"
      ]
     },
     "execution_count": 13,
     "metadata": {},
     "output_type": "execute_result"
    }
   ],
   "source": [
    "-4 ** 0.5\n",
    "# -(4 ** 0.5)"
   ]
  },
  {
   "cell_type": "code",
   "execution_count": null,
   "id": "08760c49-bba2-4865-8c8d-dd535fa1ce1c",
   "metadata": {},
   "outputs": [],
   "source": []
  }
 ],
 "metadata": {
  "kernelspec": {
   "display_name": "Python 3 (ipykernel)",
   "language": "python",
   "name": "python3"
  },
  "language_info": {
   "codemirror_mode": {
    "name": "ipython",
    "version": 3
   },
   "file_extension": ".py",
   "mimetype": "text/x-python",
   "name": "python",
   "nbconvert_exporter": "python",
   "pygments_lexer": "ipython3",
   "version": "3.9.23"
  }
 },
 "nbformat": 4,
 "nbformat_minor": 5
}
