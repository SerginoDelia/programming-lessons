{
 "cells": [
  {
   "cell_type": "markdown",
   "id": "fd3c5ec2-3e8b-4433-b070-1e335791ab14",
   "metadata": {},
   "source": [
    "# Lists Slicing"
   ]
  },
  {
   "cell_type": "code",
   "execution_count": 2,
   "id": "179e0550-3d4d-44bf-b00e-4ee47243b198",
   "metadata": {},
   "outputs": [],
   "source": [
    "name = 'Today is a good day'"
   ]
  },
  {
   "cell_type": "code",
   "execution_count": 3,
   "id": "1005a457-efa7-443a-a503-134091ead100",
   "metadata": {},
   "outputs": [],
   "source": [
    "nums = [0, 1, 2, 3, 4, 5, 6, 7, 8, 9]"
   ]
  },
  {
   "cell_type": "code",
   "execution_count": 4,
   "id": "cf9085cd-5d4e-4de1-8969-47a0f15fa0cb",
   "metadata": {},
   "outputs": [
    {
     "data": {
      "text/plain": [
       "[0, 1, 2, 3, 4, 5, 6, 7, 8, 9]"
      ]
     },
     "execution_count": 4,
     "metadata": {},
     "output_type": "execute_result"
    }
   ],
   "source": [
    "nums[:]"
   ]
  },
  {
   "cell_type": "code",
   "execution_count": 9,
   "id": "b4d46e4e-bd90-48a0-b729-1ba634c1bc3c",
   "metadata": {},
   "outputs": [
    {
     "data": {
      "text/plain": [
       "10"
      ]
     },
     "execution_count": 9,
     "metadata": {},
     "output_type": "execute_result"
    }
   ],
   "source": [
    "len(nums)"
   ]
  },
  {
   "cell_type": "code",
   "execution_count": 8,
   "id": "902ab55f-db1a-489b-8ede-59577d2f96e4",
   "metadata": {},
   "outputs": [
    {
     "data": {
      "text/plain": [
       "[0, 1, 2, 3, 4, 5, 6, 7, 8, 9]"
      ]
     },
     "execution_count": 8,
     "metadata": {},
     "output_type": "execute_result"
    }
   ],
   "source": [
    "nums[0:len(nums):1]"
   ]
  },
  {
   "cell_type": "code",
   "execution_count": 10,
   "id": "eaac8ec6-82b1-47a6-9e07-6c26798ef731",
   "metadata": {},
   "outputs": [
    {
     "data": {
      "text/plain": [
       "[0, 1, 2, 3, 4, 5, 6, 7, 8, 9]"
      ]
     },
     "execution_count": 10,
     "metadata": {},
     "output_type": "execute_result"
    }
   ],
   "source": [
    "nums[0:10:1]"
   ]
  },
  {
   "cell_type": "code",
   "execution_count": 5,
   "id": "b9e916ba-6b1e-49c0-a7f0-39349f7f8659",
   "metadata": {},
   "outputs": [
    {
     "data": {
      "text/plain": [
       "[0, 1, 2, 3, 4]"
      ]
     },
     "execution_count": 5,
     "metadata": {},
     "output_type": "execute_result"
    }
   ],
   "source": [
    "nums[:5]"
   ]
  },
  {
   "cell_type": "code",
   "execution_count": 7,
   "id": "0aaac9b8-48cc-4d25-8d3b-e77608c424d2",
   "metadata": {},
   "outputs": [
    {
     "data": {
      "text/plain": [
       "[0, 1, 2, 3, 4]"
      ]
     },
     "execution_count": 7,
     "metadata": {},
     "output_type": "execute_result"
    }
   ],
   "source": [
    "twin_a = nums[0:5]\n",
    "\n",
    "twin_a"
   ]
  },
  {
   "cell_type": "code",
   "execution_count": 13,
   "id": "f26e7a61-3d83-495e-82fc-96c086676436",
   "metadata": {},
   "outputs": [
    {
     "data": {
      "text/plain": [
       "[5, 6, 7, 8, 9]"
      ]
     },
     "execution_count": 13,
     "metadata": {},
     "output_type": "execute_result"
    }
   ],
   "source": [
    "twin_1 = nums[5:]\n",
    "\n",
    "twin_1"
   ]
  },
  {
   "cell_type": "code",
   "execution_count": 14,
   "id": "2d958270-1c83-4b2c-bccd-b88afb843dd9",
   "metadata": {},
   "outputs": [
    {
     "data": {
      "text/plain": [
       "[6, 8]"
      ]
     },
     "execution_count": 14,
     "metadata": {},
     "output_type": "execute_result"
    }
   ],
   "source": [
    "twin_1 = nums[6:9:2]\n",
    "\n",
    "twin_1"
   ]
  },
  {
   "cell_type": "code",
   "execution_count": 16,
   "id": "bafc4fe2-9936-46c3-b8a3-4aedf7f461ac",
   "metadata": {},
   "outputs": [
    {
     "data": {
      "text/plain": [
       "[0, 2, 4, 6, 8]"
      ]
     },
     "execution_count": 16,
     "metadata": {},
     "output_type": "execute_result"
    }
   ],
   "source": [
    "twin_a = nums[::2]\n",
    "\n",
    "twin_a"
   ]
  },
  {
   "cell_type": "code",
   "execution_count": 17,
   "id": "47f6644d-7fea-4785-a738-1697a773f817",
   "metadata": {},
   "outputs": [
    {
     "data": {
      "text/plain": [
       "[1, 3, 5, 7, 9]"
      ]
     },
     "execution_count": 17,
     "metadata": {},
     "output_type": "execute_result"
    }
   ],
   "source": [
    "twin_a = nums[1::2]\n",
    "\n",
    "twin_a"
   ]
  },
  {
   "cell_type": "code",
   "execution_count": 13,
   "id": "957cb618-0e13-4800-8b25-bf1784fb10fc",
   "metadata": {},
   "outputs": [
    {
     "name": "stdout",
     "output_type": "stream",
     "text": [
      "10\n"
     ]
    },
    {
     "data": {
      "text/plain": [
       "[0, 2, 4, 6, 8]"
      ]
     },
     "execution_count": 13,
     "metadata": {},
     "output_type": "execute_result"
    }
   ],
   "source": [
    "nums_len = len(nums)\n",
    "print(nums_len)\n",
    "\n",
    "nums[0:nums_len:2]"
   ]
  },
  {
   "cell_type": "code",
   "execution_count": 15,
   "id": "afb34c59-1e13-4a71-a65f-a0d01a7c3851",
   "metadata": {},
   "outputs": [
    {
     "data": {
      "text/plain": [
       "[0, 2, 4, 6, 8]"
      ]
     },
     "execution_count": 15,
     "metadata": {},
     "output_type": "execute_result"
    }
   ],
   "source": [
    "nums[0::2]"
   ]
  },
  {
   "cell_type": "code",
   "execution_count": 16,
   "id": "5431d77b-c3ee-4f45-88ce-b5bffd1fab29",
   "metadata": {},
   "outputs": [
    {
     "data": {
      "text/plain": [
       "[0, 1, 2]"
      ]
     },
     "execution_count": 16,
     "metadata": {},
     "output_type": "execute_result"
    }
   ],
   "source": [
    "nums[0:3]"
   ]
  },
  {
   "cell_type": "code",
   "execution_count": 18,
   "id": "0a90e27a-fb8a-43c7-8045-a0b0f8f216f1",
   "metadata": {},
   "outputs": [
    {
     "data": {
      "text/plain": [
       "[5, 8]"
      ]
     },
     "execution_count": 18,
     "metadata": {},
     "output_type": "execute_result"
    }
   ],
   "source": [
    "nums[5::3]"
   ]
  },
  {
   "cell_type": "code",
   "execution_count": 8,
   "id": "89eb64ee-dc31-40bb-9897-1378f7eaf609",
   "metadata": {},
   "outputs": [
    {
     "data": {
      "text/plain": [
       "[4]"
      ]
     },
     "execution_count": 8,
     "metadata": {},
     "output_type": "execute_result"
    }
   ],
   "source": [
    "nums[4:5]"
   ]
  },
  {
   "cell_type": "code",
   "execution_count": 9,
   "id": "601424eb-51f0-4f83-a408-b66b5b095a9e",
   "metadata": {},
   "outputs": [
    {
     "data": {
      "text/plain": [
       "[0, 2, 4, 6, 8]"
      ]
     },
     "execution_count": 9,
     "metadata": {},
     "output_type": "execute_result"
    }
   ],
   "source": [
    "nums[::2]"
   ]
  },
  {
   "cell_type": "code",
   "execution_count": 10,
   "id": "4dba083f-1baa-4848-ac4e-80993aaf2c8b",
   "metadata": {},
   "outputs": [
    {
     "data": {
      "text/plain": [
       "[1, 3, 5, 7, 9]"
      ]
     },
     "execution_count": 10,
     "metadata": {},
     "output_type": "execute_result"
    }
   ],
   "source": [
    "nums[1::2]"
   ]
  },
  {
   "cell_type": "code",
   "execution_count": 11,
   "id": "04b6176f-5adc-429f-857b-f435e3bdba02",
   "metadata": {},
   "outputs": [
    {
     "data": {
      "text/plain": [
       "[8, 7, 6, 5, 4]"
      ]
     },
     "execution_count": 11,
     "metadata": {},
     "output_type": "execute_result"
    }
   ],
   "source": [
    "nums[8:3:-1]"
   ]
  },
  {
   "cell_type": "code",
   "execution_count": 20,
   "id": "5ff2835d-692b-44ef-a7af-af889dc11104",
   "metadata": {},
   "outputs": [
    {
     "data": {
      "text/plain": [
       "[9, 8, 7, 6, 5, 4, 3, 2, 1]"
      ]
     },
     "execution_count": 20,
     "metadata": {},
     "output_type": "execute_result"
    }
   ],
   "source": [
    "nums[9:0:-1]"
   ]
  },
  {
   "cell_type": "markdown",
   "id": "b42965b0-8626-49ad-bc16-8eb2b9253ae3",
   "metadata": {},
   "source": [
    "list[starting_index:ending_index:steps_counter]"
   ]
  },
  {
   "cell_type": "code",
   "execution_count": 12,
   "id": "fa7a626c-f6ec-4a54-934a-b2961f4a405c",
   "metadata": {},
   "outputs": [
    {
     "data": {
      "text/plain": [
       "[2, 3, 4]"
      ]
     },
     "execution_count": 12,
     "metadata": {},
     "output_type": "execute_result"
    }
   ],
   "source": [
    "nums[2:5]"
   ]
  },
  {
   "cell_type": "code",
   "execution_count": 13,
   "id": "205eeed9-9946-453d-9759-de8ff2eccb3c",
   "metadata": {},
   "outputs": [
    {
     "data": {
      "text/plain": [
       "[2, 3, 4, 5]"
      ]
     },
     "execution_count": 13,
     "metadata": {},
     "output_type": "execute_result"
    }
   ],
   "source": [
    "nums[2:5 + 1]"
   ]
  },
  {
   "cell_type": "code",
   "execution_count": 14,
   "id": "8df2093f-1f3d-4148-ada4-85c35cf4240c",
   "metadata": {},
   "outputs": [
    {
     "data": {
      "text/plain": [
       "[2, 3, 4, 5, 6, 7]"
      ]
     },
     "execution_count": 14,
     "metadata": {},
     "output_type": "execute_result"
    }
   ],
   "source": [
    "nums[2:-2]"
   ]
  },
  {
   "cell_type": "code",
   "execution_count": 16,
   "id": "411c7f81-f2c6-4962-9bb4-13aa526afc51",
   "metadata": {},
   "outputs": [
    {
     "data": {
      "text/plain": [
       "[2, 4]"
      ]
     },
     "execution_count": 16,
     "metadata": {},
     "output_type": "execute_result"
    }
   ],
   "source": [
    "nums[2:5:2]"
   ]
  },
  {
   "cell_type": "code",
   "execution_count": 26,
   "id": "7de56d3a-fee5-4c6a-ae5d-db8b73332467",
   "metadata": {},
   "outputs": [
    {
     "data": {
      "text/plain": [
       "[9, 8, 7, 6, 5, 4, 3, 2, 1]"
      ]
     },
     "execution_count": 26,
     "metadata": {},
     "output_type": "execute_result"
    }
   ],
   "source": [
    "nums[-1:0:-1]"
   ]
  },
  {
   "cell_type": "code",
   "execution_count": 22,
   "id": "9d3ce542-85a8-4a20-afc2-2d93cf5c2bbc",
   "metadata": {},
   "outputs": [],
   "source": [
    "name = 'Today is a good day'"
   ]
  },
  {
   "cell_type": "code",
   "execution_count": 23,
   "id": "154a8f4e-4df1-46a5-a515-6a70764d9e06",
   "metadata": {},
   "outputs": [
    {
     "data": {
      "text/plain": [
       "'Today is a good day'"
      ]
     },
     "execution_count": 23,
     "metadata": {},
     "output_type": "execute_result"
    }
   ],
   "source": [
    "name[:]"
   ]
  },
  {
   "cell_type": "code",
   "execution_count": 24,
   "id": "5b376259-0aa3-470e-bd58-526cac961095",
   "metadata": {},
   "outputs": [
    {
     "data": {
      "text/plain": [
       "'o'"
      ]
     },
     "execution_count": 24,
     "metadata": {},
     "output_type": "execute_result"
    }
   ],
   "source": [
    "name[1]"
   ]
  },
  {
   "cell_type": "code",
   "execution_count": 25,
   "id": "d5f8357d-9cad-4dbe-9d7a-21e532e94a18",
   "metadata": {},
   "outputs": [
    {
     "data": {
      "text/plain": [
       "1"
      ]
     },
     "execution_count": 25,
     "metadata": {},
     "output_type": "execute_result"
    }
   ],
   "source": [
    "nums[1]"
   ]
  },
  {
   "cell_type": "code",
   "execution_count": 27,
   "id": "d7e48030-d047-48ea-ad7b-098cda67807f",
   "metadata": {},
   "outputs": [
    {
     "data": {
      "text/plain": [
       "[0, 1, 2, 3, 4, 5, 6, 7, 8, 9]"
      ]
     },
     "execution_count": 27,
     "metadata": {},
     "output_type": "execute_result"
    }
   ],
   "source": [
    "nums"
   ]
  },
  {
   "cell_type": "code",
   "execution_count": 24,
   "id": "e87d8c75-4ac3-4f09-80a1-37635a7881dd",
   "metadata": {},
   "outputs": [
    {
     "data": {
      "text/plain": [
       "'yad doog a si yadoT'"
      ]
     },
     "execution_count": 24,
     "metadata": {},
     "output_type": "execute_result"
    }
   ],
   "source": [
    "name[len(name) -1::-1]"
   ]
  },
  {
   "cell_type": "code",
   "execution_count": 28,
   "id": "6f0e65d6-6650-4ad3-9971-1d0b99f628d9",
   "metadata": {},
   "outputs": [
    {
     "data": {
      "text/plain": [
       "'yad doog a si yadoT'"
      ]
     },
     "execution_count": 28,
     "metadata": {},
     "output_type": "execute_result"
    }
   ],
   "source": [
    "name[-1::-1]"
   ]
  },
  {
   "cell_type": "code",
   "execution_count": 21,
   "id": "09455ed0-b325-4287-801c-0fa5722ade36",
   "metadata": {},
   "outputs": [],
   "source": [
    "length = len(name)"
   ]
  },
  {
   "cell_type": "code",
   "execution_count": 22,
   "id": "277279ee-e86f-4f48-a6bd-02de9af3dac4",
   "metadata": {},
   "outputs": [
    {
     "data": {
      "text/plain": [
       "'yad doog a si yadoT'"
      ]
     },
     "execution_count": 22,
     "metadata": {},
     "output_type": "execute_result"
    }
   ],
   "source": [
    "name[length:0:-1]"
   ]
  },
  {
   "cell_type": "code",
   "execution_count": 25,
   "id": "91c92fc8-2f17-4ffa-ada4-890141265d9d",
   "metadata": {},
   "outputs": [
    {
     "data": {
      "text/plain": [
       "range(0, 10)"
      ]
     },
     "execution_count": 25,
     "metadata": {},
     "output_type": "execute_result"
    }
   ],
   "source": [
    "range(10)"
   ]
  },
  {
   "cell_type": "code",
   "execution_count": 26,
   "id": "e01ae15e-f9b0-47b2-89e1-5418e5164512",
   "metadata": {},
   "outputs": [
    {
     "data": {
      "text/plain": [
       "range(0, 19)"
      ]
     },
     "execution_count": 26,
     "metadata": {},
     "output_type": "execute_result"
    }
   ],
   "source": [
    "range(len(name))"
   ]
  },
  {
   "cell_type": "code",
   "execution_count": 36,
   "id": "244037f4-9ef1-4268-ade6-a4a7f5e9c132",
   "metadata": {},
   "outputs": [],
   "source": [
    "my_list = range(0,5)"
   ]
  },
  {
   "cell_type": "code",
   "execution_count": 38,
   "id": "47e5ae9f-2ad4-40a3-a3ab-6a8f7b5f0d9a",
   "metadata": {},
   "outputs": [],
   "source": [
    "my_list2 = [*my_list]"
   ]
  },
  {
   "cell_type": "code",
   "execution_count": 39,
   "id": "dab0589a-d1f2-4e96-9eb0-051d88d5b9c6",
   "metadata": {},
   "outputs": [
    {
     "data": {
      "text/plain": [
       "[0, 1, 2, 3, 4]"
      ]
     },
     "execution_count": 39,
     "metadata": {},
     "output_type": "execute_result"
    }
   ],
   "source": [
    "my_list2"
   ]
  },
  {
   "cell_type": "code",
   "execution_count": 40,
   "id": "595c0163-2bc9-42c8-96e5-53b0cca8f5b8",
   "metadata": {},
   "outputs": [],
   "source": [
    "del list"
   ]
  },
  {
   "cell_type": "code",
   "execution_count": 41,
   "id": "d352dc19-8b73-4f0b-8351-ef836463e75b",
   "metadata": {},
   "outputs": [
    {
     "data": {
      "text/plain": [
       "list"
      ]
     },
     "execution_count": 41,
     "metadata": {},
     "output_type": "execute_result"
    }
   ],
   "source": [
    "list"
   ]
  },
  {
   "cell_type": "code",
   "execution_count": 45,
   "id": "f528ab67-fb11-45dd-8e2c-960e1b02a25a",
   "metadata": {},
   "outputs": [
    {
     "data": {
      "text/plain": [
       "[0, 1, 2, 3, 4, 5, 6, 7, 8, 9]"
      ]
     },
     "execution_count": 45,
     "metadata": {},
     "output_type": "execute_result"
    }
   ],
   "source": [
    "nums1 = range(10)\n",
    "\n",
    "nums1\n",
    "\n",
    "nums1 = list(nums1)\n",
    "\n",
    "nums1"
   ]
  },
  {
   "cell_type": "code",
   "execution_count": 47,
   "id": "05c16a04-020d-4b65-96af-13be7c107352",
   "metadata": {},
   "outputs": [
    {
     "data": {
      "text/plain": [
       "[0, 1, 2, 3, 4, 5, 6, 7, 8, 9, 10, 11, 12, 13, 14]"
      ]
     },
     "execution_count": 47,
     "metadata": {},
     "output_type": "execute_result"
    }
   ],
   "source": [
    "my_num = list(range(15))\n",
    "\n",
    "my_num"
   ]
  },
  {
   "cell_type": "code",
   "execution_count": 42,
   "id": "5676f960-4434-4b64-bf88-be271218fab1",
   "metadata": {},
   "outputs": [],
   "source": [
    "nums2 = list(range(10))"
   ]
  },
  {
   "cell_type": "code",
   "execution_count": 43,
   "id": "53b9f335-0fee-4d59-8925-c22af3d47b7f",
   "metadata": {},
   "outputs": [
    {
     "data": {
      "text/plain": [
       "[0, 1, 2, 3, 4, 5, 6, 7, 8, 9]"
      ]
     },
     "execution_count": 43,
     "metadata": {},
     "output_type": "execute_result"
    }
   ],
   "source": [
    "nums2"
   ]
  },
  {
   "cell_type": "code",
   "execution_count": 40,
   "id": "84d72091-b440-4bc6-906f-57229a97a0ce",
   "metadata": {},
   "outputs": [
    {
     "data": {
      "text/plain": [
       "'12345'"
      ]
     },
     "execution_count": 40,
     "metadata": {},
     "output_type": "execute_result"
    }
   ],
   "source": [
    "nums3 = '12345'\n",
    "\n",
    "nums3"
   ]
  },
  {
   "cell_type": "code",
   "execution_count": 41,
   "id": "852316d8-d459-4453-b1e4-ac707812d5e0",
   "metadata": {},
   "outputs": [
    {
     "data": {
      "text/plain": [
       "['1', '2', '3', '4', '5']"
      ]
     },
     "execution_count": 41,
     "metadata": {},
     "output_type": "execute_result"
    }
   ],
   "source": [
    "nums3 = list(nums3)\n",
    "\n",
    "nums3"
   ]
  },
  {
   "cell_type": "code",
   "execution_count": 33,
   "id": "8bdadd70-5b38-4b4d-8660-360d98bb9f96",
   "metadata": {},
   "outputs": [
    {
     "data": {
      "text/plain": [
       "[0, 1, 2, 3, 4]"
      ]
     },
     "execution_count": 33,
     "metadata": {},
     "output_type": "execute_result"
    }
   ],
   "source": [
    "my_lists = list(range(5))\n",
    "my_lists"
   ]
  },
  {
   "cell_type": "code",
   "execution_count": 43,
   "id": "17f491df-a67b-4e9a-a90c-0348edd6830a",
   "metadata": {},
   "outputs": [
    {
     "data": {
      "text/plain": [
       "[0, 1, 2, 3, 4]"
      ]
     },
     "execution_count": 43,
     "metadata": {},
     "output_type": "execute_result"
    }
   ],
   "source": [
    "my_lists"
   ]
  },
  {
   "cell_type": "code",
   "execution_count": 44,
   "id": "60c679ed-b1a0-4e59-8c85-0709c9dfe2c7",
   "metadata": {},
   "outputs": [],
   "source": [
    "my_lists = list(range(5 + 1))"
   ]
  },
  {
   "cell_type": "code",
   "execution_count": 45,
   "id": "65f21e75-5e74-4183-b1a4-ce21f75f66df",
   "metadata": {},
   "outputs": [
    {
     "data": {
      "text/plain": [
       "[0, 1, 2, 3, 4, 5]"
      ]
     },
     "execution_count": 45,
     "metadata": {},
     "output_type": "execute_result"
    }
   ],
   "source": [
    "my_lists"
   ]
  },
  {
   "cell_type": "code",
   "execution_count": 50,
   "id": "6135d64b-ee14-44ee-9c17-392dd49ebe0f",
   "metadata": {},
   "outputs": [],
   "source": [
    "my_lists2 = list(range(5, -5, -4))"
   ]
  },
  {
   "cell_type": "code",
   "execution_count": 51,
   "id": "70906b7c-69e5-43e8-b960-05d507186d0a",
   "metadata": {},
   "outputs": [
    {
     "data": {
      "text/plain": [
       "[5, 1, -3]"
      ]
     },
     "execution_count": 51,
     "metadata": {},
     "output_type": "execute_result"
    }
   ],
   "source": [
    "my_lists2"
   ]
  },
  {
   "cell_type": "code",
   "execution_count": 52,
   "id": "7e2cca65-865e-4386-9666-756f7546251f",
   "metadata": {},
   "outputs": [
    {
     "data": {
      "text/plain": [
       "range(0, 5)"
      ]
     },
     "execution_count": 52,
     "metadata": {},
     "output_type": "execute_result"
    }
   ],
   "source": [
    "range(5)"
   ]
  },
  {
   "cell_type": "code",
   "execution_count": 53,
   "id": "1baa8f15-0557-40af-94ef-e4017a859512",
   "metadata": {},
   "outputs": [],
   "source": [
    "list = \"name\""
   ]
  },
  {
   "cell_type": "code",
   "execution_count": 54,
   "id": "638578db-eec1-42fa-826b-0b0eca700030",
   "metadata": {},
   "outputs": [
    {
     "ename": "TypeError",
     "evalue": "'str' object is not callable",
     "output_type": "error",
     "traceback": [
      "\u001b[0;31m---------------------------------------------------------------------------\u001b[0m",
      "\u001b[0;31mTypeError\u001b[0m                                 Traceback (most recent call last)",
      "Cell \u001b[0;32mIn[54], line 1\u001b[0m\n\u001b[0;32m----> 1\u001b[0m my_lists \u001b[38;5;241m=\u001b[39m \u001b[38;5;28mlist\u001b[39m(\u001b[38;5;28mrange\u001b[39m(\u001b[38;5;241m5\u001b[39m \u001b[38;5;241m+\u001b[39m \u001b[38;5;241m1\u001b[39m))\n",
      "\u001b[0;31mTypeError\u001b[0m: 'str' object is not callable"
     ]
    }
   ],
   "source": [
    "my_lists = list(range(5 + 1))"
   ]
  },
  {
   "cell_type": "code",
   "execution_count": 55,
   "id": "9e7e9f4a-6bbc-427d-bcf8-de9e4cf1e159",
   "metadata": {},
   "outputs": [],
   "source": [
    "del list"
   ]
  },
  {
   "cell_type": "code",
   "execution_count": 56,
   "id": "19348ed7-34d9-473d-b4dd-c25eb880882d",
   "metadata": {},
   "outputs": [],
   "source": [
    "my_lists = list(range(5 + 1))"
   ]
  },
  {
   "cell_type": "code",
   "execution_count": 57,
   "id": "427c1060-5c4c-4406-9a84-4e7ee1bba4a7",
   "metadata": {},
   "outputs": [
    {
     "data": {
      "text/plain": [
       "[0, 1, 2, 3, 4, 5]"
      ]
     },
     "execution_count": 57,
     "metadata": {},
     "output_type": "execute_result"
    }
   ],
   "source": [
    "my_lists"
   ]
  },
  {
   "cell_type": "markdown",
   "id": "3781b2fc-7103-4375-b643-239221dce364",
   "metadata": {},
   "source": [
    "## Unpacking"
   ]
  },
  {
   "cell_type": "code",
   "execution_count": 58,
   "id": "24ecf28e-e4e6-495d-bf19-c93c3dba2062",
   "metadata": {},
   "outputs": [],
   "source": [
    "name1, name2, name3 = 'Serge', 'Remo', 'Ross'"
   ]
  },
  {
   "cell_type": "code",
   "execution_count": 59,
   "id": "320cccb8-f7e5-4a74-a11b-b07af05c4a8e",
   "metadata": {},
   "outputs": [
    {
     "data": {
      "text/plain": [
       "'Serge'"
      ]
     },
     "execution_count": 59,
     "metadata": {},
     "output_type": "execute_result"
    }
   ],
   "source": [
    "name1"
   ]
  },
  {
   "cell_type": "code",
   "execution_count": 60,
   "id": "bc0105f3-9288-4745-87de-916326615196",
   "metadata": {},
   "outputs": [
    {
     "data": {
      "text/plain": [
       "'Remo'"
      ]
     },
     "execution_count": 60,
     "metadata": {},
     "output_type": "execute_result"
    }
   ],
   "source": [
    "name2"
   ]
  },
  {
   "cell_type": "code",
   "execution_count": 61,
   "id": "57eecd70-7db4-4dae-8986-e1c08f8faefe",
   "metadata": {},
   "outputs": [
    {
     "data": {
      "text/plain": [
       "'Ross'"
      ]
     },
     "execution_count": 61,
     "metadata": {},
     "output_type": "execute_result"
    }
   ],
   "source": [
    "name3"
   ]
  },
  {
   "cell_type": "code",
   "execution_count": 63,
   "id": "c7bf4d7d-1b62-47e4-9d69-d5864c19854c",
   "metadata": {},
   "outputs": [],
   "source": [
    "first, *middle, last = ['Serge', 'Remo', 'Ross', 'Britt']"
   ]
  },
  {
   "cell_type": "code",
   "execution_count": 64,
   "id": "afd7358c-4196-43a5-bd6f-26ee4b4f7c69",
   "metadata": {},
   "outputs": [
    {
     "data": {
      "text/plain": [
       "'Serge'"
      ]
     },
     "execution_count": 64,
     "metadata": {},
     "output_type": "execute_result"
    }
   ],
   "source": [
    "first"
   ]
  },
  {
   "cell_type": "code",
   "execution_count": 65,
   "id": "df99885c-0886-4864-97b5-05be9aa9763a",
   "metadata": {},
   "outputs": [
    {
     "data": {
      "text/plain": [
       "['Remo', 'Ross']"
      ]
     },
     "execution_count": 65,
     "metadata": {},
     "output_type": "execute_result"
    }
   ],
   "source": [
    "middle"
   ]
  },
  {
   "cell_type": "code",
   "execution_count": 66,
   "id": "5d7bdb5a-a5ff-46d6-8776-3dcd9fa87c1b",
   "metadata": {},
   "outputs": [
    {
     "data": {
      "text/plain": [
       "'Britt'"
      ]
     },
     "execution_count": 66,
     "metadata": {},
     "output_type": "execute_result"
    }
   ],
   "source": [
    "last"
   ]
  },
  {
   "cell_type": "code",
   "execution_count": 67,
   "id": "0ad34ba0-9190-4fde-8875-2153fd523bdc",
   "metadata": {},
   "outputs": [
    {
     "data": {
      "text/plain": [
       "'Remo'"
      ]
     },
     "execution_count": 67,
     "metadata": {},
     "output_type": "execute_result"
    }
   ],
   "source": [
    "middle[0]"
   ]
  },
  {
   "cell_type": "code",
   "execution_count": 68,
   "id": "270b21ed-2fe0-4c1c-a97c-62ec2ffb6c7a",
   "metadata": {},
   "outputs": [
    {
     "data": {
      "text/plain": [
       "'Ross'"
      ]
     },
     "execution_count": 68,
     "metadata": {},
     "output_type": "execute_result"
    }
   ],
   "source": [
    "middle[1]"
   ]
  },
  {
   "cell_type": "code",
   "execution_count": 76,
   "id": "a5642f5e-17b2-4ce3-9c91-4e793ec2f9c4",
   "metadata": {},
   "outputs": [],
   "source": [
    "*first, middle, last = ['Serge', 'Remo', 'Ross']"
   ]
  },
  {
   "cell_type": "code",
   "execution_count": 75,
   "id": "53fa1679-0cf1-49ed-ab44-0b35aec32ca9",
   "metadata": {},
   "outputs": [
    {
     "data": {
      "text/plain": [
       "['Serge']"
      ]
     },
     "execution_count": 75,
     "metadata": {},
     "output_type": "execute_result"
    }
   ],
   "source": [
    "first"
   ]
  },
  {
   "cell_type": "code",
   "execution_count": 77,
   "id": "f212846f-0bb7-472a-b790-ca7e47abbc92",
   "metadata": {},
   "outputs": [],
   "source": [
    "a, b, c = 'cat'"
   ]
  },
  {
   "cell_type": "code",
   "execution_count": 78,
   "id": "08e763c2-ea47-4464-adfd-4d7ab2ec5825",
   "metadata": {},
   "outputs": [
    {
     "data": {
      "text/plain": [
       "'c'"
      ]
     },
     "execution_count": 78,
     "metadata": {},
     "output_type": "execute_result"
    }
   ],
   "source": [
    "a"
   ]
  },
  {
   "cell_type": "code",
   "execution_count": 79,
   "id": "b21d7561-31a2-485b-9839-5849cbd43ec7",
   "metadata": {},
   "outputs": [
    {
     "data": {
      "text/plain": [
       "'a'"
      ]
     },
     "execution_count": 79,
     "metadata": {},
     "output_type": "execute_result"
    }
   ],
   "source": [
    "b"
   ]
  },
  {
   "cell_type": "code",
   "execution_count": 80,
   "id": "c8b79d06-7c52-4990-b798-5069019e0f12",
   "metadata": {},
   "outputs": [
    {
     "data": {
      "text/plain": [
       "'t'"
      ]
     },
     "execution_count": 80,
     "metadata": {},
     "output_type": "execute_result"
    }
   ],
   "source": [
    "c"
   ]
  },
  {
   "cell_type": "code",
   "execution_count": 81,
   "id": "089e17a0-12ed-41a3-a7e3-573356db6ed7",
   "metadata": {},
   "outputs": [],
   "source": [
    "name = 'cat'"
   ]
  },
  {
   "cell_type": "code",
   "execution_count": 84,
   "id": "c0cc4d3a-cd7a-4bd1-9c4e-fbaa52ddbec9",
   "metadata": {},
   "outputs": [
    {
     "data": {
      "text/plain": [
       "'t'"
      ]
     },
     "execution_count": 84,
     "metadata": {},
     "output_type": "execute_result"
    }
   ],
   "source": [
    "name[2]"
   ]
  },
  {
   "cell_type": "markdown",
   "id": "a270f1a6-bb80-4b49-868a-33fb31e10d93",
   "metadata": {},
   "source": [
    "# Strings"
   ]
  },
  {
   "cell_type": "code",
   "execution_count": 85,
   "id": "35c47910-1271-4826-a00f-b4df879839ce",
   "metadata": {},
   "outputs": [],
   "source": [
    "today = \"Today is a good day\""
   ]
  },
  {
   "cell_type": "code",
   "execution_count": 86,
   "id": "ed776dbb-8427-42ba-a29a-349c43e3240d",
   "metadata": {},
   "outputs": [
    {
     "data": {
      "text/plain": [
       "'TODAY IS A GOOD DAY'"
      ]
     },
     "execution_count": 86,
     "metadata": {},
     "output_type": "execute_result"
    }
   ],
   "source": [
    "today.upper()"
   ]
  },
  {
   "cell_type": "code",
   "execution_count": 87,
   "id": "c52da144-2ee6-4c21-bcde-e89c9cf9596b",
   "metadata": {},
   "outputs": [
    {
     "data": {
      "text/plain": [
       "'today is a good day'"
      ]
     },
     "execution_count": 87,
     "metadata": {},
     "output_type": "execute_result"
    }
   ],
   "source": [
    "today.lower()"
   ]
  },
  {
   "cell_type": "code",
   "execution_count": 88,
   "id": "e0d4ec52-b676-45be-993e-7d02d3fbb2f0",
   "metadata": {},
   "outputs": [],
   "source": [
    "name1 = 'Dank'"
   ]
  },
  {
   "cell_type": "code",
   "execution_count": 89,
   "id": "ba3e4639-9f35-4ef8-970b-1313d3b9ffb7",
   "metadata": {},
   "outputs": [],
   "source": [
    "name2 = 'DAnK'"
   ]
  },
  {
   "cell_type": "code",
   "execution_count": 90,
   "id": "a97980c2-80f5-4c40-82b2-0358d3ab4375",
   "metadata": {},
   "outputs": [
    {
     "name": "stdout",
     "output_type": "stream",
     "text": [
      "Throw a molotov\n"
     ]
    }
   ],
   "source": [
    "if name1 == 'Dank':\n",
    "    print('Throw a molotov')"
   ]
  },
  {
   "cell_type": "code",
   "execution_count": 95,
   "id": "40ac0c52-8798-4987-94d4-58e49aca54eb",
   "metadata": {},
   "outputs": [
    {
     "name": "stdout",
     "output_type": "stream",
     "text": [
      "Throw a molotov\n"
     ]
    }
   ],
   "source": [
    "if name2.upper() == 'Dank'.upper():\n",
    "    print('Throw a molotov')\n",
    "else:\n",
    "    print(\"chill\")"
   ]
  },
  {
   "cell_type": "code",
   "execution_count": 96,
   "id": "54cf85bd-dadf-46fe-9f52-200047dfc996",
   "metadata": {},
   "outputs": [
    {
     "name": "stdout",
     "output_type": "stream",
     "text": [
      "Throw a molotov at DAnK\n"
     ]
    }
   ],
   "source": [
    "if name2.upper() == 'Dank'.upper():\n",
    "    print(f'Throw a molotov at {name2}')\n",
    "else:\n",
    "    print(\"chill\")"
   ]
  },
  {
   "cell_type": "code",
   "execution_count": 97,
   "id": "18e07af9-7d09-46b4-8749-ea52a03986b5",
   "metadata": {},
   "outputs": [
    {
     "data": {
      "text/plain": [
       "'cat'"
      ]
     },
     "execution_count": 97,
     "metadata": {},
     "output_type": "execute_result"
    }
   ],
   "source": [
    "name"
   ]
  },
  {
   "cell_type": "code",
   "execution_count": 98,
   "id": "264ebc03-2897-4930-9060-b0f5045e1204",
   "metadata": {},
   "outputs": [
    {
     "data": {
      "text/plain": [
       "'Dank'"
      ]
     },
     "execution_count": 98,
     "metadata": {},
     "output_type": "execute_result"
    }
   ],
   "source": [
    "name1"
   ]
  },
  {
   "cell_type": "code",
   "execution_count": 100,
   "id": "868f9e53-3bee-447b-b175-9bbeeb97ad53",
   "metadata": {},
   "outputs": [
    {
     "name": "stdout",
     "output_type": "stream",
     "text": [
      "Nice Try Dank\n"
     ]
    }
   ],
   "source": [
    "print(f'Nice Try {name1}')"
   ]
  },
  {
   "cell_type": "code",
   "execution_count": 103,
   "id": "2c3106b1-5009-4522-98f4-6d3718d92b15",
   "metadata": {},
   "outputs": [
    {
     "name": "stdout",
     "output_type": "stream",
     "text": [
      "5 plus 5 = 10\n"
     ]
    }
   ],
   "source": [
    "print(f\"5 plus 5 = {5 + 5}\")"
   ]
  },
  {
   "cell_type": "markdown",
   "id": "e0940548-efe3-4611-838d-1177ca89960f",
   "metadata": {},
   "source": [
    "## Dictionaries"
   ]
  },
  {
   "cell_type": "code",
   "execution_count": 104,
   "id": "ed025261-2cf4-4f5d-8b07-b6fb77018fb4",
   "metadata": {},
   "outputs": [],
   "source": [
    "phonebook = {\n",
    "    'john': '123-45',\n",
    "    'Dank': 'no not call',\n",
    "    'Lizzo': 'do not answer'\n",
    "}\n"
   ]
  },
  {
   "cell_type": "code",
   "execution_count": 105,
   "id": "e05851ab-a684-4939-abe9-889c69d32dd8",
   "metadata": {},
   "outputs": [
    {
     "data": {
      "text/plain": [
       "{'john': '123-45', 'Dank': 'no not call', 'Lizzo': 'do not answer'}"
      ]
     },
     "execution_count": 105,
     "metadata": {},
     "output_type": "execute_result"
    }
   ],
   "source": [
    "phonebook"
   ]
  },
  {
   "cell_type": "code",
   "execution_count": 106,
   "id": "14cd43fb-b455-454b-a9ea-ee85ff1a3504",
   "metadata": {},
   "outputs": [
    {
     "data": {
      "text/plain": [
       "'123-45'"
      ]
     },
     "execution_count": 106,
     "metadata": {},
     "output_type": "execute_result"
    }
   ],
   "source": [
    "phonebook['john']"
   ]
  },
  {
   "cell_type": "code",
   "execution_count": 107,
   "id": "e326a8df-d207-493f-8549-81669c527f7e",
   "metadata": {},
   "outputs": [
    {
     "data": {
      "text/plain": [
       "'no not call'"
      ]
     },
     "execution_count": 107,
     "metadata": {},
     "output_type": "execute_result"
    }
   ],
   "source": [
    "phonebook['Dank']"
   ]
  },
  {
   "cell_type": "code",
   "execution_count": 108,
   "id": "9fdf60bb-99e7-4b33-bbad-0741d82d6811",
   "metadata": {},
   "outputs": [
    {
     "data": {
      "text/plain": [
       "'do not answer'"
      ]
     },
     "execution_count": 108,
     "metadata": {},
     "output_type": "execute_result"
    }
   ],
   "source": [
    "phonebook['Lizzo']"
   ]
  },
  {
   "cell_type": "code",
   "execution_count": 109,
   "id": "98f1f096-9a60-4244-9be9-56bcf038f84d",
   "metadata": {},
   "outputs": [],
   "source": [
    "phonebook = {\n",
    "    'john': '123-45',\n",
    "    'Dank': 'no not call',\n",
    "    'Lizzo': 'do not answer',\n",
    "}"
   ]
  },
  {
   "cell_type": "code",
   "execution_count": 113,
   "id": "a536b58c-5d38-4ea8-b1e4-4c61d0b1ca63",
   "metadata": {},
   "outputs": [],
   "source": [
    "phonebook['david'] = '567-901'"
   ]
  },
  {
   "cell_type": "code",
   "execution_count": 114,
   "id": "dfe417b9-6820-4428-a1b8-02af5002cb35",
   "metadata": {},
   "outputs": [
    {
     "data": {
      "text/plain": [
       "'567-901'"
      ]
     },
     "execution_count": 114,
     "metadata": {},
     "output_type": "execute_result"
    }
   ],
   "source": [
    "phonebook['david']"
   ]
  },
  {
   "cell_type": "code",
   "execution_count": 116,
   "id": "d712b18a-5c18-461b-9967-d86d62df6780",
   "metadata": {},
   "outputs": [
    {
     "data": {
      "text/plain": [
       "'not found'"
      ]
     },
     "execution_count": 116,
     "metadata": {},
     "output_type": "execute_result"
    }
   ],
   "source": [
    "phonebook.get('leo', 'not found')"
   ]
  },
  {
   "cell_type": "code",
   "execution_count": 117,
   "id": "3a0fe095-d747-4161-98a0-e55deb956473",
   "metadata": {},
   "outputs": [],
   "source": [
    "phonebook['Lizzo'] = 'Nope'"
   ]
  },
  {
   "cell_type": "code",
   "execution_count": 118,
   "id": "4cd5caee-1129-43ff-8f18-9c50ced09526",
   "metadata": {},
   "outputs": [
    {
     "data": {
      "text/plain": [
       "'Nope'"
      ]
     },
     "execution_count": 118,
     "metadata": {},
     "output_type": "execute_result"
    }
   ],
   "source": [
    "phonebook['Lizzo']"
   ]
  },
  {
   "cell_type": "code",
   "execution_count": 119,
   "id": "4d9dc256-6418-4736-9e3a-c9c6833c8dfe",
   "metadata": {},
   "outputs": [],
   "source": [
    "phonebook['Lizzo'] = ['Nope', 'Hell No']"
   ]
  },
  {
   "cell_type": "code",
   "execution_count": 120,
   "id": "9ea896ce-2b58-4019-a16b-9f2c3f5a1d8d",
   "metadata": {},
   "outputs": [
    {
     "data": {
      "text/plain": [
       "['Nope', 'Hell No']"
      ]
     },
     "execution_count": 120,
     "metadata": {},
     "output_type": "execute_result"
    }
   ],
   "source": [
    "phonebook['Lizzo']"
   ]
  },
  {
   "cell_type": "code",
   "execution_count": 121,
   "id": "e01388ef-375e-4c24-8f96-d140ef29ce14",
   "metadata": {},
   "outputs": [
    {
     "name": "stdout",
     "output_type": "stream",
     "text": [
      "John is in Phonebook\n"
     ]
    }
   ],
   "source": [
    "if 'john' in phonebook:\n",
    "    print('John is in Phonebook')"
   ]
  },
  {
   "cell_type": "code",
   "execution_count": 122,
   "id": "baddcf9b-4062-4041-8a7c-fc9da03a94c7",
   "metadata": {},
   "outputs": [
    {
     "ename": "KeyError",
     "evalue": "'LizZo'",
     "output_type": "error",
     "traceback": [
      "\u001b[0;31m---------------------------------------------------------------------------\u001b[0m",
      "\u001b[0;31mKeyError\u001b[0m                                  Traceback (most recent call last)",
      "Cell \u001b[0;32mIn[122], line 1\u001b[0m\n\u001b[0;32m----> 1\u001b[0m phonebook[\u001b[38;5;124m'\u001b[39m\u001b[38;5;124mLizZo\u001b[39m\u001b[38;5;124m'\u001b[39m]\n",
      "\u001b[0;31mKeyError\u001b[0m: 'LizZo'"
     ]
    }
   ],
   "source": [
    "phonebook['LizZo']"
   ]
  },
  {
   "cell_type": "code",
   "execution_count": 123,
   "id": "91645f05-3a6f-4a88-8f01-d6e25dd7376b",
   "metadata": {},
   "outputs": [
    {
     "ename": "AttributeError",
     "evalue": "'list' object has no attribute 'lower'",
     "output_type": "error",
     "traceback": [
      "\u001b[0;31m---------------------------------------------------------------------------\u001b[0m",
      "\u001b[0;31mAttributeError\u001b[0m                            Traceback (most recent call last)",
      "Cell \u001b[0;32mIn[123], line 1\u001b[0m\n\u001b[0;32m----> 1\u001b[0m phonebook[\u001b[38;5;124m'\u001b[39m\u001b[38;5;124mLizzo\u001b[39m\u001b[38;5;124m'\u001b[39m]\u001b[38;5;241m.\u001b[39mlower()\n",
      "\u001b[0;31mAttributeError\u001b[0m: 'list' object has no attribute 'lower'"
     ]
    }
   ],
   "source": [
    "phonebook['Lizzo']"
   ]
  },
  {
   "cell_type": "code",
   "execution_count": 124,
   "id": "e773750f-8883-4294-b47e-50592f04aeb9",
   "metadata": {},
   "outputs": [
    {
     "data": {
      "text/plain": [
       "True"
      ]
     },
     "execution_count": 124,
     "metadata": {},
     "output_type": "execute_result"
    }
   ],
   "source": [
    "True or False"
   ]
  },
  {
   "cell_type": "code",
   "execution_count": 125,
   "id": "4627329e-c82a-44da-b8a5-24570afa2bea",
   "metadata": {},
   "outputs": [
    {
     "data": {
      "text/plain": [
       "True"
      ]
     },
     "execution_count": 125,
     "metadata": {},
     "output_type": "execute_result"
    }
   ],
   "source": [
    "False or True"
   ]
  },
  {
   "cell_type": "code",
   "execution_count": 131,
   "id": "3aa67d4f-f5ac-4343-af3a-8dac239864c7",
   "metadata": {},
   "outputs": [],
   "source": [
    "if 'Dae' not in phonebook: \n",
    "    phonebook['Dae'] = '1235-987'"
   ]
  },
  {
   "cell_type": "code",
   "execution_count": 142,
   "id": "38d3e37a-090d-41ca-84b5-f036f9e662be",
   "metadata": {},
   "outputs": [],
   "source": [
    "paid_members = {\n",
    "    'Dae': 'paid',\n",
    "    'Austin': 'not_paid',\n",
    "    'Astin': 'not_paid'\n",
    "}"
   ]
  },
  {
   "cell_type": "code",
   "execution_count": 134,
   "id": "24646099-49d3-429e-bb8e-8a82b53190a6",
   "metadata": {},
   "outputs": [
    {
     "name": "stdout",
     "output_type": "stream",
     "text": [
      "Dank em\n"
     ]
    }
   ],
   "source": [
    "if paid_members['Austin'] == 'not_paid':\n",
    "    print('Dank em')"
   ]
  },
  {
   "cell_type": "code",
   "execution_count": 135,
   "id": "e73836db-1073-4af6-9a92-7ca1f4350b89",
   "metadata": {},
   "outputs": [
    {
     "data": {
      "text/plain": [
       "dict_keys(['Dae', 'Austin'])"
      ]
     },
     "execution_count": 135,
     "metadata": {},
     "output_type": "execute_result"
    }
   ],
   "source": [
    "paid_members.keys()"
   ]
  },
  {
   "cell_type": "code",
   "execution_count": 148,
   "id": "d27beb7d-867b-407f-a431-06bc6f9c1a11",
   "metadata": {},
   "outputs": [
    {
     "name": "stdout",
     "output_type": "stream",
     "text": [
      "Austin Dank em\n",
      "Astin Dank em\n"
     ]
    }
   ],
   "source": [
    "for placeholder in paid_members.keys():\n",
    "    if paid_members[placeholder] == 'not_paid':\n",
    "        print(f'{placeholder} Dank em')"
   ]
  },
  {
   "cell_type": "code",
   "execution_count": 149,
   "id": "d9a91edb-ccdb-4f00-b877-3ab5dba5e56d",
   "metadata": {},
   "outputs": [
    {
     "name": "stdout",
     "output_type": "stream",
     "text": [
      "Dae is a paid member.\n",
      "Austin is a not_paid member.\n",
      "Astin is a not_paid member.\n"
     ]
    }
   ],
   "source": [
    "for k, v in paid_members.items():\n",
    "    if v == 'Paid':\n",
    "        print(f'{k} is a {v} member.')\n",
    "    else:\n",
    "        print(f'{k} is a {v} member.')"
   ]
  },
  {
   "cell_type": "code",
   "execution_count": null,
   "id": "e60b6e87-56a0-4551-9bb4-07d982d6532b",
   "metadata": {},
   "outputs": [],
   "source": []
  }
 ],
 "metadata": {
  "kernelspec": {
   "display_name": "Python 3 (ipykernel)",
   "language": "python",
   "name": "python3"
  },
  "language_info": {
   "codemirror_mode": {
    "name": "ipython",
    "version": 3
   },
   "file_extension": ".py",
   "mimetype": "text/x-python",
   "name": "python",
   "nbconvert_exporter": "python",
   "pygments_lexer": "ipython3",
   "version": "3.12.7"
  }
 },
 "nbformat": 4,
 "nbformat_minor": 5
}
