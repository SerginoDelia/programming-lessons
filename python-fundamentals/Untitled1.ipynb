{
 "cells": [
  {
   "cell_type": "markdown",
   "id": "5fd95371-1c37-4325-a355-c529cc95b1eb",
   "metadata": {},
   "source": [
    "## Conditionals"
   ]
  },
  {
   "cell_type": "markdown",
   "id": "2636b31e-7365-420f-96ac-3e5b3a623e04",
   "metadata": {},
   "source": [
    "if\n",
    "elif ---> else if\n",
    "else\n"
   ]
  },
  {
   "cell_type": "code",
   "execution_count": null,
   "id": "fbf39e7c-0994-477a-a3ab-425d1aad76d8",
   "metadata": {},
   "outputs": [],
   "source": [
    "if something is true\n",
    "    do something\n",
    "else\n",
    "    do something else\n",
    "\n",
    "\n",
    "Traffic\n",
    "\n",
    "if green light\n",
    "    drive\n",
    "elif yellow light\n",
    "    drive if you can\n",
    "else (optional red light condition)\n",
    "    stop\n",
    "\n",
    "weather = 'Sunny'\n",
    "if  weather == 'Sunny':\n",
    "    print('Let\\' go to the beach')\n",
    "else:\n",
    "    print(\"let's stay inside\")"
   ]
  },
  {
   "cell_type": "code",
   "execution_count": 1,
   "id": "d2709152-16d8-462a-b9b4-10bddc95b604",
   "metadata": {},
   "outputs": [
    {
     "name": "stdout",
     "output_type": "stream",
     "text": [
      "Let' go to the beach\n"
     ]
    }
   ],
   "source": [
    "weather = 'Sunny'\n",
    "if  weather == 'Sunny':\n",
    "    print('Let\\' go to the beach')\n",
    "else:\n",
    "    print(\"let's stay inside\")"
   ]
  },
  {
   "cell_type": "code",
   "execution_count": 2,
   "id": "e8c15ea7-2cdb-47b1-822e-4042f28659c0",
   "metadata": {},
   "outputs": [
    {
     "name": "stdout",
     "output_type": "stream",
     "text": [
      "Let' go to the beach\n"
     ]
    }
   ],
   "source": [
    "if  weather != 'Sunny':\n",
    "    print(\"let\\'s stay inside\")\n",
    "else:\n",
    "    print('Let\\' go to the beach')"
   ]
  },
  {
   "cell_type": "code",
   "execution_count": 4,
   "id": "c76ded98-f0e1-4e72-94a4-d92f986fa788",
   "metadata": {},
   "outputs": [
    {
     "name": "stdout",
     "output_type": "stream",
     "text": [
      "Take a jacket\n"
     ]
    }
   ],
   "source": [
    "weather = 'Cold'\n",
    "\n",
    "if  weather == 'Sunny':\n",
    "    print('Let\\' go to the beach')\n",
    "elif weather == 'Cold':\n",
    "    print('Take a jacket')\n",
    "else:\n",
    "    print(\"let's stay inside\")"
   ]
  },
  {
   "cell_type": "code",
   "execution_count": 14,
   "id": "afbb4acc-de04-4d70-8ab6-994a378510f4",
   "metadata": {},
   "outputs": [
    {
     "name": "stdout",
     "output_type": "stream",
     "text": [
      "let's stay inside\n"
     ]
    }
   ],
   "source": [
    "weather = 'Overcast'\n",
    "\n",
    "if  weather == 'Sunny':\n",
    "    print('Let\\' go to the beach')\n",
    "elif weather == 'Cold':\n",
    "    print('Take a jacket')\n",
    "else:\n",
    "    print(\"let's stay inside\")"
   ]
  },
  {
   "cell_type": "code",
   "execution_count": 6,
   "id": "b50cca41-af51-4775-974d-73f0a2e8201f",
   "metadata": {},
   "outputs": [],
   "source": [
    "name = 'Dank'"
   ]
  },
  {
   "cell_type": "code",
   "execution_count": 8,
   "id": "595df385-555f-48db-8206-d8a148b75188",
   "metadata": {},
   "outputs": [
    {
     "name": "stdout",
     "output_type": "stream",
     "text": [
      "Run at full speed\n"
     ]
    }
   ],
   "source": [
    "if name == 'Dank':\n",
    "    print('Run at full speed')\n",
    "else:\n",
    "    print('Investigate')"
   ]
  },
  {
   "cell_type": "code",
   "execution_count": 11,
   "id": "0ac3bb6f-97a1-47f7-9c90-54b0513c6276",
   "metadata": {},
   "outputs": [
    {
     "data": {
      "text/plain": [
       "False"
      ]
     },
     "execution_count": 11,
     "metadata": {},
     "output_type": "execute_result"
    }
   ],
   "source": [
    "1 > id('D')"
   ]
  },
  {
   "cell_type": "code",
   "execution_count": 12,
   "id": "75c5d13e-43e2-463c-8b9e-0cf7f3e2a844",
   "metadata": {},
   "outputs": [
    {
     "name": "stdout",
     "output_type": "stream",
     "text": [
      "4302278184\n"
     ]
    }
   ],
   "source": [
    "print(id('D'))"
   ]
  },
  {
   "cell_type": "code",
   "execution_count": 13,
   "id": "53ef67a2-e07a-4ef3-b483-264ad9dd9411",
   "metadata": {},
   "outputs": [
    {
     "name": "stdout",
     "output_type": "stream",
     "text": [
      "Temp is fine\n"
     ]
    }
   ],
   "source": [
    "temp = 75\n",
    "\n",
    "if temp > 80:\n",
    "    print('Turn the AC on')\n",
    "else:\n",
    "    print('Temp is fine')"
   ]
  },
  {
   "cell_type": "code",
   "execution_count": 15,
   "id": "da64d9dd-a5e3-4f8e-8ac2-edfba2c09344",
   "metadata": {},
   "outputs": [
    {
     "name": "stdout",
     "output_type": "stream",
     "text": [
      "Dank\n"
     ]
    }
   ],
   "source": [
    "weight = 600\n",
    "\n",
    "if weight >= 600:\n",
    "    person = 'Dank'\n",
    "    print(person)\n",
    "else:\n",
    "    print('Stop eating')"
   ]
  },
  {
   "cell_type": "code",
   "execution_count": 17,
   "id": "bd15a7fd-2c79-49a3-96fd-687bc6fdfa0d",
   "metadata": {},
   "outputs": [
    {
     "name": "stdout",
     "output_type": "stream",
     "text": [
      "It's probably Dank\n"
     ]
    }
   ],
   "source": [
    "weight = 600\n",
    "person = 'Lizzo'\n",
    "\n",
    "if weight >= 600:\n",
    "    person = 'Dank'\n",
    "    print(f\"It's probably {person}\")\n",
    "else:\n",
    "    print('Stop eating')"
   ]
  },
  {
   "cell_type": "code",
   "execution_count": 20,
   "id": "3aa68023-ce20-479a-8c99-bb83b61d044a",
   "metadata": {},
   "outputs": [
    {
     "name": "stdout",
     "output_type": "stream",
     "text": [
      "Lizzo I love to eat\n"
     ]
    }
   ],
   "source": [
    "name = 'Lizzo'\n",
    "\n",
    "print(name + \" I love to eat\")"
   ]
  },
  {
   "cell_type": "code",
   "execution_count": 21,
   "id": "cfa48ab2-8197-4a9f-8e7c-9d5661e7583b",
   "metadata": {},
   "outputs": [
    {
     "name": "stdout",
     "output_type": "stream",
     "text": [
      "Lizzo I love to eat\n"
     ]
    }
   ],
   "source": [
    "name = 'Lizzo'\n",
    "\n",
    "print(f\"{name} I love to eat\")"
   ]
  },
  {
   "cell_type": "code",
   "execution_count": 22,
   "id": "e08f3956-3094-445d-b84a-f561a56aba46",
   "metadata": {},
   "outputs": [
    {
     "name": "stdout",
     "output_type": "stream",
     "text": [
      "Lizzo I love to eat, but not as much as Dank\n",
      "Lizzo I love to eat, but not as much as Dank\n"
     ]
    }
   ],
   "source": [
    "name = 'Lizzo'\n",
    "name2 = 'Dank'\n",
    "\n",
    "print(name + \" I love to eat, but not as much as \" + name2)\n",
    "\n",
    "print(f\"{name} I love to eat, but not as much as {name2}\")"
   ]
  },
  {
   "cell_type": "markdown",
   "id": "89657da7-6cf1-4ac0-b65c-78e28b7e59a1",
   "metadata": {},
   "source": [
    "## Ternary Conditional Operator"
   ]
  },
  {
   "cell_type": "markdown",
   "id": "d6e4785b-75c1-439d-8ddd-5b1bf334527e",
   "metadata": {},
   "source": [
    "`value if <conditional expression> else value2`"
   ]
  },
  {
   "cell_type": "code",
   "execution_count": 24,
   "id": "1d9e617c-a1a7-4875-90a3-6dc4390f4c31",
   "metadata": {},
   "outputs": [
    {
     "name": "stdout",
     "output_type": "stream",
     "text": [
      "Dank\n"
     ]
    }
   ],
   "source": [
    "weight = 550\n",
    "name = 'Dank' if weight > 500 else 'Not Dank'\n",
    "\n",
    "print(name)"
   ]
  },
  {
   "cell_type": "code",
   "execution_count": 25,
   "id": "1b0e638d-0899-48e0-9720-5de2abbf0c97",
   "metadata": {},
   "outputs": [
    {
     "name": "stdout",
     "output_type": "stream",
     "text": [
      "Dank\n"
     ]
    }
   ],
   "source": [
    "weight = 550\n",
    "\n",
    "if weight > 500:\n",
    "    name = 'Dank'\n",
    "    print(name)\n",
    "else:\n",
    "    name = 'Not Dank'\n",
    "    print(name)"
   ]
  },
  {
   "cell_type": "code",
   "execution_count": 26,
   "id": "4a117d3a-ba2d-4a7c-b69d-d61a870e9f3e",
   "metadata": {},
   "outputs": [
    {
     "name": "stdout",
     "output_type": "stream",
     "text": [
      "Dank\n"
     ]
    }
   ],
   "source": [
    "weight = 550\n",
    "\n",
    "if weight > 500:\n",
    "    name = 'Dank'\n",
    "else:\n",
    "    name = 'Not Dank'\n",
    "\n",
    "print(name)"
   ]
  },
  {
   "cell_type": "code",
   "execution_count": 27,
   "id": "d08fe127-e2d0-4eb9-b1a6-0dd2330f23c4",
   "metadata": {},
   "outputs": [
    {
     "name": "stdout",
     "output_type": "stream",
     "text": [
      "Run\n"
     ]
    }
   ],
   "source": [
    "action = \"Run\" if weight > 500 else \"check her out\"\n",
    "print(action)"
   ]
  },
  {
   "cell_type": "code",
   "execution_count": 31,
   "id": "377b6abe-4916-4cd9-8543-5d8d3601d176",
   "metadata": {},
   "outputs": [],
   "source": [
    "action = \"RUN\" if weight < 400 else \"check her out\""
   ]
  },
  {
   "cell_type": "code",
   "execution_count": 29,
   "id": "e1795ad5-c5e3-4591-ab8d-f95dbdcd3e39",
   "metadata": {},
   "outputs": [
    {
     "name": "stdout",
     "output_type": "stream",
     "text": [
      "Run\n"
     ]
    }
   ],
   "source": [
    "print(action)"
   ]
  },
  {
   "cell_type": "markdown",
   "id": "70121a56-de19-4b26-acb3-dad86ceede85",
   "metadata": {},
   "source": [
    "```\n",
    "and \n",
    "or\n",
    "```"
   ]
  },
  {
   "cell_type": "code",
   "execution_count": 33,
   "id": "196742f6-e47f-4e20-9bcb-94f626521801",
   "metadata": {},
   "outputs": [],
   "source": [
    "name = 'Jane'\n",
    "weight = 125"
   ]
  },
  {
   "cell_type": "code",
   "execution_count": 34,
   "id": "bea028b5-f017-4738-a4a9-183ae89d12db",
   "metadata": {},
   "outputs": [
    {
     "name": "stdout",
     "output_type": "stream",
     "text": [
      "Run\n"
     ]
    }
   ],
   "source": [
    "if name == 'Dank' or weight == 500:\n",
    "    print('Run')\n",
    "else:\n",
    "    print('Walk')"
   ]
  },
  {
   "cell_type": "code",
   "execution_count": 35,
   "id": "85537ecb-f441-4974-8835-4ae0a439d51b",
   "metadata": {},
   "outputs": [],
   "source": [
    "name = 'Jane'\n",
    "weight = 125"
   ]
  },
  {
   "cell_type": "code",
   "execution_count": 36,
   "id": "bbe37e94-a7da-4c3e-b2ab-38d72287db4e",
   "metadata": {},
   "outputs": [
    {
     "name": "stdout",
     "output_type": "stream",
     "text": [
      "Walk\n"
     ]
    }
   ],
   "source": [
    "if name == 'Jane' and weight == 125:\n",
    "    print('Walk')\n",
    "else:\n",
    "    print('Run')"
   ]
  },
  {
   "cell_type": "code",
   "execution_count": 38,
   "id": "9a6d0192-c482-41e3-806c-e39c82a7c8d0",
   "metadata": {},
   "outputs": [
    {
     "name": "stdout",
     "output_type": "stream",
     "text": [
      "Walk\n"
     ]
    }
   ],
   "source": [
    "if name == 'lizzo' or weight > 100:\n",
    "    print('Walk')\n",
    "else:\n",
    "    print('Run')"
   ]
  },
  {
   "cell_type": "code",
   "execution_count": 39,
   "id": "4bcab429-bec1-434b-b51a-146508ff6219",
   "metadata": {},
   "outputs": [
    {
     "data": {
      "text/plain": [
       "True"
      ]
     },
     "execution_count": 39,
     "metadata": {},
     "output_type": "execute_result"
    }
   ],
   "source": [
    "True and True"
   ]
  },
  {
   "cell_type": "code",
   "execution_count": 40,
   "id": "6fc833d0-3c3a-483b-bfba-b486976f2494",
   "metadata": {},
   "outputs": [
    {
     "data": {
      "text/plain": [
       "False"
      ]
     },
     "execution_count": 40,
     "metadata": {},
     "output_type": "execute_result"
    }
   ],
   "source": [
    "True and False"
   ]
  },
  {
   "cell_type": "code",
   "execution_count": 41,
   "id": "a755f545-5c01-4aef-952f-1e73908b2b47",
   "metadata": {},
   "outputs": [
    {
     "data": {
      "text/plain": [
       "False"
      ]
     },
     "execution_count": 41,
     "metadata": {},
     "output_type": "execute_result"
    }
   ],
   "source": [
    "False and True"
   ]
  },
  {
   "cell_type": "code",
   "execution_count": 42,
   "id": "19f28aff-984f-441e-9a9f-c914d9fea737",
   "metadata": {},
   "outputs": [
    {
     "data": {
      "text/plain": [
       "True"
      ]
     },
     "execution_count": 42,
     "metadata": {},
     "output_type": "execute_result"
    }
   ],
   "source": [
    "True or False"
   ]
  },
  {
   "cell_type": "code",
   "execution_count": 43,
   "id": "eb064061-c9ba-4808-828b-392569c30547",
   "metadata": {},
   "outputs": [
    {
     "data": {
      "text/plain": [
       "True"
      ]
     },
     "execution_count": 43,
     "metadata": {},
     "output_type": "execute_result"
    }
   ],
   "source": [
    "False or True"
   ]
  },
  {
   "cell_type": "code",
   "execution_count": 44,
   "id": "ecc37378-0819-4a74-9a38-4b0f68e12d2a",
   "metadata": {},
   "outputs": [],
   "source": [
    "name = 'Jane'\n",
    "weight = 125"
   ]
  },
  {
   "cell_type": "code",
   "execution_count": 45,
   "id": "b3e2d87c-bb2d-41a0-8bbd-6498c7b41714",
   "metadata": {},
   "outputs": [
    {
     "name": "stdout",
     "output_type": "stream",
     "text": [
      "Lower food bill\n"
     ]
    }
   ],
   "source": [
    "if not name == 'Lizzo':\n",
    "    print('Lower food bill')"
   ]
  },
  {
   "cell_type": "code",
   "execution_count": 46,
   "id": "539ecacc-feed-4e39-98d1-806a4e0fb798",
   "metadata": {},
   "outputs": [
    {
     "data": {
      "text/plain": [
       "False"
      ]
     },
     "execution_count": 46,
     "metadata": {},
     "output_type": "execute_result"
    }
   ],
   "source": [
    "not True"
   ]
  },
  {
   "cell_type": "code",
   "execution_count": 47,
   "id": "088a098f-b679-446d-aedb-872284b6cdac",
   "metadata": {},
   "outputs": [
    {
     "data": {
      "text/plain": [
       "True"
      ]
     },
     "execution_count": 47,
     "metadata": {},
     "output_type": "execute_result"
    }
   ],
   "source": [
    "not False"
   ]
  },
  {
   "cell_type": "code",
   "execution_count": 48,
   "id": "81174a01-2280-4940-b626-dcbff7b8832a",
   "metadata": {},
   "outputs": [
    {
     "ename": "SyntaxError",
     "evalue": "invalid syntax (2034196237.py, line 1)",
     "output_type": "error",
     "traceback": [
      "\u001b[0;36m  Cell \u001b[0;32mIn[48], line 1\u001b[0;36m\u001b[0m\n\u001b[0;31m    not = 'Lizzo'\u001b[0m\n\u001b[0m        ^\u001b[0m\n\u001b[0;31mSyntaxError\u001b[0m\u001b[0;31m:\u001b[0m invalid syntax\n"
     ]
    }
   ],
   "source": [
    "not = 'Lizzo'"
   ]
  },
  {
   "cell_type": "code",
   "execution_count": 49,
   "id": "9c1a95c9-0880-4598-a247-56c36e3c224a",
   "metadata": {},
   "outputs": [
    {
     "ename": "SyntaxError",
     "evalue": "invalid syntax (689533485.py, line 1)",
     "output_type": "error",
     "traceback": [
      "\u001b[0;36m  Cell \u001b[0;32mIn[49], line 1\u001b[0;36m\u001b[0m\n\u001b[0;31m    or = 'Lizzo'\u001b[0m\n\u001b[0m    ^\u001b[0m\n\u001b[0;31mSyntaxError\u001b[0m\u001b[0;31m:\u001b[0m invalid syntax\n"
     ]
    }
   ],
   "source": [
    "or = 'Lizzo'"
   ]
  },
  {
   "cell_type": "code",
   "execution_count": 50,
   "id": "311c291b-4e80-4aee-ab07-56feb206e5df",
   "metadata": {},
   "outputs": [
    {
     "name": "stdout",
     "output_type": "stream",
     "text": [
      "Lower food bill\n"
     ]
    }
   ],
   "source": [
    "name = 'Jane'\n",
    "weight = 125\n",
    "\n",
    "if name != 'Lizzo':\n",
    "    print('Lower food bill')"
   ]
  },
  {
   "cell_type": "code",
   "execution_count": 51,
   "id": "53e14d94-053d-4293-b7b2-15e8a2ac80e8",
   "metadata": {},
   "outputs": [
    {
     "name": "stdout",
     "output_type": "stream",
     "text": [
      "Yes it' Dank\n"
     ]
    }
   ],
   "source": [
    "name = 'Dank'\n",
    "if not name != 'Dank':\n",
    "    print('Yes it\\' Dank')"
   ]
  },
  {
   "cell_type": "code",
   "execution_count": 52,
   "id": "36977680-4eb2-4dc7-a69a-98d0ea84298b",
   "metadata": {},
   "outputs": [
    {
     "data": {
      "text/plain": [
       "True"
      ]
     },
     "execution_count": 52,
     "metadata": {},
     "output_type": "execute_result"
    }
   ],
   "source": [
    "not False"
   ]
  },
  {
   "cell_type": "code",
   "execution_count": 53,
   "id": "b57577a0-b686-44cd-8c9e-964ee965f0a4",
   "metadata": {},
   "outputs": [
    {
     "name": "stdout",
     "output_type": "stream",
     "text": [
      "Yes it' Dank\n"
     ]
    }
   ],
   "source": [
    "if name == 'Dank':\n",
    "    print('Yes it\\' Dank')"
   ]
  },
  {
   "cell_type": "code",
   "execution_count": null,
   "id": "99304e5c-9ca6-44d7-a484-d1750961247e",
   "metadata": {},
   "outputs": [],
   "source": []
  }
 ],
 "metadata": {
  "kernelspec": {
   "display_name": "Python 3 (ipykernel)",
   "language": "python",
   "name": "python3"
  },
  "language_info": {
   "codemirror_mode": {
    "name": "ipython",
    "version": 3
   },
   "file_extension": ".py",
   "mimetype": "text/x-python",
   "name": "python",
   "nbconvert_exporter": "python",
   "pygments_lexer": "ipython3",
   "version": "3.12.7"
  }
 },
 "nbformat": 4,
 "nbformat_minor": 5
}
