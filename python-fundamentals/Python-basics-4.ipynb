{
 "cells": [
  {
   "cell_type": "markdown",
   "id": "8199f567-6e2d-4a8c-8353-19c131443998",
   "metadata": {},
   "source": [
    "# Python Basics"
   ]
  },
  {
   "cell_type": "code",
   "execution_count": 1,
   "id": "3ab46d19-c88e-41b2-9892-fc56cdd899f1",
   "metadata": {},
   "outputs": [],
   "source": [
    "# Data types"
   ]
  },
  {
   "cell_type": "code",
   "execution_count": 2,
   "id": "46655d27-8238-403e-8294-0211073eb1fd",
   "metadata": {},
   "outputs": [],
   "source": [
    "str = \"Serge\"\n",
    "name = 'John'\n",
    "multiline_str = \"\"\"This is a \n",
    "multiline string\n",
    "end\n",
    "\"\"\"\n",
    "integers = 23\n",
    "floats = 7.55"
   ]
  },
  {
   "cell_type": "code",
   "execution_count": 3,
   "id": "41a4c9b6-04eb-43e6-bba0-2e5b8c5bf089",
   "metadata": {},
   "outputs": [
    {
     "name": "stdout",
     "output_type": "stream",
     "text": [
      "Serge\n"
     ]
    }
   ],
   "source": [
    "print(str)"
   ]
  },
  {
   "cell_type": "code",
   "execution_count": 5,
   "id": "a02333b2-154f-436e-a6e2-026ed41d6d1d",
   "metadata": {},
   "outputs": [
    {
     "name": "stdout",
     "output_type": "stream",
     "text": [
      "This is a \n",
      "multiline string\n",
      "end\n",
      "\n"
     ]
    }
   ],
   "source": [
    "print(multiline_str)"
   ]
  },
  {
   "cell_type": "code",
   "execution_count": 6,
   "id": "f57b7d32-ce85-4ec1-bd71-58aabba4260f",
   "metadata": {},
   "outputs": [
    {
     "name": "stdout",
     "output_type": "stream",
     "text": [
      "23\n"
     ]
    }
   ],
   "source": [
    "print(integers)"
   ]
  },
  {
   "cell_type": "code",
   "execution_count": 7,
   "id": "34d63702-6f87-4353-9888-60acbe5e9ebe",
   "metadata": {},
   "outputs": [
    {
     "name": "stdout",
     "output_type": "stream",
     "text": [
      "7.55\n"
     ]
    }
   ],
   "source": [
    "print(floats)"
   ]
  },
  {
   "cell_type": "code",
   "execution_count": 8,
   "id": "31dd30dd-5631-4698-9b49-077cb77891ae",
   "metadata": {},
   "outputs": [],
   "source": [
    "#booleans\n",
    "\n",
    "love_lizzo = False"
   ]
  },
  {
   "cell_type": "code",
   "execution_count": 9,
   "id": "58741a04-03d6-4331-8659-5a9bbc6a3b99",
   "metadata": {},
   "outputs": [
    {
     "name": "stdout",
     "output_type": "stream",
     "text": [
      "False\n"
     ]
    }
   ],
   "source": [
    "print(love_lizzo)\n"
   ]
  },
  {
   "cell_type": "code",
   "execution_count": 10,
   "id": "434a2a6d-ff33-4548-9c9c-0ec3460eef22",
   "metadata": {},
   "outputs": [
    {
     "name": "stdout",
     "output_type": "stream",
     "text": [
      "True\n"
     ]
    }
   ],
   "source": [
    "is_thursday = True\n",
    "print(is_thursday)"
   ]
  },
  {
   "cell_type": "markdown",
   "id": "3045f92e-7f04-4616-9aa3-d020c7f79d61",
   "metadata": {},
   "source": [
    "Python Convention\n",
    "\n",
    "snake_case\n",
    "\n",
    "JS --> camalCase\n",
    "\n",
    "Naming:\n",
    "\n",
    "_can_start_with_underscore\n",
    "can_start_with_letter\n",
    "\n",
    "cannot start with a number\n",
    "3_my_var\n",
    "\n",
    "Variables can include a number\n",
    "my_var3\n",
    "my_3_var\n",
    "\n"
   ]
  },
  {
   "cell_type": "markdown",
   "id": "98a5f18e-c2f3-4c4f-8161-790fd1e3a5a3",
   "metadata": {},
   "source": [
    "Reserved Keywords\n",
    "\n",
    "str\n",
    "int\n",
    "True\n",
    "False\n",
    "if\n",
    "else\n",
    "elif  --> else if\n",
    "and\n",
    "or"
   ]
  },
  {
   "cell_type": "markdown",
   "id": "fbb7aa23-4132-4c18-804e-0451861ca5cf",
   "metadata": {},
   "source": [
    "## Math \n",
    "\n",
    "PEMDAS"
   ]
  },
  {
   "cell_type": "code",
   "execution_count": 12,
   "id": "2b9f23f4-1d45-4b7c-8f26-5e447941e5c4",
   "metadata": {},
   "outputs": [
    {
     "data": {
      "text/plain": [
       "3"
      ]
     },
     "execution_count": 12,
     "metadata": {},
     "output_type": "execute_result"
    }
   ],
   "source": [
    "1 + 2"
   ]
  },
  {
   "cell_type": "code",
   "execution_count": 13,
   "id": "6d15de14-7579-4d9e-9ce1-b8d05bac8932",
   "metadata": {},
   "outputs": [
    {
     "data": {
      "text/plain": [
       "1"
      ]
     },
     "execution_count": 13,
     "metadata": {},
     "output_type": "execute_result"
    }
   ],
   "source": [
    "3 - 2"
   ]
  },
  {
   "cell_type": "code",
   "execution_count": 14,
   "id": "27c79a40-0cb2-4915-90e3-11559ac903b1",
   "metadata": {},
   "outputs": [
    {
     "data": {
      "text/plain": [
       "12"
      ]
     },
     "execution_count": 14,
     "metadata": {},
     "output_type": "execute_result"
    }
   ],
   "source": [
    "3 * 4"
   ]
  },
  {
   "cell_type": "code",
   "execution_count": 15,
   "id": "dcde0670-83df-42b1-a78e-121cbc77c9d0",
   "metadata": {},
   "outputs": [
    {
     "data": {
      "text/plain": [
       "4.0"
      ]
     },
     "execution_count": 15,
     "metadata": {},
     "output_type": "execute_result"
    }
   ],
   "source": [
    "12 / 3"
   ]
  },
  {
   "cell_type": "code",
   "execution_count": 16,
   "id": "f003959a-ef4f-49cc-aa78-6dd16cd9c0f0",
   "metadata": {},
   "outputs": [
    {
     "data": {
      "text/plain": [
       "256"
      ]
     },
     "execution_count": 16,
     "metadata": {},
     "output_type": "execute_result"
    }
   ],
   "source": [
    "2 ** 8"
   ]
  },
  {
   "cell_type": "code",
   "execution_count": 17,
   "id": "046039b4-d986-492e-8c9d-1d9b6a8a53c3",
   "metadata": {},
   "outputs": [
    {
     "data": {
      "text/plain": [
       "1"
      ]
     },
     "execution_count": 17,
     "metadata": {},
     "output_type": "execute_result"
    }
   ],
   "source": [
    "13 % 2"
   ]
  },
  {
   "cell_type": "code",
   "execution_count": 18,
   "id": "3b887888-7121-4d52-849b-69d84c0aae91",
   "metadata": {},
   "outputs": [
    {
     "data": {
      "text/plain": [
       "6"
      ]
     },
     "execution_count": 18,
     "metadata": {},
     "output_type": "execute_result"
    }
   ],
   "source": [
    "13 // 2"
   ]
  },
  {
   "cell_type": "code",
   "execution_count": 19,
   "id": "4f066cee-c80b-4e34-8a23-9696d96f75ec",
   "metadata": {},
   "outputs": [
    {
     "data": {
      "text/plain": [
       "-7"
      ]
     },
     "execution_count": 19,
     "metadata": {},
     "output_type": "execute_result"
    }
   ],
   "source": [
    "13 // -2"
   ]
  },
  {
   "cell_type": "markdown",
   "id": "15280af6-1ea4-4b6c-8c42-56779b2d463b",
   "metadata": {},
   "source": [
    "## Comparisons\n",
    "\n",
    "Evaluates to True or False"
   ]
  },
  {
   "cell_type": "markdown",
   "id": "072c353d-4ab9-4a21-8c54-08672767c5de",
   "metadata": {},
   "source": [
    ">\n",
    "<\n",
    ">=\n",
    "<=\n",
    "==\n",
    "!="
   ]
  },
  {
   "cell_type": "code",
   "execution_count": 20,
   "id": "cfeb3e58-b8b1-4524-9bf5-82476cafb00a",
   "metadata": {},
   "outputs": [
    {
     "data": {
      "text/plain": [
       "True"
      ]
     },
     "execution_count": 20,
     "metadata": {},
     "output_type": "execute_result"
    }
   ],
   "source": [
    "7 > 6"
   ]
  },
  {
   "cell_type": "code",
   "execution_count": 21,
   "id": "f66ebc7c-2eb0-4504-ace0-04e75f569bf8",
   "metadata": {},
   "outputs": [
    {
     "data": {
      "text/plain": [
       "False"
      ]
     },
     "execution_count": 21,
     "metadata": {},
     "output_type": "execute_result"
    }
   ],
   "source": [
    "7 < 6"
   ]
  },
  {
   "cell_type": "code",
   "execution_count": 22,
   "id": "6e572a3c-78b2-4851-832f-0da226bad30b",
   "metadata": {},
   "outputs": [
    {
     "data": {
      "text/plain": [
       "True"
      ]
     },
     "execution_count": 22,
     "metadata": {},
     "output_type": "execute_result"
    }
   ],
   "source": [
    "7 >= 6"
   ]
  },
  {
   "cell_type": "code",
   "execution_count": 23,
   "id": "6782a8f4-fd13-463b-a5fc-d3707295cbbd",
   "metadata": {},
   "outputs": [
    {
     "data": {
      "text/plain": [
       "True"
      ]
     },
     "execution_count": 23,
     "metadata": {},
     "output_type": "execute_result"
    }
   ],
   "source": [
    "7 >= 7"
   ]
  },
  {
   "cell_type": "code",
   "execution_count": 24,
   "id": "18d563ea-7d7e-4072-88be-329c04e46083",
   "metadata": {},
   "outputs": [
    {
     "data": {
      "text/plain": [
       "True"
      ]
     },
     "execution_count": 24,
     "metadata": {},
     "output_type": "execute_result"
    }
   ],
   "source": [
    "7 == 7"
   ]
  },
  {
   "cell_type": "code",
   "execution_count": 25,
   "id": "1436b78f-b270-44a9-bd63-514b9a19c20e",
   "metadata": {},
   "outputs": [
    {
     "data": {
      "text/plain": [
       "False"
      ]
     },
     "execution_count": 25,
     "metadata": {},
     "output_type": "execute_result"
    }
   ],
   "source": [
    "7 != 7"
   ]
  },
  {
   "cell_type": "code",
   "execution_count": 26,
   "id": "c59ecb9c-d946-4a32-96db-2fb19ff0d95e",
   "metadata": {},
   "outputs": [
    {
     "data": {
      "text/plain": [
       "False"
      ]
     },
     "execution_count": 26,
     "metadata": {},
     "output_type": "execute_result"
    }
   ],
   "source": [
    "not True"
   ]
  },
  {
   "cell_type": "code",
   "execution_count": 27,
   "id": "9d2a16a8-cc93-4246-9c96-f456de90c9e5",
   "metadata": {},
   "outputs": [
    {
     "data": {
      "text/plain": [
       "True"
      ]
     },
     "execution_count": 27,
     "metadata": {},
     "output_type": "execute_result"
    }
   ],
   "source": [
    "not False"
   ]
  },
  {
   "cell_type": "markdown",
   "id": "574e8910-e92b-4ed0-bc2f-e2df2bd41a9a",
   "metadata": {},
   "source": [
    "## Short-circuit"
   ]
  },
  {
   "cell_type": "code",
   "execution_count": 28,
   "id": "5f5c64c2-62d1-4b48-9542-2cb091b8f0c7",
   "metadata": {},
   "outputs": [
    {
     "data": {
      "text/plain": [
       "True"
      ]
     },
     "execution_count": 28,
     "metadata": {},
     "output_type": "execute_result"
    }
   ],
   "source": [
    "True and True"
   ]
  },
  {
   "cell_type": "code",
   "execution_count": 29,
   "id": "7d25b575-c98a-4190-9cf2-7edf20a4810b",
   "metadata": {},
   "outputs": [
    {
     "data": {
      "text/plain": [
       "False"
      ]
     },
     "execution_count": 29,
     "metadata": {},
     "output_type": "execute_result"
    }
   ],
   "source": [
    "True and False"
   ]
  },
  {
   "cell_type": "code",
   "execution_count": 30,
   "id": "eedca67a-075e-43c3-8465-5c06585333f1",
   "metadata": {},
   "outputs": [
    {
     "data": {
      "text/plain": [
       "True"
      ]
     },
     "execution_count": 30,
     "metadata": {},
     "output_type": "execute_result"
    }
   ],
   "source": [
    "True or False"
   ]
  },
  {
   "cell_type": "code",
   "execution_count": 32,
   "id": "e01742a5-925c-42de-bc37-26aa9c4d6ab8",
   "metadata": {},
   "outputs": [
    {
     "data": {
      "text/plain": [
       "True"
      ]
     },
     "execution_count": 32,
     "metadata": {},
     "output_type": "execute_result"
    }
   ],
   "source": [
    "False or True"
   ]
  },
  {
   "cell_type": "code",
   "execution_count": 1,
   "id": "ed281b81-a716-46ce-871c-39013c1f8b6c",
   "metadata": {},
   "outputs": [
    {
     "data": {
      "text/plain": [
       "False"
      ]
     },
     "execution_count": 1,
     "metadata": {},
     "output_type": "execute_result"
    }
   ],
   "source": [
    "False and True"
   ]
  },
  {
   "cell_type": "code",
   "execution_count": 2,
   "id": "f65dd502-73c3-4c2d-8a0a-a4f11d75e07c",
   "metadata": {},
   "outputs": [
    {
     "data": {
      "text/plain": [
       "True"
      ]
     },
     "execution_count": 2,
     "metadata": {},
     "output_type": "execute_result"
    }
   ],
   "source": [
    "7 == 7"
   ]
  },
  {
   "cell_type": "markdown",
   "id": "ffaf4e07-3705-4d90-8746-81729fb00325",
   "metadata": {},
   "source": [
    "= assignment\n",
    "== comparison\n"
   ]
  },
  {
   "cell_type": "code",
   "execution_count": 3,
   "id": "04ea91f5-7930-4169-8c90-83f7fa032588",
   "metadata": {},
   "outputs": [],
   "source": [
    "name = 'Serge'"
   ]
  },
  {
   "cell_type": "code",
   "execution_count": 4,
   "id": "463bc3b5-8207-402e-88de-ce1b8ef1cdb9",
   "metadata": {},
   "outputs": [
    {
     "name": "stdout",
     "output_type": "stream",
     "text": [
      "Serge\n"
     ]
    }
   ],
   "source": [
    "print(name)"
   ]
  },
  {
   "cell_type": "code",
   "execution_count": 5,
   "id": "8dd35570-6048-4456-a73c-4b7eb942c821",
   "metadata": {},
   "outputs": [],
   "source": [
    "baby = 'Tom'"
   ]
  },
  {
   "cell_type": "code",
   "execution_count": 7,
   "id": "4119fa13-343e-44d3-9594-4925b385de03",
   "metadata": {},
   "outputs": [
    {
     "name": "stdout",
     "output_type": "stream",
     "text": [
      "Tom\n"
     ]
    }
   ],
   "source": [
    "print(baby)"
   ]
  },
  {
   "cell_type": "code",
   "execution_count": 9,
   "id": "2dc4f5d9-4850-49df-a410-2eadb8c4cb4c",
   "metadata": {},
   "outputs": [],
   "source": [
    "keisha_baby = 'La\\'Tom'"
   ]
  },
  {
   "cell_type": "code",
   "execution_count": null,
   "id": "a69b32f0-1a11-46c2-a1b8-242919bc2b87",
   "metadata": {},
   "outputs": [],
   "source": [
    "keisha_baby2 = \"La'Tom\""
   ]
  },
  {
   "cell_type": "code",
   "execution_count": null,
   "id": "51df713a-6dca-4b5d-94ef-24096d5efb8f",
   "metadata": {},
   "outputs": [],
   "source": []
  }
 ],
 "metadata": {
  "kernelspec": {
   "display_name": "Python 3 (ipykernel)",
   "language": "python",
   "name": "python3"
  },
  "language_info": {
   "codemirror_mode": {
    "name": "ipython",
    "version": 3
   },
   "file_extension": ".py",
   "mimetype": "text/x-python",
   "name": "python",
   "nbconvert_exporter": "python",
   "pygments_lexer": "ipython3",
   "version": "3.12.7"
  }
 },
 "nbformat": 4,
 "nbformat_minor": 5
}
