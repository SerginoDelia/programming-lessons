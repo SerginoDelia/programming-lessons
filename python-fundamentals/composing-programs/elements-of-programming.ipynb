{
 "cells": [
  {
   "cell_type": "markdown",
   "id": "a184457d-b4f0-4762-bea6-9d19f2ba5c41",
   "metadata": {},
   "source": [
    "# Elements of programming"
   ]
  },
  {
   "cell_type": "markdown",
   "id": "b4ca398b-6728-4b14-976a-631e305525e4",
   "metadata": {},
   "source": [
    "42"
   ]
  },
  {
   "cell_type": "code",
   "execution_count": 1,
   "id": "3113f36b-c0e5-44b6-8307-865a07b8ea0c",
   "metadata": {},
   "outputs": [
    {
     "data": {
      "text/plain": [
       "0"
      ]
     },
     "execution_count": 1,
     "metadata": {},
     "output_type": "execute_result"
    }
   ],
   "source": [
    "-1 - -1"
   ]
  },
  {
   "cell_type": "code",
   "execution_count": 2,
   "id": "b6de07f8-9470-43d0-9c58-e4de20df2332",
   "metadata": {},
   "outputs": [
    {
     "data": {
      "text/plain": [
       "9.5"
      ]
     },
     "execution_count": 2,
     "metadata": {},
     "output_type": "execute_result"
    }
   ],
   "source": [
    "max(7.5, 9.5)"
   ]
  },
  {
   "cell_type": "code",
   "execution_count": 3,
   "id": "7927e11f-d055-4212-97cd-9337f28553d9",
   "metadata": {},
   "outputs": [
    {
     "data": {
      "text/plain": [
       "10000"
      ]
     },
     "execution_count": 3,
     "metadata": {},
     "output_type": "execute_result"
    }
   ],
   "source": [
    "pow(100, 2)"
   ]
  },
  {
   "cell_type": "code",
   "execution_count": 4,
   "id": "a6140906-6af2-4ab7-953c-6cd783fe73e0",
   "metadata": {},
   "outputs": [
    {
     "data": {
      "text/plain": [
       "1267650600228229401496703205376"
      ]
     },
     "execution_count": 4,
     "metadata": {},
     "output_type": "execute_result"
    }
   ],
   "source": [
    "pow(2, 100)"
   ]
  },
  {
   "cell_type": "code",
   "execution_count": 5,
   "id": "586373b6-cc3b-4b7e-9d83-3bfea9737b0d",
   "metadata": {},
   "outputs": [
    {
     "data": {
      "text/plain": [
       "3"
      ]
     },
     "execution_count": 5,
     "metadata": {},
     "output_type": "execute_result"
    }
   ],
   "source": [
    "max(1, -2, 3, -4)"
   ]
  },
  {
   "cell_type": "code",
   "execution_count": 6,
   "id": "63cff9ed-b08c-460b-a156-6705757591e5",
   "metadata": {},
   "outputs": [
    {
     "data": {
      "text/plain": [
       "-2"
      ]
     },
     "execution_count": 6,
     "metadata": {},
     "output_type": "execute_result"
    }
   ],
   "source": [
    "max(min(1, -2), min(pow(3,5), -4))"
   ]
  },
  {
   "cell_type": "code",
   "execution_count": 7,
   "id": "feb45053-2f4d-46ba-9e0e-f0aea390a468",
   "metadata": {},
   "outputs": [],
   "source": [
    "from math import sqrt"
   ]
  },
  {
   "cell_type": "code",
   "execution_count": 8,
   "id": "30123a0c-e117-4334-bfb1-29232fb056b9",
   "metadata": {},
   "outputs": [
    {
     "data": {
      "text/plain": [
       "16.0"
      ]
     },
     "execution_count": 8,
     "metadata": {},
     "output_type": "execute_result"
    }
   ],
   "source": [
    "sqrt(256)"
   ]
  },
  {
   "cell_type": "code",
   "execution_count": 9,
   "id": "3156fb11-52ad-4fad-8d3b-f30c714d8d94",
   "metadata": {},
   "outputs": [],
   "source": [
    "from operator import add, sub, mul"
   ]
  },
  {
   "cell_type": "code",
   "execution_count": 10,
   "id": "01223185-ec30-4f05-b190-cb7132f42844",
   "metadata": {},
   "outputs": [
    {
     "data": {
      "text/plain": [
       "42"
      ]
     },
     "execution_count": 10,
     "metadata": {},
     "output_type": "execute_result"
    }
   ],
   "source": [
    "add(14, 28)"
   ]
  },
  {
   "cell_type": "code",
   "execution_count": 13,
   "id": "166d7049-ba69-45cb-89f4-b5718504ea66",
   "metadata": {},
   "outputs": [
    {
     "data": {
      "text/plain": [
       "16"
      ]
     },
     "execution_count": 13,
     "metadata": {},
     "output_type": "execute_result"
    }
   ],
   "source": [
    "sub(100, mul(7, add(8, 4)))"
   ]
  },
  {
   "cell_type": "code",
   "execution_count": 12,
   "id": "2d7bcfd5-e6d1-4944-ab7e-58b4068eb7fb",
   "metadata": {},
   "outputs": [
    {
     "ename": "NameError",
     "evalue": "name 'pi' is not defined",
     "output_type": "error",
     "traceback": [
      "\u001b[0;31m---------------------------------------------------------------------------\u001b[0m",
      "\u001b[0;31mNameError\u001b[0m                                 Traceback (most recent call last)",
      "Cell \u001b[0;32mIn[12], line 1\u001b[0m\n\u001b[0;32m----> 1\u001b[0m area, circumference \u001b[38;5;241m=\u001b[39m \u001b[43mpi\u001b[49m \u001b[38;5;241m*\u001b[39m radius \u001b[38;5;241m*\u001b[39m radius, \u001b[38;5;241m2\u001b[39m \u001b[38;5;241m*\u001b[39m pi \u001b[38;5;241m*\u001b[39m radius\n",
      "\u001b[0;31mNameError\u001b[0m: name 'pi' is not defined"
     ]
    }
   ],
   "source": []
  },
  {
   "cell_type": "code",
   "execution_count": null,
   "id": "5ee5e865-40b3-444b-88be-4f2cfe4ff791",
   "metadata": {},
   "outputs": [],
   "source": []
  }
 ],
 "metadata": {
  "kernelspec": {
   "display_name": "Python 3 (ipykernel)",
   "language": "python",
   "name": "python3"
  },
  "language_info": {
   "codemirror_mode": {
    "name": "ipython",
    "version": 3
   },
   "file_extension": ".py",
   "mimetype": "text/x-python",
   "name": "python",
   "nbconvert_exporter": "python",
   "pygments_lexer": "ipython3",
   "version": "3.9.23"
  }
 },
 "nbformat": 4,
 "nbformat_minor": 5
}
