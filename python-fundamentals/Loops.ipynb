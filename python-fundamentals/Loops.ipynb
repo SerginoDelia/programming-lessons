{
 "cells": [
  {
   "cell_type": "markdown",
   "id": "62f1fa3f-154c-44be-8b68-1a4aaa9d3d42",
   "metadata": {},
   "source": [
    "# Loops 2"
   ]
  },
  {
   "cell_type": "markdown",
   "id": "5235b418-e02b-46ba-9118-ce4cb86b4db8",
   "metadata": {},
   "source": [
    "1. Create a loop that loops through numbers 0-15 - print each number\n",
    "2. Loop through 0-30 if the number is divisible by 3 print \"Fizz\" if divisible by 5 \"Buzz\" and if divisble by 3 and 5 \"FizzBuzz\"\n",
    "3. List of names in a list - loop through the list change the names to the length of characters ['Gina'] --> [4]"
   ]
  },
  {
   "cell_type": "markdown",
   "id": "19183b2b-dee0-4e4f-843e-085d9df5d36f",
   "metadata": {},
   "source": [
    "[1, 2, 3]\n",
    "1\n",
    "2\n",
    "3\n",
    "\n",
    "Need: For loop, range(0,16), print, list"
   ]
  },
  {
   "cell_type": "code",
   "execution_count": 5,
   "id": "79d8e88d-3c64-4302-a898-9d42ccfc7cc6",
   "metadata": {},
   "outputs": [],
   "source": [
    "nums = list(range(0,16))"
   ]
  },
  {
   "cell_type": "code",
   "execution_count": 6,
   "id": "d340af70-ecde-4e6b-86d9-762f204906aa",
   "metadata": {},
   "outputs": [
    {
     "data": {
      "text/plain": [
       "[0, 1, 2, 3, 4, 5, 6, 7, 8, 9, 10, 11, 12, 13, 14, 15]"
      ]
     },
     "execution_count": 6,
     "metadata": {},
     "output_type": "execute_result"
    }
   ],
   "source": [
    "nums"
   ]
  },
  {
   "cell_type": "code",
   "execution_count": 7,
   "id": "ae16c423-a6bd-4edb-90fc-9b690ced5b34",
   "metadata": {},
   "outputs": [
    {
     "name": "stdout",
     "output_type": "stream",
     "text": [
      "0\n"
     ]
    }
   ],
   "source": [
    "print(0)"
   ]
  },
  {
   "cell_type": "code",
   "execution_count": 10,
   "id": "40838551-76fa-4647-bb12-aa8113c7d44b",
   "metadata": {},
   "outputs": [
    {
     "name": "stdout",
     "output_type": "stream",
     "text": [
      "0\n",
      "1\n",
      "2\n",
      "3\n",
      "4\n",
      "5\n",
      "6\n",
      "7\n",
      "8\n",
      "9\n",
      "10\n",
      "11\n",
      "12\n",
      "13\n",
      "14\n",
      "15\n"
     ]
    }
   ],
   "source": [
    "nums = list(range(0,16))\n",
    "for num in nums:\n",
    "    print(num)"
   ]
  },
  {
   "cell_type": "markdown",
   "id": "f270293f-ee2a-4e4b-ae4b-07097d9b5b32",
   "metadata": {},
   "source": [
    "2. Loop through 0-30 if the number is divisible by 3 print \"Fizz\" if divisible by 5 \"Buzz\" and if divisble by 3 and 5 \"FizzBuzz\"\n"
   ]
  },
  {
   "cell_type": "code",
   "execution_count": 11,
   "id": "fbe3e485-917a-4692-b984-6b200677aa37",
   "metadata": {},
   "outputs": [],
   "source": [
    "# loop through the list and print Dank is eating 'current item in the list'\n",
    "servings = ['chicken', 'potatoes', 'turkey', 'steak', 'french fries', 'ice cream', 'rice', 'beans']"
   ]
  },
  {
   "cell_type": "markdown",
   "id": "8eceda0b-504c-4af4-98e7-017e11acee5b",
   "metadata": {},
   "source": [
    "print('Dank is eating chicken')"
   ]
  },
  {
   "cell_type": "code",
   "execution_count": 17,
   "id": "3ef4f8c8-b5aa-41d7-b777-1bd6e49a5b86",
   "metadata": {},
   "outputs": [
    {
     "name": "stdout",
     "output_type": "stream",
     "text": [
      "Dank is eating chicken\n",
      "Dank is eating potatoes\n",
      "Dank is eating turkey\n",
      "Dank is eating steak\n",
      "Dank is eating french fries\n",
      "Dank is eating ice cream\n",
      "Dank is eating rice\n",
      "Dank is eating beans\n"
     ]
    }
   ],
   "source": [
    "for dank in servings:\n",
    "    print('Dank is eating' + ' ' + dank)"
   ]
  },
  {
   "cell_type": "code",
   "execution_count": 26,
   "id": "bbd62390-6320-4159-9464-3e7fe3e1557f",
   "metadata": {},
   "outputs": [
    {
     "name": "stdout",
     "output_type": "stream",
     "text": [
      "Dank is eating chicken\n",
      "Dank is eating potatoes\n",
      "Dank is eating turkey\n",
      "Dank is eating steak\n",
      "Dank is eating french fries\n",
      "Dank is eating ice cream\n",
      "Dank is eating rice\n",
      "Dank is eating beans\n"
     ]
    }
   ],
   "source": [
    "for serving in servings:\n",
    "    print(f\"Dank is eating {serving}\")"
   ]
  },
  {
   "cell_type": "code",
   "execution_count": 18,
   "id": "1ea307ba-a1e9-4468-9b05-61c11459baae",
   "metadata": {},
   "outputs": [],
   "source": [
    "name = 'John'"
   ]
  },
  {
   "cell_type": "code",
   "execution_count": 20,
   "id": "41a1f709-152b-4298-b12f-b0943a89644c",
   "metadata": {},
   "outputs": [
    {
     "name": "stdout",
     "output_type": "stream",
     "text": [
      "John\n"
     ]
    }
   ],
   "source": [
    "print(f'{name}')"
   ]
  },
  {
   "cell_type": "code",
   "execution_count": 28,
   "id": "645db6ff-0b17-4274-b8d5-278694867721",
   "metadata": {},
   "outputs": [
    {
     "data": {
      "text/plain": [
       "['chicken',\n",
       " 'potatoes',\n",
       " 'turkey',\n",
       " 'steak',\n",
       " 'french fries',\n",
       " 'ice cream',\n",
       " 'rice',\n",
       " 'beans']"
      ]
     },
     "execution_count": 28,
     "metadata": {},
     "output_type": "execute_result"
    }
   ],
   "source": [
    "restaurant = servings\n",
    "restaurant"
   ]
  },
  {
   "cell_type": "code",
   "execution_count": 29,
   "id": "b521e83d-cc4a-42d6-9f8b-4663c9c3d42d",
   "metadata": {},
   "outputs": [
    {
     "name": "stdout",
     "output_type": "stream",
     "text": [
      "Bunny hopped on chicken\n",
      "Bunny hopped on potatoes\n",
      "Bunny hopped on turkey\n",
      "Bunny hopped on steak\n",
      "Bunny hopped on french fries\n",
      "Bunny hopped on ice cream\n",
      "Bunny hopped on rice\n",
      "Bunny hopped on beans\n"
     ]
    }
   ],
   "source": [
    "for bunny in restaurant:\n",
    "    print(f'Bunny hopped on {bunny}')"
   ]
  },
  {
   "cell_type": "markdown",
   "id": "68aceb60-e677-4e27-a0f3-11750f5c8fb5",
   "metadata": {},
   "source": [
    "2. Loop through 0-30 if the number is divisible by 3 print \"Fizz\" if divisible by 5 \"Buzz\" and if divisble by 3 and 5 \"FizzBuzz\"\n"
   ]
  },
  {
   "cell_type": "code",
   "execution_count": 30,
   "id": "a60b016b-7158-4867-bd20-45f1e8f3cab9",
   "metadata": {},
   "outputs": [],
   "source": [
    "nums = list(range(0, 31))"
   ]
  },
  {
   "cell_type": "code",
   "execution_count": 43,
   "id": "678ee781-9dcd-4d98-affa-054aed8ca532",
   "metadata": {},
   "outputs": [
    {
     "name": "stdout",
     "output_type": "stream",
     "text": [
      "3 Fizz\n",
      "5 Buzz\n",
      "6 Fizz\n",
      "9 Fizz\n",
      "10 Buzz\n",
      "12 Fizz\n",
      "15 FizzBuzz\n",
      "18 Fizz\n",
      "20 Buzz\n",
      "21 Fizz\n",
      "24 Fizz\n",
      "25 Buzz\n",
      "27 Fizz\n",
      "30 FizzBuzz\n"
     ]
    }
   ],
   "source": [
    "for num in nums:\n",
    "    if num == 0:\n",
    "        continue\n",
    "    elif num % 3 == 0 and num % 5 == 0:\n",
    "        print(f'{num} FizzBuzz')\n",
    "    elif num % 3 == 0:\n",
    "        print(f'{num} Fizz')\n",
    "    elif num % 5 == 0:\n",
    "        print(f'{num} Buzz')\n",
    "    "
   ]
  },
  {
   "cell_type": "markdown",
   "id": "f0bc6d22-c4c7-4860-a6e0-28764e28cb0c",
   "metadata": {},
   "source": [
    "3. List of names in a list - loop through the list change the names to the length of characters ['Gina'] --> [4] --> change the element int a tuple ('Gina', 4) --> [(name, lenght_of_name)]\n",
    "\n",
    "names = ['Ada', 'Lizzo'] \n",
    "result should be: names --> [('Ada', 3), ('Lizzo', 5)]\n",
    "\n",
    "Use this list of names:\n",
    "names =  ['Ada', 'Bea', 'Cat', 'Dank', 'Eva', 'Felicia', 'Gina', 'Lizzo']"
   ]
  },
  {
   "cell_type": "code",
   "execution_count": 70,
   "id": "fa355e17-52ae-4dc8-93a6-53e9feb7e7b4",
   "metadata": {},
   "outputs": [],
   "source": [
    "names =  ['Ada', 'Bea', 'Cat', 'Dank', 'Eva', 'Felicia', 'Gina', 'Lizzo']"
   ]
  },
  {
   "cell_type": "code",
   "execution_count": 71,
   "id": "749b629b-8c9d-4bdc-9726-799aaee71b96",
   "metadata": {},
   "outputs": [
    {
     "name": "stdout",
     "output_type": "stream",
     "text": [
      "0, 3\n",
      "1, 3\n",
      "2, 3\n",
      "3, 4\n",
      "4, 3\n",
      "5, 7\n",
      "6, 4\n",
      "7, 5\n"
     ]
    }
   ],
   "source": [
    "for index, girl in enumerate(names):\n",
    "    print(f'{index}, {len(girl)}')"
   ]
  },
  {
   "cell_type": "code",
   "execution_count": 72,
   "id": "9d52b3e1-08ff-4223-906b-6c2eb630e914",
   "metadata": {},
   "outputs": [],
   "source": [
    "for index, girl in enumerate(names):\n",
    "    names[index] = len(girl)"
   ]
  },
  {
   "cell_type": "code",
   "execution_count": 73,
   "id": "e264acdb-c02e-4a92-9dbf-d919ed6e9239",
   "metadata": {},
   "outputs": [
    {
     "data": {
      "text/plain": [
       "[3, 3, 3, 4, 3, 7, 4, 5]"
      ]
     },
     "execution_count": 73,
     "metadata": {},
     "output_type": "execute_result"
    }
   ],
   "source": [
    "names"
   ]
  },
  {
   "cell_type": "code",
   "execution_count": 55,
   "id": "788d8595-03ad-4545-b700-25456b8fcacc",
   "metadata": {},
   "outputs": [
    {
     "data": {
      "text/plain": [
       "3"
      ]
     },
     "execution_count": 55,
     "metadata": {},
     "output_type": "execute_result"
    }
   ],
   "source": [
    "len(names[0])"
   ]
  },
  {
   "cell_type": "code",
   "execution_count": 61,
   "id": "a86ba7b1-3e83-4414-a641-5552fcb26dbc",
   "metadata": {},
   "outputs": [],
   "source": [
    "names[0] = 'Sally'"
   ]
  },
  {
   "cell_type": "code",
   "execution_count": 62,
   "id": "8d9389a2-522c-400f-beca-a579362b054a",
   "metadata": {},
   "outputs": [
    {
     "data": {
      "text/plain": [
       "['Sally', 'Bea', 'Cat', 'Dank', 'Eva', 'Felicia', 'Gina', 'Lizzo']"
      ]
     },
     "execution_count": 62,
     "metadata": {},
     "output_type": "execute_result"
    }
   ],
   "source": [
    "names"
   ]
  },
  {
   "cell_type": "code",
   "execution_count": 57,
   "id": "e2e870eb-6932-4da2-a64d-70eabaafdebb",
   "metadata": {},
   "outputs": [],
   "source": [
    "nums = [1, 2, 3]"
   ]
  },
  {
   "cell_type": "code",
   "execution_count": 58,
   "id": "7b52bb82-181e-43ad-bb7a-5b227425a7d1",
   "metadata": {},
   "outputs": [],
   "source": [
    "nums[0] = 5"
   ]
  },
  {
   "cell_type": "code",
   "execution_count": 59,
   "id": "95670cdd-7d4a-4328-ad8a-26a36f57e0fd",
   "metadata": {},
   "outputs": [
    {
     "data": {
      "text/plain": [
       "[5, 2, 3]"
      ]
     },
     "execution_count": 59,
     "metadata": {},
     "output_type": "execute_result"
    }
   ],
   "source": [
    "nums"
   ]
  },
  {
   "cell_type": "code",
   "execution_count": 19,
   "id": "cd3bf977-d11d-43ff-82b3-f89e598c18b7",
   "metadata": {},
   "outputs": [],
   "source": [
    "names =  ['Ada', 'Bea', 'Cat', 'Dank', 'Eva', 'Felicia', 'Gina', 'Lizzo']"
   ]
  },
  {
   "cell_type": "code",
   "execution_count": 20,
   "id": "4045c04f-190d-4b97-9765-608c1ba93799",
   "metadata": {},
   "outputs": [
    {
     "name": "stdout",
     "output_type": "stream",
     "text": [
      "8\n",
      "------------\n",
      "[3, 3, 3, 4, 3, 7, 4, 5]\n"
     ]
    }
   ],
   "source": [
    "print(len(names))\n",
    "\n",
    "print('------------')\n",
    "index = 0\n",
    "\n",
    "while index < 8:\n",
    "    names[index] = len(names[index])\n",
    "    # increment index by 1\n",
    "    index += 1 # same as --> index = index + 1\n",
    "\n",
    "print(names)"
   ]
  },
  {
   "cell_type": "code",
   "execution_count": 15,
   "id": "ed3ea9a1-5698-498c-a78b-94099e4e8905",
   "metadata": {},
   "outputs": [],
   "source": [
    "names[1] = 5"
   ]
  },
  {
   "cell_type": "code",
   "execution_count": 16,
   "id": "2ea80845-2636-4716-9161-fbd85c93f342",
   "metadata": {},
   "outputs": [
    {
     "data": {
      "text/plain": [
       "['Ada', 5, 'Cat', 'Dank', 'Eva', 'Felicia', 'Gina', 'Lizzo']"
      ]
     },
     "execution_count": 16,
     "metadata": {},
     "output_type": "execute_result"
    }
   ],
   "source": [
    "names"
   ]
  },
  {
   "cell_type": "code",
   "execution_count": null,
   "id": "ffaa6791-57cc-4c77-bc95-bc7c97bf4ebc",
   "metadata": {},
   "outputs": [],
   "source": []
  }
 ],
 "metadata": {
  "kernelspec": {
   "display_name": "Python 3 (ipykernel)",
   "language": "python",
   "name": "python3"
  },
  "language_info": {
   "codemirror_mode": {
    "name": "ipython",
    "version": 3
   },
   "file_extension": ".py",
   "mimetype": "text/x-python",
   "name": "python",
   "nbconvert_exporter": "python",
   "pygments_lexer": "ipython3",
   "version": "3.12.7"
  }
 },
 "nbformat": 4,
 "nbformat_minor": 5
}
