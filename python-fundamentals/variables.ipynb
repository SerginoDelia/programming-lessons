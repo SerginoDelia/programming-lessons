{
 "cells": [
  {
   "cell_type": "raw",
   "id": "3b533b4d-928c-4248-8754-9bd7ef977792",
   "metadata": {},
   "source": [
    "## Variables\n",
    "use names that are meaningful, do not use the dunder names, and do not use keywords."
   ]
  },
  {
   "cell_type": "code",
   "execution_count": 1,
   "id": "ed7934a3-ccdd-4d18-8506-388654825fc3",
   "metadata": {},
   "outputs": [],
   "source": [
    "a = 100"
   ]
  },
  {
   "cell_type": "code",
   "execution_count": 2,
   "id": "7112d232-b1d9-4ac5-b2e0-560b7644d0dc",
   "metadata": {},
   "outputs": [
    {
     "data": {
      "text/plain": [
       "111"
      ]
     },
     "execution_count": 2,
     "metadata": {},
     "output_type": "execute_result"
    }
   ],
   "source": [
    "a + 11"
   ]
  },
  {
   "cell_type": "code",
   "execution_count": 3,
   "id": "840667df-f120-4112-a47b-373e770c8c97",
   "metadata": {},
   "outputs": [],
   "source": [
    "b = a + 11"
   ]
  },
  {
   "cell_type": "code",
   "execution_count": 4,
   "id": "be2a673e-dd0a-4a8f-9022-ccc16a11e641",
   "metadata": {},
   "outputs": [],
   "source": [
    "a = 3.14"
   ]
  },
  {
   "cell_type": "code",
   "execution_count": 5,
   "id": "b219a4ac-8f1d-4218-8e84-cd4daf679e34",
   "metadata": {},
   "outputs": [],
   "source": [
    "test = 100\n",
    "test_1 = 10\n",
    "_test_1_ = 10\n",
    "TEST = 10"
   ]
  },
  {
   "cell_type": "code",
   "execution_count": 7,
   "id": "19a4fa8e-9db5-4811-990b-9ef45e8825f0",
   "metadata": {},
   "outputs": [
    {
     "data": {
      "text/plain": [
       "10.0"
      ]
     },
     "execution_count": 7,
     "metadata": {},
     "output_type": "execute_result"
    }
   ],
   "source": [
    "a = float(10)\n",
    "a"
   ]
  },
  {
   "cell_type": "code",
   "execution_count": 8,
   "id": "5ca970e2-582f-4465-9f0b-59493d399364",
   "metadata": {},
   "outputs": [
    {
     "data": {
      "text/plain": [
       "100"
      ]
     },
     "execution_count": 8,
     "metadata": {},
     "output_type": "execute_result"
    }
   ],
   "source": [
    "float = 100\n",
    "float\n"
   ]
  },
  {
   "cell_type": "code",
   "execution_count": 9,
   "id": "482f50de-276c-4015-8b48-a3eff12824a5",
   "metadata": {},
   "outputs": [
    {
     "ename": "TypeError",
     "evalue": "'int' object is not callable",
     "output_type": "error",
     "traceback": [
      "\u001b[0;31m---------------------------------------------------------------------------\u001b[0m",
      "\u001b[0;31mTypeError\u001b[0m                                 Traceback (most recent call last)",
      "Cell \u001b[0;32mIn[9], line 1\u001b[0m\n\u001b[0;32m----> 1\u001b[0m a \u001b[38;5;241m=\u001b[39m \u001b[38;5;28;43mfloat\u001b[39;49m\u001b[43m(\u001b[49m\u001b[38;5;241;43m10\u001b[39;49m\u001b[43m)\u001b[49m\n",
      "\u001b[0;31mTypeError\u001b[0m: 'int' object is not callable"
     ]
    }
   ],
   "source": [
    "a = float(10)"
   ]
  },
  {
   "cell_type": "code",
   "execution_count": 10,
   "id": "29f06802-766f-4837-8145-cef48bc36234",
   "metadata": {},
   "outputs": [],
   "source": [
    "del float"
   ]
  },
  {
   "cell_type": "code",
   "execution_count": 12,
   "id": "7877dc3b-1773-421b-a592-c6def0ccda24",
   "metadata": {},
   "outputs": [
    {
     "data": {
      "text/plain": [
       "10.0"
      ]
     },
     "execution_count": 12,
     "metadata": {},
     "output_type": "execute_result"
    }
   ],
   "source": [
    "a = float(10)\n",
    "a"
   ]
  },
  {
   "cell_type": "code",
   "execution_count": 13,
   "id": "2092507b-f825-49f3-b375-62e42115ca90",
   "metadata": {},
   "outputs": [],
   "source": [
    "# use meaningful names\n",
    "current_balance = 100.0"
   ]
  },
  {
   "cell_type": "code",
   "execution_count": 14,
   "id": "1b1305c6-c6b2-408d-9e4b-fe550c5a6c51",
   "metadata": {},
   "outputs": [],
   "source": [
    "# not python style\n",
    "currentBalance = 100.0"
   ]
  },
  {
   "cell_type": "code",
   "execution_count": 15,
   "id": "c33fa865-d90b-4b36-954f-553c2ddb854c",
   "metadata": {},
   "outputs": [
    {
     "data": {
      "text/plain": [
       "270.70414908622433"
      ]
     },
     "execution_count": 15,
     "metadata": {},
     "output_type": "execute_result"
    }
   ],
   "source": [
    "principal = 100\n",
    "apr = 0.1\n",
    "years = 10\n",
    "\n",
    "future_value = principal * ((1 + apr/12) ** (years * 12))\n",
    "\n",
    "future_value"
   ]
  },
  {
   "cell_type": "code",
   "execution_count": null,
   "id": "bca85af9-b843-4a11-9289-b83fdbaeb4ea",
   "metadata": {},
   "outputs": [],
   "source": []
  }
 ],
 "metadata": {
  "kernelspec": {
   "display_name": "Python 3 (ipykernel)",
   "language": "python",
   "name": "python3"
  },
  "language_info": {
   "codemirror_mode": {
    "name": "ipython",
    "version": 3
   },
   "file_extension": ".py",
   "mimetype": "text/x-python",
   "name": "python",
   "nbconvert_exporter": "python",
   "pygments_lexer": "ipython3",
   "version": "3.9.23"
  }
 },
 "nbformat": 4,
 "nbformat_minor": 5
}
