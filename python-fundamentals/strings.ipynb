{
 "cells": [
  {
   "cell_type": "markdown",
   "id": "419a0291-27dc-4760-87b0-06b3bfcb7fd5",
   "metadata": {},
   "source": [
    "# Strings"
   ]
  },
  {
   "cell_type": "markdown",
   "id": "276ace38-ff1c-4b03-82a7-188adea63e65",
   "metadata": {},
   "source": [
    "## Unicode"
   ]
  },
  {
   "cell_type": "code",
   "execution_count": 1,
   "id": "b7e59a30-514a-41d4-9b4b-c0943f3bbe8b",
   "metadata": {},
   "outputs": [
    {
     "data": {
      "text/plain": [
       "65"
      ]
     },
     "execution_count": 1,
     "metadata": {},
     "output_type": "execute_result"
    }
   ],
   "source": [
    "ord('A')"
   ]
  },
  {
   "cell_type": "code",
   "execution_count": 3,
   "id": "b575906b-bc3e-4979-82fe-00f3fdde9d9c",
   "metadata": {},
   "outputs": [
    {
     "data": {
      "text/plain": [
       "'0x41'"
      ]
     },
     "execution_count": 3,
     "metadata": {},
     "output_type": "execute_result"
    }
   ],
   "source": [
    "hex(ord('A'))"
   ]
  },
  {
   "cell_type": "code",
   "execution_count": 4,
   "id": "d3209675-c232-4e1c-9b38-556a0441e69a",
   "metadata": {},
   "outputs": [
    {
     "data": {
      "text/plain": [
       "945"
      ]
     },
     "execution_count": 4,
     "metadata": {},
     "output_type": "execute_result"
    }
   ],
   "source": [
    "int('3B1', 16)"
   ]
  },
  {
   "cell_type": "code",
   "execution_count": 5,
   "id": "f8550e5c-994f-4bbd-9a00-583299bbce1c",
   "metadata": {},
   "outputs": [],
   "source": [
    "var = \"\\N{Latin Capital Letter A}lways\""
   ]
  },
  {
   "cell_type": "code",
   "execution_count": 6,
   "id": "12398e2c-0c6b-42a4-a90f-249eeef66bc2",
   "metadata": {},
   "outputs": [
    {
     "name": "stdout",
     "output_type": "stream",
     "text": [
      "Always\n"
     ]
    }
   ],
   "source": [
    "print(var)"
   ]
  },
  {
   "cell_type": "code",
   "execution_count": 7,
   "id": "3cb99610-b725-43b6-bc02-7babd1efca04",
   "metadata": {},
   "outputs": [],
   "source": [
    "var = \"\\u0041lways look on the bright side of life\""
   ]
  },
  {
   "cell_type": "code",
   "execution_count": 8,
   "id": "d059fe9d-821c-4c93-b60c-c3c0b62bf11b",
   "metadata": {},
   "outputs": [
    {
     "name": "stdout",
     "output_type": "stream",
     "text": [
      "Always look on the bright side of life\n"
     ]
    }
   ],
   "source": [
    "print(var)"
   ]
  },
  {
   "cell_type": "code",
   "execution_count": 11,
   "id": "a69f4285-df59-4087-b639-455178c5cf1c",
   "metadata": {},
   "outputs": [
    {
     "data": {
      "text/plain": [
       "49"
      ]
     },
     "execution_count": 11,
     "metadata": {},
     "output_type": "execute_result"
    }
   ],
   "source": [
    "ord('1')"
   ]
  },
  {
   "cell_type": "code",
   "execution_count": 13,
   "id": "2345ef66-3f1a-4c0c-9ec9-cd64c5cd7a60",
   "metadata": {},
   "outputs": [],
   "source": [
    "var = \"\\u03B1\""
   ]
  },
  {
   "cell_type": "code",
   "execution_count": 14,
   "id": "50e00463-ad85-45af-b5e5-4dd616899de4",
   "metadata": {},
   "outputs": [
    {
     "name": "stdout",
     "output_type": "stream",
     "text": [
      "α\n"
     ]
    }
   ],
   "source": [
    "print(var)"
   ]
  },
  {
   "cell_type": "code",
   "execution_count": 15,
   "id": "debe68a2-9b46-4a08-9f8e-6724e164e40c",
   "metadata": {},
   "outputs": [
    {
     "data": {
      "text/plain": [
       "'😀'"
      ]
     },
     "execution_count": 15,
     "metadata": {},
     "output_type": "execute_result"
    }
   ],
   "source": [
    "\"\\N{Grinning Face}\""
   ]
  },
  {
   "cell_type": "code",
   "execution_count": null,
   "id": "065b545d-e3e5-45bd-8deb-d6de6f36dfe6",
   "metadata": {},
   "outputs": [],
   "source": []
  }
 ],
 "metadata": {
  "kernelspec": {
   "display_name": "Python 3 (ipykernel)",
   "language": "python",
   "name": "python3"
  },
  "language_info": {
   "codemirror_mode": {
    "name": "ipython",
    "version": 3
   },
   "file_extension": ".py",
   "mimetype": "text/x-python",
   "name": "python",
   "nbconvert_exporter": "python",
   "pygments_lexer": "ipython3",
   "version": "3.12.7"
  }
 },
 "nbformat": 4,
 "nbformat_minor": 5
}
