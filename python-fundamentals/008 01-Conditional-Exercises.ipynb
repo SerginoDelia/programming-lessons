{
 "cells": [
  {
   "cell_type": "markdown",
   "id": "sensitive-saint",
   "metadata": {},
   "source": [
    "### Exercises"
   ]
  },
  {
   "cell_type": "markdown",
   "id": "particular-humidity",
   "metadata": {},
   "source": [
    "#### Exercise 1"
   ]
  },
  {
   "cell_type": "markdown",
   "id": "trained-masters",
   "metadata": {},
   "source": [
    "Given a variable `a` (containing any value), re-assign the value `\"N/A\"` if `a` is `None`, and leave `a` unchanged otherwise. Use an `if...else...` statement."
   ]
  },
  {
   "cell_type": "markdown",
   "id": "growing-acoustic",
   "metadata": {},
   "source": [
    "#### Exercise 2"
   ]
  },
  {
   "cell_type": "markdown",
   "id": "hazardous-formula",
   "metadata": {},
   "source": [
    "Do the same thing as Question 1, but this time use a ternary operator."
   ]
  },
  {
   "cell_type": "markdown",
   "id": "seasonal-bronze",
   "metadata": {},
   "source": [
    "#### Exercise 3"
   ]
  },
  {
   "cell_type": "markdown",
   "id": "atomic-authority",
   "metadata": {},
   "source": [
    "Given an credit score `score`, assign a string value to another variable `rating` based on the following scale:\n",
    "\n",
    "- [0, 580) --> Poor\n",
    "- [580, 670) --> Fair\n",
    "- [670, 740) --> Good\n",
    "- [740, 800) --> Very Good\n",
    "- [800, 850] --> Excellent\n"
   ]
  },
  {
   "cell_type": "markdown",
   "id": "fiscal-estate",
   "metadata": {},
   "source": [
    "#### Exercise 4"
   ]
  },
  {
   "cell_type": "markdown",
   "id": "overhead-candidate",
   "metadata": {},
   "source": [
    "Given an `elapsed` time (in seconds), write code to set a variable `magnitude` based on the following conditions:\n",
    "\n",
    "- if elapsed time is less than 1 minute, `magnitude` --> `'seconds'`\n",
    "- if elapsed time is more than 1 minute, but less than 1 hour, `magnitude` --> `'minutes'`\n",
    "- if elapsed time is more than 1 hour, but less than 1 day, `magnitude` --> `'hours'`\n",
    "- if elapsed time is more than 1 day, but less than 1 week: `magnitude` --> `'days'`\n",
    "- if elapsed time is more than 1 week, `magnitude` --> '`weeks'`"
   ]
  },
  {
   "cell_type": "markdown",
   "id": "e7e125f9-b22c-4b60-9f7e-a594b0cedaf5",
   "metadata": {},
   "source": [
    "### Exercise 1\n",
    "Given a variable a (containing any value), re-assign the value \"N/A\" if a is None, and leave a unchanged otherwise. Use an if...else... statement."
   ]
  },
  {
   "cell_type": "code",
   "execution_count": 13,
   "id": "9b858956-f218-48c0-9fb9-9c64d708d8b2",
   "metadata": {},
   "outputs": [
    {
     "name": "stdout",
     "output_type": "stream",
     "text": [
      "N/A\n"
     ]
    }
   ],
   "source": [
    "a = None\n",
    "if a == None:\n",
    "    a = 'N/A'\n",
    "\n",
    "print(a)"
   ]
  },
  {
   "cell_type": "code",
   "execution_count": 14,
   "id": "4cb7b178-0d73-4d7a-a295-bc0071cf7b98",
   "metadata": {},
   "outputs": [
    {
     "name": "stdout",
     "output_type": "stream",
     "text": [
      "100\n"
     ]
    }
   ],
   "source": [
    "a = 100\n",
    "if a == None:\n",
    "    a = 'N/A'\n",
    "\n",
    "print(a)"
   ]
  },
  {
   "cell_type": "markdown",
   "id": "4f3fdb5a-78b6-4069-ab0a-aa661e237e73",
   "metadata": {},
   "source": [
    "### Exercise 2\n",
    "\n",
    "Do the same thing as Question 1, but this time use a ternary operator."
   ]
  },
  {
   "cell_type": "code",
   "execution_count": 9,
   "id": "c86f5f04-854b-420d-9ba0-a200eb1abb64",
   "metadata": {},
   "outputs": [
    {
     "name": "stdout",
     "output_type": "stream",
     "text": [
      "N/A\n"
     ]
    }
   ],
   "source": [
    "a = None\n",
    "a = 'N/A' if a == None else a\n",
    "\n",
    "print(a)"
   ]
  },
  {
   "cell_type": "code",
   "execution_count": 15,
   "id": "fad51219-86cd-42ef-a39d-2361f0e9dd61",
   "metadata": {},
   "outputs": [
    {
     "name": "stdout",
     "output_type": "stream",
     "text": [
      "100\n"
     ]
    }
   ],
   "source": [
    "a = 100\n",
    "a = 'N/A' if a == None else a\n",
    "\n",
    "print(a)"
   ]
  },
  {
   "cell_type": "markdown",
   "id": "2a6e9cc8-c67a-43d6-8ecc-6961e46f99fe",
   "metadata": {},
   "source": [
    "### Exercise 3\n",
    "\n",
    "Given an credit score score, assign a string value to another variable rating based on the following scale:\n",
    "\n",
    "- [0, 580) --> Poor\n",
    "- [580, 670) --> Fair\n",
    "- [670, 740) --> Good\n",
    "- [740, 800) --> Very Good\n",
    "- [800, 850] --> Excellent"
   ]
  },
  {
   "cell_type": "code",
   "execution_count": 16,
   "id": "5e588c19-7f76-406c-9fab-07529a4f296a",
   "metadata": {},
   "outputs": [
    {
     "name": "stdout",
     "output_type": "stream",
     "text": [
      "Good\n"
     ]
    }
   ],
   "source": [
    "credit_score = 720\n",
    "\n",
    "if credit_score < 580:\n",
    "    credit = 'Poor'\n",
    "elif credit_score < 670:\n",
    "    credit = 'Fair'\n",
    "elif credit_score < 740:\n",
    "    credit = 'Good'\n",
    "elif credit_score < 800:\n",
    "    credit = 'Very Good'\n",
    "else:\n",
    "    credit = 'Excellent'\n",
    "\n",
    "print(credit)"
   ]
  },
  {
   "cell_type": "code",
   "execution_count": 17,
   "id": "6c324288-e29c-482f-baa2-af84c8b08097",
   "metadata": {},
   "outputs": [
    {
     "name": "stdout",
     "output_type": "stream",
     "text": [
      "Poor\n"
     ]
    }
   ],
   "source": [
    "credit_score = 460\n",
    "\n",
    "if credit_score < 580:\n",
    "    credit = 'Poor'\n",
    "elif credit_score < 670:\n",
    "    credit = 'Fair'\n",
    "elif credit_score < 740:\n",
    "    credit = 'Good'\n",
    "elif credit_score < 800:\n",
    "    credit = 'Very Good'\n",
    "else:\n",
    "    credit = 'Excellent'\n",
    "\n",
    "print(credit)"
   ]
  },
  {
   "cell_type": "markdown",
   "id": "46d66cdb-1f28-4dc4-958c-8a246c585b0c",
   "metadata": {},
   "source": [
    "### Exercise 4\n",
    "\n",
    "Given an elapsed time (in seconds), write code to set a variable magnitude based on the following conditions:\n",
    "\n",
    "if elapsed time is less than 1 minute, magnitude --> 'seconds'\n",
    "if elapsed time is more than 1 minute, but less than 1 hour, magnitude --> 'minutes'\n",
    "if elapsed time is more than 1 hour, but less than 1 day, magnitude --> 'hours'\n",
    "if elapsed time is more than 1 day, but less than 1 week: magnitude --> 'days'\n",
    "if elapsed time is more than 1 week, magnitude --> 'weeks'"
   ]
  },
  {
   "cell_type": "code",
   "execution_count": 18,
   "id": "b5b56eec-3d1c-48e4-9d91-358ab14c729f",
   "metadata": {},
   "outputs": [],
   "source": [
    "seconds_in_minute = 60\n",
    "seconds_in_hour = 60 * seconds_in_minute\n",
    "seconds_in_day = 24 * seconds_in_hour\n",
    "seconds_in_week = 7 * seconds_in_day"
   ]
  },
  {
   "cell_type": "code",
   "execution_count": 22,
   "id": "0f34dfe2-f386-4fac-a77e-e5f046dd7dfa",
   "metadata": {},
   "outputs": [
    {
     "name": "stdout",
     "output_type": "stream",
     "text": [
      "seconds\n"
     ]
    }
   ],
   "source": [
    "elapsed_time = 23\n",
    "\n",
    "\n",
    "if elapsed_time < seconds_in_minute:\n",
    "    magnitude = 'seconds'\n",
    "elif elapsed_time < seconds_in_hour:\n",
    "    magnitude = 'minutes'\n",
    "elif elapsed_time < seconds_in_day:\n",
    "    magnitude = 'hours'\n",
    "elif elapsed_time < second_in_week:\n",
    "    magnitude = 'days'\n",
    "else:\n",
    "    magnitude = 'weeks'\n",
    "\n",
    "print(magnitude)"
   ]
  },
  {
   "cell_type": "code",
   "execution_count": 24,
   "id": "978d16cb-584f-4196-bd3a-6372d9cb4dd2",
   "metadata": {},
   "outputs": [],
   "source": [
    "seconds_in_minute = 60\n",
    "seconds_in_hour = 60 * seconds_in_minute\n",
    "seconds_in_day = 24 * seconds_in_hour\n",
    "seconds_in_week = 7 * seconds_in_day"
   ]
  },
  {
   "cell_type": "code",
   "execution_count": 25,
   "id": "3b8ce20a-4d05-4c04-9e63-961a53113300",
   "metadata": {},
   "outputs": [
    {
     "name": "stdout",
     "output_type": "stream",
     "text": [
      "minutes\n"
     ]
    }
   ],
   "source": [
    "elapsed_time = 45 * 60\n",
    "\n",
    "\n",
    "if elapsed_time < seconds_in_minute:\n",
    "    magnitude = 'seconds'\n",
    "elif elapsed_time < seconds_in_hour:\n",
    "    magnitude = 'minutes'\n",
    "elif elapsed_time < seconds_in_day:\n",
    "    magnitude = 'hours'\n",
    "elif elapsed_time < second_in_week:\n",
    "    magnitude = 'days'\n",
    "else:\n",
    "    magnitude = 'weeks'\n",
    "\n",
    "print(magnitude)"
   ]
  },
  {
   "cell_type": "code",
   "execution_count": null,
   "id": "a8d87633-7ef9-4475-ad78-0b9914a8371d",
   "metadata": {},
   "outputs": [],
   "source": []
  }
 ],
 "metadata": {
  "kernelspec": {
   "display_name": "Python 3 (ipykernel)",
   "language": "python",
   "name": "python3"
  },
  "language_info": {
   "codemirror_mode": {
    "name": "ipython",
    "version": 3
   },
   "file_extension": ".py",
   "mimetype": "text/x-python",
   "name": "python",
   "nbconvert_exporter": "python",
   "pygments_lexer": "ipython3",
   "version": "3.9.23"
  }
 },
 "nbformat": 4,
 "nbformat_minor": 5
}
