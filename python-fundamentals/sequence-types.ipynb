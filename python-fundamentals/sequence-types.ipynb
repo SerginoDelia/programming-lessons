{
 "cells": [
  {
   "cell_type": "markdown",
   "id": "1513c5a4-d6e2-49c6-954c-f8321a0d6880",
   "metadata": {},
   "source": [
    "## Lists"
   ]
  },
  {
   "cell_type": "code",
   "execution_count": 1,
   "id": "e7e520b7-2a13-4b74-9c36-0e0fe4fc63cd",
   "metadata": {},
   "outputs": [],
   "source": [
    "l = [10, 20, 30, 40, 50]"
   ]
  },
  {
   "cell_type": "code",
   "execution_count": 2,
   "id": "5844e1ee-c422-43f1-8ecf-25dae7a28e87",
   "metadata": {},
   "outputs": [
    {
     "data": {
      "text/plain": [
       "[10, 20, 30, 40, 50]"
      ]
     },
     "execution_count": 2,
     "metadata": {},
     "output_type": "execute_result"
    }
   ],
   "source": [
    "l"
   ]
  },
  {
   "cell_type": "code",
   "execution_count": 3,
   "id": "7927002a-2346-41c9-ba21-54433f3b99e9",
   "metadata": {},
   "outputs": [
    {
     "data": {
      "text/plain": [
       "list"
      ]
     },
     "execution_count": 3,
     "metadata": {},
     "output_type": "execute_result"
    }
   ],
   "source": [
    "type(l)"
   ]
  },
  {
   "cell_type": "code",
   "execution_count": 4,
   "id": "9a39d761-d6c1-447e-b5ac-f6a309fcbe04",
   "metadata": {},
   "outputs": [
    {
     "data": {
      "text/plain": [
       "4387662400"
      ]
     },
     "execution_count": 4,
     "metadata": {},
     "output_type": "execute_result"
    }
   ],
   "source": [
    "id(l)"
   ]
  },
  {
   "cell_type": "code",
   "execution_count": 6,
   "id": "3a04405a-1888-4888-8fd3-c8fc8ad0e5de",
   "metadata": {},
   "outputs": [
    {
     "data": {
      "text/plain": [
       "10"
      ]
     },
     "execution_count": 6,
     "metadata": {},
     "output_type": "execute_result"
    }
   ],
   "source": [
    "l[0]"
   ]
  },
  {
   "cell_type": "code",
   "execution_count": 7,
   "id": "31b3cc5e-7ba3-49de-8119-c3d92c9b985e",
   "metadata": {},
   "outputs": [
    {
     "data": {
      "text/plain": [
       "5"
      ]
     },
     "execution_count": 7,
     "metadata": {},
     "output_type": "execute_result"
    }
   ],
   "source": [
    "len(l)"
   ]
  },
  {
   "cell_type": "code",
   "execution_count": 8,
   "id": "be6a6555-d5cf-4f62-b61e-1cd66e64036b",
   "metadata": {},
   "outputs": [
    {
     "data": {
      "text/plain": [
       "50"
      ]
     },
     "execution_count": 8,
     "metadata": {},
     "output_type": "execute_result"
    }
   ],
   "source": [
    "l[len(l) - 1]"
   ]
  },
  {
   "cell_type": "code",
   "execution_count": 9,
   "id": "a1c7e581-a2ed-41db-99c9-8de0cd0d8c2b",
   "metadata": {},
   "outputs": [
    {
     "data": {
      "text/plain": [
       "50"
      ]
     },
     "execution_count": 9,
     "metadata": {},
     "output_type": "execute_result"
    }
   ],
   "source": [
    "l[-1]"
   ]
  },
  {
   "cell_type": "code",
   "execution_count": 10,
   "id": "e7a822a0-af91-48f5-8889-8bf35ae2c3a2",
   "metadata": {},
   "outputs": [],
   "source": [
    "l = []"
   ]
  },
  {
   "cell_type": "code",
   "execution_count": 11,
   "id": "8bd25524-55d1-481b-be1f-62dda8d7159d",
   "metadata": {},
   "outputs": [
    {
     "data": {
      "text/plain": [
       "list"
      ]
     },
     "execution_count": 11,
     "metadata": {},
     "output_type": "execute_result"
    }
   ],
   "source": [
    "type(l)"
   ]
  },
  {
   "cell_type": "code",
   "execution_count": 12,
   "id": "68d38d69-58ad-4ab4-8fd2-edd5689eb5b7",
   "metadata": {},
   "outputs": [],
   "source": [
    "l = list()"
   ]
  },
  {
   "cell_type": "code",
   "execution_count": 13,
   "id": "7413dbe0-a97c-4566-a27b-912c63931fb1",
   "metadata": {},
   "outputs": [
    {
     "data": {
      "text/plain": [
       "list"
      ]
     },
     "execution_count": 13,
     "metadata": {},
     "output_type": "execute_result"
    }
   ],
   "source": [
    "type(l)"
   ]
  },
  {
   "cell_type": "code",
   "execution_count": 14,
   "id": "7a1b5225-432f-491f-ace6-c778d3d861bd",
   "metadata": {},
   "outputs": [],
   "source": [
    "l = [10, 20, 30, 40, 50]"
   ]
  },
  {
   "cell_type": "code",
   "execution_count": 15,
   "id": "7eac8da5-2491-4f46-88cd-229cdeed3957",
   "metadata": {},
   "outputs": [
    {
     "data": {
      "text/plain": [
       "30"
      ]
     },
     "execution_count": 15,
     "metadata": {},
     "output_type": "execute_result"
    }
   ],
   "source": [
    "l[2]"
   ]
  },
  {
   "cell_type": "code",
   "execution_count": 16,
   "id": "f6db9cfa-75af-4130-ac1b-1c177825e542",
   "metadata": {},
   "outputs": [],
   "source": [
    "l[2] = 3.14"
   ]
  },
  {
   "cell_type": "code",
   "execution_count": 17,
   "id": "b9aa95be-f4e4-4688-bcbe-a3c0bbf23610",
   "metadata": {},
   "outputs": [
    {
     "data": {
      "text/plain": [
       "[10, 20, 3.14, 40, 50]"
      ]
     },
     "execution_count": 17,
     "metadata": {},
     "output_type": "execute_result"
    }
   ],
   "source": [
    "l"
   ]
  },
  {
   "cell_type": "code",
   "execution_count": 18,
   "id": "1bebdde2-d33f-489a-a6f6-2ee311139e53",
   "metadata": {},
   "outputs": [],
   "source": [
    "l[-1] = 'Hello'"
   ]
  },
  {
   "cell_type": "code",
   "execution_count": 19,
   "id": "c59c5506-2176-4e39-a4f2-87403bb082b9",
   "metadata": {},
   "outputs": [
    {
     "data": {
      "text/plain": [
       "[10, 20, 3.14, 40, 'Hello']"
      ]
     },
     "execution_count": 19,
     "metadata": {},
     "output_type": "execute_result"
    }
   ],
   "source": [
    "l"
   ]
  },
  {
   "cell_type": "markdown",
   "id": "f9bc4ae9-bd8f-47fa-89cb-357b6a732fd1",
   "metadata": {},
   "source": [
    "## Tuples"
   ]
  },
  {
   "cell_type": "code",
   "execution_count": 20,
   "id": "f08121c5-0091-48ea-a320-f2ecb6538c86",
   "metadata": {},
   "outputs": [],
   "source": [
    "t = (1, 2, 3)"
   ]
  },
  {
   "cell_type": "code",
   "execution_count": 21,
   "id": "521ea776-f77f-4478-abf6-ec3a81f1c718",
   "metadata": {},
   "outputs": [
    {
     "data": {
      "text/plain": [
       "((1, 2, 3), tuple)"
      ]
     },
     "execution_count": 21,
     "metadata": {},
     "output_type": "execute_result"
    }
   ],
   "source": [
    "t, type(t)"
   ]
  },
  {
   "cell_type": "code",
   "execution_count": 22,
   "id": "f8b77889-66e8-4f54-891d-e0bc8d76ad1c",
   "metadata": {},
   "outputs": [
    {
     "data": {
      "text/plain": [
       "1"
      ]
     },
     "execution_count": 22,
     "metadata": {},
     "output_type": "execute_result"
    }
   ],
   "source": [
    "t[0]"
   ]
  },
  {
   "cell_type": "code",
   "execution_count": 23,
   "id": "ed747767-4224-4fc7-afa3-a86c90e5d2b7",
   "metadata": {},
   "outputs": [
    {
     "data": {
      "text/plain": [
       "3"
      ]
     },
     "execution_count": 23,
     "metadata": {},
     "output_type": "execute_result"
    }
   ],
   "source": [
    "len(t)"
   ]
  },
  {
   "cell_type": "code",
   "execution_count": 24,
   "id": "211a6f39-f6ae-4fef-8fcc-d5e7191d436b",
   "metadata": {},
   "outputs": [
    {
     "data": {
      "text/plain": [
       "3"
      ]
     },
     "execution_count": 24,
     "metadata": {},
     "output_type": "execute_result"
    }
   ],
   "source": [
    "t[-1]"
   ]
  },
  {
   "cell_type": "code",
   "execution_count": 25,
   "id": "e1b6b507-6c8d-4bf5-8e44-0f9f4bd016d2",
   "metadata": {},
   "outputs": [
    {
     "data": {
      "text/plain": [
       "2"
      ]
     },
     "execution_count": 25,
     "metadata": {},
     "output_type": "execute_result"
    }
   ],
   "source": [
    "t[1]"
   ]
  },
  {
   "cell_type": "code",
   "execution_count": 26,
   "id": "ee75f7a9-bb75-4f13-92d2-623e39872e4b",
   "metadata": {},
   "outputs": [
    {
     "ename": "TypeError",
     "evalue": "'tuple' object does not support item assignment",
     "output_type": "error",
     "traceback": [
      "\u001b[0;31m---------------------------------------------------------------------------\u001b[0m",
      "\u001b[0;31mTypeError\u001b[0m                                 Traceback (most recent call last)",
      "Cell \u001b[0;32mIn[26], line 1\u001b[0m\n\u001b[0;32m----> 1\u001b[0m \u001b[43mt\u001b[49m\u001b[43m[\u001b[49m\u001b[38;5;241;43m2\u001b[39;49m\u001b[43m]\u001b[49m \u001b[38;5;241m=\u001b[39m \u001b[38;5;241m40\u001b[39m\n",
      "\u001b[0;31mTypeError\u001b[0m: 'tuple' object does not support item assignment"
     ]
    }
   ],
   "source": [
    "t[2] = 40"
   ]
  },
  {
   "cell_type": "code",
   "execution_count": 27,
   "id": "fe76a207-a42f-42e4-ad39-7722424a668f",
   "metadata": {},
   "outputs": [],
   "source": [
    "t = ([1, 2], [3, 4])"
   ]
  },
  {
   "cell_type": "code",
   "execution_count": 28,
   "id": "b438d8c5-8c02-4555-ade3-bebe3978b596",
   "metadata": {},
   "outputs": [],
   "source": [
    "l = t[0]"
   ]
  },
  {
   "cell_type": "code",
   "execution_count": 29,
   "id": "fd04a24a-61b8-4a89-b5ed-98535110d300",
   "metadata": {},
   "outputs": [],
   "source": [
    "l[0] = 100"
   ]
  },
  {
   "cell_type": "code",
   "execution_count": 30,
   "id": "9fe2f645-5621-4f6b-9af5-240625f2aa8a",
   "metadata": {},
   "outputs": [
    {
     "data": {
      "text/plain": [
       "([100, 2], [3, 4])"
      ]
     },
     "execution_count": 30,
     "metadata": {},
     "output_type": "execute_result"
    }
   ],
   "source": [
    "t"
   ]
  },
  {
   "cell_type": "code",
   "execution_count": 31,
   "id": "272c5d87-5624-4b3a-ad0a-0f0e9fe6bde2",
   "metadata": {},
   "outputs": [],
   "source": [
    "t[1][1] = 400"
   ]
  },
  {
   "cell_type": "code",
   "execution_count": 32,
   "id": "6a2bffad-b9d4-41a4-a31e-40a740958fcd",
   "metadata": {},
   "outputs": [
    {
     "data": {
      "text/plain": [
       "([100, 2], [3, 400])"
      ]
     },
     "execution_count": 32,
     "metadata": {},
     "output_type": "execute_result"
    }
   ],
   "source": [
    "t"
   ]
  },
  {
   "cell_type": "code",
   "execution_count": 33,
   "id": "3b14f119-fe76-4a76-96a8-149af2602d33",
   "metadata": {},
   "outputs": [],
   "source": [
    "t = 1, 2"
   ]
  },
  {
   "cell_type": "code",
   "execution_count": 34,
   "id": "6960dea6-17b8-4a8f-88a5-afc73b7e8a76",
   "metadata": {},
   "outputs": [
    {
     "data": {
      "text/plain": [
       "((1, 2), tuple)"
      ]
     },
     "execution_count": 34,
     "metadata": {},
     "output_type": "execute_result"
    }
   ],
   "source": [
    "t, type(t)"
   ]
  },
  {
   "cell_type": "code",
   "execution_count": 36,
   "id": "2b035e5b-486b-48d5-a416-209cdd2629dd",
   "metadata": {},
   "outputs": [
    {
     "data": {
      "text/plain": [
       "(10, 20, 30)"
      ]
     },
     "execution_count": 36,
     "metadata": {},
     "output_type": "execute_result"
    }
   ],
   "source": [
    "a = 10\n",
    "b = 20\n",
    "\n",
    "a, b, a+b"
   ]
  },
  {
   "cell_type": "code",
   "execution_count": 37,
   "id": "c99b913a-f401-4e47-8fc3-f80251ff46e6",
   "metadata": {},
   "outputs": [
    {
     "data": {
      "text/plain": [
       "(10, 20, 30)"
      ]
     },
     "execution_count": 37,
     "metadata": {},
     "output_type": "execute_result"
    }
   ],
   "source": [
    "a = 10\n",
    "b = 20\n",
    "\n",
    "t = a, b, a+b\n",
    "\n",
    "t"
   ]
  },
  {
   "cell_type": "code",
   "execution_count": 38,
   "id": "bac8d738-a850-4939-ba3d-cc6519c533db",
   "metadata": {},
   "outputs": [],
   "source": [
    "t = ()"
   ]
  },
  {
   "cell_type": "code",
   "execution_count": 39,
   "id": "8d7da1a0-86d5-4be0-9287-c3a98854f317",
   "metadata": {},
   "outputs": [
    {
     "data": {
      "text/plain": [
       "(tuple, 0)"
      ]
     },
     "execution_count": 39,
     "metadata": {},
     "output_type": "execute_result"
    }
   ],
   "source": [
    "type(t), len(t)"
   ]
  },
  {
   "cell_type": "code",
   "execution_count": 40,
   "id": "06b9c584-d37c-4471-86d8-45e99c1d057f",
   "metadata": {},
   "outputs": [],
   "source": [
    "t = tuple()"
   ]
  },
  {
   "cell_type": "code",
   "execution_count": 42,
   "id": "d862e617-c8e6-4463-b7f8-89ef0948f1ef",
   "metadata": {},
   "outputs": [
    {
     "data": {
      "text/plain": [
       "((), tuple, 0)"
      ]
     },
     "execution_count": 42,
     "metadata": {},
     "output_type": "execute_result"
    }
   ],
   "source": [
    "t, type(t), len(t)"
   ]
  },
  {
   "cell_type": "code",
   "execution_count": 43,
   "id": "aa274e89-0460-4753-8214-a03b26fdc72c",
   "metadata": {},
   "outputs": [],
   "source": [
    " l = [1, 2, 3]"
   ]
  },
  {
   "cell_type": "code",
   "execution_count": 44,
   "id": "9cfee6af-2d8d-43b4-bdfd-3f63ed5c515a",
   "metadata": {},
   "outputs": [],
   "source": [
    "t = tuple(l)"
   ]
  },
  {
   "cell_type": "code",
   "execution_count": 45,
   "id": "687f6327-26d9-4780-aa05-866feb94cace",
   "metadata": {},
   "outputs": [
    {
     "data": {
      "text/plain": [
       "(1, 2, 3)"
      ]
     },
     "execution_count": 45,
     "metadata": {},
     "output_type": "execute_result"
    }
   ],
   "source": [
    "t"
   ]
  },
  {
   "cell_type": "code",
   "execution_count": 46,
   "id": "ea3fc1ac-03ff-4f6b-b4be-5af7a0078c9d",
   "metadata": {},
   "outputs": [],
   "source": [
    "t = 10, 20, 30"
   ]
  },
  {
   "cell_type": "code",
   "execution_count": 47,
   "id": "41d34fb4-2d79-44f8-ba9b-7e118d0c6180",
   "metadata": {},
   "outputs": [],
   "source": [
    "l = list(t)"
   ]
  },
  {
   "cell_type": "code",
   "execution_count": 48,
   "id": "e510b1fd-ceac-4b0d-af41-425bf9542fa2",
   "metadata": {},
   "outputs": [
    {
     "data": {
      "text/plain": [
       "[10, 20, 30]"
      ]
     },
     "execution_count": 48,
     "metadata": {},
     "output_type": "execute_result"
    }
   ],
   "source": [
    "l"
   ]
  },
  {
   "cell_type": "code",
   "execution_count": 49,
   "id": "2279b1cc-a7ff-433a-989d-4824366b2957",
   "metadata": {},
   "outputs": [],
   "source": [
    "t = 10, 20 , 3, 40"
   ]
  },
  {
   "cell_type": "code",
   "execution_count": 50,
   "id": "d5054459-5eeb-4348-9367-a0faf2aa2433",
   "metadata": {},
   "outputs": [
    {
     "data": {
      "text/plain": [
       "(10, 20, 3, 40)"
      ]
     },
     "execution_count": 50,
     "metadata": {},
     "output_type": "execute_result"
    }
   ],
   "source": [
    "t"
   ]
  },
  {
   "cell_type": "code",
   "execution_count": 51,
   "id": "03cbf710-a8b3-42a5-bae8-cde2b7f2655a",
   "metadata": {},
   "outputs": [],
   "source": [
    "l = list(t)"
   ]
  },
  {
   "cell_type": "code",
   "execution_count": 52,
   "id": "239f0154-fff4-4175-a393-c45da3d795d1",
   "metadata": {},
   "outputs": [
    {
     "data": {
      "text/plain": [
       "[10, 20, 3, 40]"
      ]
     },
     "execution_count": 52,
     "metadata": {},
     "output_type": "execute_result"
    }
   ],
   "source": [
    "l"
   ]
  },
  {
   "cell_type": "code",
   "execution_count": 53,
   "id": "a35ca947-631c-4d16-806a-dcb89021dc6d",
   "metadata": {},
   "outputs": [],
   "source": [
    "l[2] = 30"
   ]
  },
  {
   "cell_type": "code",
   "execution_count": 54,
   "id": "acc6a54e-b386-4abc-9b39-b02364ee438f",
   "metadata": {},
   "outputs": [
    {
     "data": {
      "text/plain": [
       "[10, 20, 30, 40]"
      ]
     },
     "execution_count": 54,
     "metadata": {},
     "output_type": "execute_result"
    }
   ],
   "source": [
    "l"
   ]
  },
  {
   "cell_type": "code",
   "execution_count": 55,
   "id": "3a11a709-e89d-4473-a742-99282230636d",
   "metadata": {},
   "outputs": [],
   "source": [
    "l = tuple(t)"
   ]
  },
  {
   "cell_type": "code",
   "execution_count": 56,
   "id": "e3b334fe-a054-4cd3-82d8-aecc65c17f46",
   "metadata": {},
   "outputs": [
    {
     "data": {
      "text/plain": [
       "(10, 20, 3, 40)"
      ]
     },
     "execution_count": 56,
     "metadata": {},
     "output_type": "execute_result"
    }
   ],
   "source": [
    "t"
   ]
  },
  {
   "cell_type": "code",
   "execution_count": 57,
   "id": "a1865998-f09d-48b9-b4d3-98d5658b4ca5",
   "metadata": {},
   "outputs": [],
   "source": [
    "t = [1, 2], 30, 40"
   ]
  },
  {
   "cell_type": "code",
   "execution_count": 58,
   "id": "299c655a-1f40-494f-b965-f8572bdac9f1",
   "metadata": {},
   "outputs": [
    {
     "data": {
      "text/plain": [
       "([1, 2], 30, 40)"
      ]
     },
     "execution_count": 58,
     "metadata": {},
     "output_type": "execute_result"
    }
   ],
   "source": [
    "t"
   ]
  },
  {
   "cell_type": "code",
   "execution_count": 59,
   "id": "f7289566-8513-472e-b24f-390138efd553",
   "metadata": {},
   "outputs": [],
   "source": [
    "t[0][1] = 20"
   ]
  },
  {
   "cell_type": "code",
   "execution_count": 60,
   "id": "aa17629e-ab87-453e-83e6-9406c8ad7e2c",
   "metadata": {},
   "outputs": [
    {
     "data": {
      "text/plain": [
       "([1, 20], 30, 40)"
      ]
     },
     "execution_count": 60,
     "metadata": {},
     "output_type": "execute_result"
    }
   ],
   "source": [
    "t"
   ]
  },
  {
   "cell_type": "code",
   "execution_count": 61,
   "id": "5f86e02a-c999-4647-815f-360b82f558d0",
   "metadata": {},
   "outputs": [],
   "source": [
    "l = list(t)"
   ]
  },
  {
   "cell_type": "code",
   "execution_count": 62,
   "id": "7ba9484c-9f9f-48ad-8ceb-9e6b897c48aa",
   "metadata": {},
   "outputs": [
    {
     "data": {
      "text/plain": [
       "[[1, 20], 30, 40]"
      ]
     },
     "execution_count": 62,
     "metadata": {},
     "output_type": "execute_result"
    }
   ],
   "source": [
    "l"
   ]
  },
  {
   "cell_type": "code",
   "execution_count": 63,
   "id": "c3c83797-3694-4e77-849b-3678465eb677",
   "metadata": {},
   "outputs": [
    {
     "data": {
      "text/plain": [
       "[1, 20]"
      ]
     },
     "execution_count": 63,
     "metadata": {},
     "output_type": "execute_result"
    }
   ],
   "source": [
    "l[0]"
   ]
  },
  {
   "cell_type": "code",
   "execution_count": 64,
   "id": "2b31879d-9179-4fff-8ac0-430b58c68fae",
   "metadata": {},
   "outputs": [],
   "source": [
    "l[0][0] = 10"
   ]
  },
  {
   "cell_type": "code",
   "execution_count": 65,
   "id": "d1130236-5803-4d0b-920c-a8c6e681429b",
   "metadata": {},
   "outputs": [
    {
     "data": {
      "text/plain": [
       "[[10, 20], 30, 40]"
      ]
     },
     "execution_count": 65,
     "metadata": {},
     "output_type": "execute_result"
    }
   ],
   "source": [
    "l"
   ]
  },
  {
   "cell_type": "code",
   "execution_count": null,
   "id": "76107423-96c0-4a94-844e-879b5d342570",
   "metadata": {},
   "outputs": [],
   "source": []
  }
 ],
 "metadata": {
  "kernelspec": {
   "display_name": "Python 3 (ipykernel)",
   "language": "python",
   "name": "python3"
  },
  "language_info": {
   "codemirror_mode": {
    "name": "ipython",
    "version": 3
   },
   "file_extension": ".py",
   "mimetype": "text/x-python",
   "name": "python",
   "nbconvert_exporter": "python",
   "pygments_lexer": "ipython3",
   "version": "3.9.23"
  }
 },
 "nbformat": 4,
 "nbformat_minor": 5
}
