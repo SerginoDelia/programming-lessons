{
 "cells": [
  {
   "cell_type": "markdown",
   "id": "3aabae32-b854-4618-a20a-c851d0441fe9",
   "metadata": {},
   "source": [
    "# Looping"
   ]
  },
  {
   "cell_type": "markdown",
   "id": "e0551240-a339-4485-b321-4be0818d0ac8",
   "metadata": {},
   "source": [
    "Iterables\n",
    "- Lists\n",
    "- Tuples\n",
    "- Ranges\n",
    "- Sets\n",
    "- Dictionaries\n",
    "- Strings\n",
    "\n",
    "For and While"
   ]
  },
  {
   "cell_type": "markdown",
   "id": "4aac519b-2301-41fc-8749-e2019262d289",
   "metadata": {},
   "source": [
    "for placeholder in iterable:"
   ]
  },
  {
   "cell_type": "code",
   "execution_count": 1,
   "id": "72eb5bbe-50df-4b55-bd59-9cd93e4c8fab",
   "metadata": {},
   "outputs": [],
   "source": [
    "suits = ['Spades', 'Hearts', 'Diamonds', 'Clubs']"
   ]
  },
  {
   "cell_type": "code",
   "execution_count": 2,
   "id": "f0eeb1fd-0f3f-46fd-8302-69bdc627e177",
   "metadata": {},
   "outputs": [
    {
     "name": "stdout",
     "output_type": "stream",
     "text": [
      "Spades\n",
      "Hearts\n",
      "Diamonds\n",
      "Clubs\n"
     ]
    }
   ],
   "source": [
    "for chewpac in suits:\n",
    "    print(chewpac)"
   ]
  },
  {
   "cell_type": "code",
   "execution_count": 3,
   "id": "42030767-ed1a-4029-8a83-874ec6785006",
   "metadata": {},
   "outputs": [
    {
     "data": {
      "text/plain": [
       "'Spades'"
      ]
     },
     "execution_count": 3,
     "metadata": {},
     "output_type": "execute_result"
    }
   ],
   "source": [
    "suits[0]"
   ]
  },
  {
   "cell_type": "code",
   "execution_count": 4,
   "id": "ebae4111-6e51-4b5a-b6cd-73f62bcd2e42",
   "metadata": {},
   "outputs": [
    {
     "data": {
      "text/plain": [
       "'Diamonds'"
      ]
     },
     "execution_count": 4,
     "metadata": {},
     "output_type": "execute_result"
    }
   ],
   "source": [
    "suits[2]"
   ]
  },
  {
   "cell_type": "code",
   "execution_count": 7,
   "id": "08bb2092-5ee0-4a11-9241-6a97817eae3f",
   "metadata": {},
   "outputs": [],
   "source": [
    "girls = ['Gina', 'Esa', 'Jasmine', 'Kiesha', 'Ari']"
   ]
  },
  {
   "cell_type": "code",
   "execution_count": 8,
   "id": "83ec5909-80f0-4f38-bf78-27228985922a",
   "metadata": {},
   "outputs": [
    {
     "name": "stdout",
     "output_type": "stream",
     "text": [
      "Gina\n",
      "Esa\n",
      "Jasmine\n",
      "Kiesha\n",
      "Ari\n"
     ]
    }
   ],
   "source": [
    "for girl in girls:\n",
    "    print(girl)"
   ]
  },
  {
   "cell_type": "code",
   "execution_count": 11,
   "id": "81d61a97-1e2d-4d4c-9a75-368210393725",
   "metadata": {},
   "outputs": [
    {
     "name": "stdout",
     "output_type": "stream",
     "text": [
      "Gina\n",
      "Esa\n",
      "Jasmine\n",
      "Ari\n"
     ]
    }
   ],
   "source": [
    "for girl in girls:\n",
    "    if girl.lower() == 'kiesha':\n",
    "        continue\n",
    "    print(girl)"
   ]
  },
  {
   "cell_type": "code",
   "execution_count": 12,
   "id": "618a333c-6d87-486a-8b7b-d3ae72509bd9",
   "metadata": {},
   "outputs": [
    {
     "name": "stdout",
     "output_type": "stream",
     "text": [
      "Gina\n",
      "Esa\n",
      "Jasmine\n"
     ]
    }
   ],
   "source": [
    "for girl in girls:\n",
    "    if girl.lower() == 'kiesha':\n",
    "        break\n",
    "    print(girl)"
   ]
  },
  {
   "cell_type": "code",
   "execution_count": 21,
   "id": "1bb8d2c0-61b3-4265-a9e2-2e98495a377c",
   "metadata": {},
   "outputs": [
    {
     "name": "stdout",
     "output_type": "stream",
     "text": [
      "Printing girl and index\n",
      "(0, 'Gina')\n",
      "Printing girl and index\n",
      "(1, 'Esa')\n",
      "Printing girl and index\n",
      "(2, 'Jasmine')\n",
      "Printing girl and index\n",
      "(3, 'Kiesha')\n",
      "Printing girl and index\n",
      "(4, 'Ari')\n"
     ]
    }
   ],
   "source": [
    "for girl in enumerate(girls):\n",
    "    # if girl.lower() == 'kiesha':\n",
    "    #     continue\n",
    "    print('Printing girl and index')\n",
    "    print(girl)"
   ]
  },
  {
   "cell_type": "code",
   "execution_count": 18,
   "id": "20a9532f-556d-4f8c-9afd-41d5408cbf15",
   "metadata": {},
   "outputs": [],
   "source": [
    "name = (0, 'Esa')"
   ]
  },
  {
   "cell_type": "code",
   "execution_count": 19,
   "id": "17cab861-00fa-4e42-9e08-ea3f03aab255",
   "metadata": {},
   "outputs": [
    {
     "data": {
      "text/plain": [
       "(0, 'Esa')"
      ]
     },
     "execution_count": 19,
     "metadata": {},
     "output_type": "execute_result"
    }
   ],
   "source": [
    "name"
   ]
  },
  {
   "cell_type": "code",
   "execution_count": 20,
   "id": "1f098d44-b320-4f6f-ac1f-c2cb4ee75c2e",
   "metadata": {},
   "outputs": [
    {
     "data": {
      "text/plain": [
       "'Esa'"
      ]
     },
     "execution_count": 20,
     "metadata": {},
     "output_type": "execute_result"
    }
   ],
   "source": [
    "name[1]"
   ]
  },
  {
   "cell_type": "code",
   "execution_count": 29,
   "id": "f926d4e6-ff5b-438d-ae8c-4bace6259aa6",
   "metadata": {},
   "outputs": [
    {
     "name": "stdout",
     "output_type": "stream",
     "text": [
      "Printing girl and index\n",
      "(0, 'Gina')\n",
      "Printing girl and index\n",
      "(1, 'Esa')\n",
      "Printing girl and index\n",
      "(2, 'Jasmine')\n",
      "Printing girl and index\n",
      "(4, 'Ari')\n"
     ]
    }
   ],
   "source": [
    "for girl in enumerate(girls):\n",
    "    if girl[1].lower() == 'kiesha':\n",
    "        continue\n",
    "    print('Printing girl and index')\n",
    "    print(girl)"
   ]
  },
  {
   "cell_type": "code",
   "execution_count": 31,
   "id": "ebbd904a-72b8-419a-897b-6fc3ca246f8e",
   "metadata": {},
   "outputs": [
    {
     "name": "stdout",
     "output_type": "stream",
     "text": [
      "0, Gina\n",
      "1, Esa\n",
      "2, Jasmine\n",
      "4, Ari\n"
     ]
    }
   ],
   "source": [
    "skip_this_girl = 'kiesha'\n",
    "\n",
    "for index, girl in enumerate(girls):\n",
    "    if girl.lower() == skip_this_girl:\n",
    "        continue\n",
    "    print(f'{index}, {girl}')\n"
   ]
  },
  {
   "cell_type": "code",
   "execution_count": 26,
   "id": "fd96940a-e5a1-4e03-838f-1df658299222",
   "metadata": {},
   "outputs": [
    {
     "name": "stdout",
     "output_type": "stream",
     "text": [
      "0 Gina\n",
      "1 Esa\n",
      "2 Jasmine\n",
      "3 Kiesha\n",
      "4 Ari\n"
     ]
    }
   ],
   "source": [
    "for num, girl in enumerate(girls):\n",
    "    print(num, girl)"
   ]
  },
  {
   "cell_type": "code",
   "execution_count": 27,
   "id": "0177f427-b491-4d4e-bc68-3745b4c6acc4",
   "metadata": {},
   "outputs": [
    {
     "name": "stdout",
     "output_type": "stream",
     "text": [
      "(0, 'Gina')\n",
      "(1, 'Esa')\n",
      "(2, 'Jasmine')\n",
      "(3, 'Kiesha')\n",
      "(4, 'Ari')\n"
     ]
    }
   ],
   "source": [
    "for girl in enumerate(girls):\n",
    "    print(girl)"
   ]
  },
  {
   "cell_type": "code",
   "execution_count": 40,
   "id": "6a6cddcb-61f8-4639-8062-c9d79f262e73",
   "metadata": {},
   "outputs": [
    {
     "data": {
      "text/plain": [
       "(1, 'Gina')"
      ]
     },
     "execution_count": 40,
     "metadata": {},
     "output_type": "execute_result"
    }
   ],
   "source": [
    "num, girl = (1, 'Gina')\n",
    "\n",
    "\n",
    "num, girl"
   ]
  },
  {
   "cell_type": "code",
   "execution_count": 42,
   "id": "ed5662a5-d48d-4281-9916-e8df29150f6f",
   "metadata": {},
   "outputs": [
    {
     "name": "stdout",
     "output_type": "stream",
     "text": [
      "1\n",
      "Gina\n"
     ]
    }
   ],
   "source": [
    "print(num)\n",
    "print(girl)"
   ]
  },
  {
   "cell_type": "code",
   "execution_count": 13,
   "id": "c5f61e50-8f06-4025-8623-5cf126c2c3cc",
   "metadata": {},
   "outputs": [],
   "source": [
    "girls = ['Sonya', 'Kitana', 'Iana', 'Keisha', 'Mai', 'Mary', 'Mia', 'Jasmine']"
   ]
  },
  {
   "cell_type": "code",
   "execution_count": 6,
   "id": "20c35f66-5e77-4953-bdc7-aad8b26d187a",
   "metadata": {},
   "outputs": [
    {
     "data": {
      "text/plain": [
       "'Iana'"
      ]
     },
     "execution_count": 6,
     "metadata": {},
     "output_type": "execute_result"
    }
   ],
   "source": [
    "girls[2]"
   ]
  },
  {
   "cell_type": "code",
   "execution_count": 16,
   "id": "d1c10111-3e0b-4be7-8916-30849cddcbb5",
   "metadata": {},
   "outputs": [
    {
     "name": "stdout",
     "output_type": "stream",
     "text": [
      "Sonya Make my drink and get naked\n",
      "Kitana Make my drink and get naked\n",
      "Iana Make my drink and get naked\n"
     ]
    }
   ],
   "source": [
    "for next1 in girls:\n",
    "    if next1 == 'Jasmine' or next1 == 'Mai':\n",
    "        print(f'Hey {next1}, Let\\'s have a drink')\n",
    "    elif next1.lower() == 'keisha':\n",
    "        continue # we are skipping Keisha\n",
    "        #break\n",
    "    else:\n",
    "        print(f'{next1} Make my drink and get naked')"
   ]
  },
  {
   "cell_type": "code",
   "execution_count": 17,
   "id": "74fd1736-feb6-4a58-ad62-c2ef238c742e",
   "metadata": {},
   "outputs": [
    {
     "name": "stdout",
     "output_type": "stream",
     "text": [
      "(0, 'Sonya')\n",
      "(1, 'Kitana')\n",
      "(2, 'Iana')\n",
      "(3, 'Keisha')\n",
      "(4, 'Mai')\n",
      "(5, 'Mary')\n",
      "(6, 'Mia')\n",
      "(7, 'Jasmine')\n"
     ]
    }
   ],
   "source": [
    "for girl in enumerate(girls):\n",
    "    print(girl)"
   ]
  },
  {
   "cell_type": "code",
   "execution_count": 19,
   "id": "a862ccbb-e72a-4069-870a-4a88b3d23118",
   "metadata": {},
   "outputs": [
    {
     "name": "stdout",
     "output_type": "stream",
     "text": [
      "Sonya is my Sunday girl\n"
     ]
    }
   ],
   "source": [
    "for index, girl in enumerate(girls):\n",
    "    if index == 0:\n",
    "        index = 'Sunday'\n",
    "        print(f'{girl} is my {index} girl')"
   ]
  },
  {
   "cell_type": "code",
   "execution_count": 23,
   "id": "a5993e55-1470-4599-b850-fef62c4849b6",
   "metadata": {},
   "outputs": [],
   "source": [
    " num, name = (0, 'Sonya')"
   ]
  },
  {
   "cell_type": "code",
   "execution_count": 24,
   "id": "7a6eb6a6-25a0-4860-9165-c964d23d5186",
   "metadata": {},
   "outputs": [
    {
     "data": {
      "text/plain": [
       "0"
      ]
     },
     "execution_count": 24,
     "metadata": {},
     "output_type": "execute_result"
    }
   ],
   "source": [
    "num"
   ]
  },
  {
   "cell_type": "code",
   "execution_count": 25,
   "id": "3f0669d9-d9cd-41b3-ad8c-0e80829b0df2",
   "metadata": {},
   "outputs": [
    {
     "data": {
      "text/plain": [
       "'Sonya'"
      ]
     },
     "execution_count": 25,
     "metadata": {},
     "output_type": "execute_result"
    }
   ],
   "source": [
    "name"
   ]
  },
  {
   "cell_type": "code",
   "execution_count": 26,
   "id": "b730ff63-ba76-4740-a631-4a43f234785e",
   "metadata": {},
   "outputs": [
    {
     "name": "stdout",
     "output_type": "stream",
     "text": [
      "Index: 0, Name: Sonya\n",
      "Index: 1, Name: Kitana\n",
      "Index: 2, Name: Iana\n",
      "Index: 3, Name: Keisha\n",
      "Index: 4, Name: Mai\n",
      "Index: 5, Name: Mary\n",
      "Index: 6, Name: Mia\n",
      "Index: 7, Name: Jasmine\n"
     ]
    }
   ],
   "source": [
    "for girl in enumerate(girls):\n",
    "    print(f'Index: {girl[0]}, Name: {girl[1]}')"
   ]
  },
  {
   "cell_type": "code",
   "execution_count": 27,
   "id": "83396756-1f8c-492f-95f8-c253eec3eaac",
   "metadata": {},
   "outputs": [
    {
     "name": "stdout",
     "output_type": "stream",
     "text": [
      "Index: 0, Name: Sonya\n",
      "Index: 1, Name: Kitana\n",
      "Index: 2, Name: Iana\n",
      "Index: 3, Name: Keisha\n",
      "Index: 4, Name: Mai\n",
      "Index: 5, Name: Mary\n",
      "Index: 6, Name: Mia\n",
      "Index: 7, Name: Jasmine\n"
     ]
    }
   ],
   "source": [
    "for index, girl in enumerate(girls):\n",
    "    print(f'Index: {index}, Name: {girl}')"
   ]
  },
  {
   "cell_type": "markdown",
   "id": "a1f76af5-6ecc-4f71-9364-a6cc30dc42e6",
   "metadata": {},
   "source": [
    "## While loop\n"
   ]
  },
  {
   "cell_type": "markdown",
   "id": "9512d06e-4b79-4bda-be3e-414cd4459030",
   "metadata": {},
   "source": [
    "loop runs while the statement is true"
   ]
  },
  {
   "cell_type": "code",
   "execution_count": 9,
   "id": "06a87c5e-e7d8-4ff0-962f-2211a38f0931",
   "metadata": {},
   "outputs": [],
   "source": [
    "girls = ['Sonya', 'Kitana', 'Iana', 'Keisha', 'Mai', 'Mary', 'Mia', 'Jasmine']"
   ]
  },
  {
   "cell_type": "code",
   "execution_count": 10,
   "id": "34400a26-f24e-4938-9140-98da01b7cac8",
   "metadata": {},
   "outputs": [],
   "source": [
    "index = 0"
   ]
  },
  {
   "cell_type": "code",
   "execution_count": 3,
   "id": "c505d538-6990-4139-a8c0-8ce903314d72",
   "metadata": {},
   "outputs": [
    {
     "data": {
      "text/plain": [
       "'Kitana'"
      ]
     },
     "execution_count": 3,
     "metadata": {},
     "output_type": "execute_result"
    }
   ],
   "source": [
    "girls[1]"
   ]
  },
  {
   "cell_type": "code",
   "execution_count": 4,
   "id": "77bc85be-952e-4559-97a2-0d1a17611313",
   "metadata": {},
   "outputs": [
    {
     "name": "stdout",
     "output_type": "stream",
     "text": [
      "Sonya\n",
      "Kitana\n",
      "Iana\n",
      "Keisha\n",
      "Mai\n",
      "Mary\n",
      "Mia\n",
      "Jasmine\n"
     ]
    }
   ],
   "source": [
    "while index < len(girls):\n",
    "    print(girls[index])\n",
    "    index += 1"
   ]
  },
  {
   "cell_type": "markdown",
   "id": "4fda5fd3-79a4-4ce9-be1b-73d478983da8",
   "metadata": {},
   "source": [
    "for index, girl in enumerate(girls):\n",
    "    print(f'Index: {index}, Name: {girl}')"
   ]
  },
  {
   "cell_type": "code",
   "execution_count": 13,
   "id": "fd94af95-ec7a-42b8-8ca6-b49bd9d86264",
   "metadata": {},
   "outputs": [],
   "source": [
    "while index < len(girls):\n",
    "    index1 = index\n",
    "    print(f'Index: {index1}, Name: {girls[index1]}')\n",
    "    index1 = index1 + 1"
   ]
  },
  {
   "cell_type": "code",
   "execution_count": 12,
   "id": "0d460901-5e72-42d8-b517-ff9b4e915701",
   "metadata": {},
   "outputs": [
    {
     "data": {
      "text/plain": [
       "8"
      ]
     },
     "execution_count": 12,
     "metadata": {},
     "output_type": "execute_result"
    }
   ],
   "source": [
    "index"
   ]
  },
  {
   "cell_type": "code",
   "execution_count": null,
   "id": "6cd1ac01-112f-4b47-9239-2b811fd827cc",
   "metadata": {},
   "outputs": [],
   "source": []
  }
 ],
 "metadata": {
  "kernelspec": {
   "display_name": "Python 3 (ipykernel)",
   "language": "python",
   "name": "python3"
  },
  "language_info": {
   "codemirror_mode": {
    "name": "ipython",
    "version": 3
   },
   "file_extension": ".py",
   "mimetype": "text/x-python",
   "name": "python",
   "nbconvert_exporter": "python",
   "pygments_lexer": "ipython3",
   "version": "3.12.7"
  }
 },
 "nbformat": 4,
 "nbformat_minor": 5
}
