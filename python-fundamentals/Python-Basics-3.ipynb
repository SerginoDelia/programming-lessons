{
 "cells": [
  {
   "cell_type": "markdown",
   "id": "ee20364e-414d-4c8b-9433-f6ce4b11746b",
   "metadata": {},
   "source": [
    "## Python Basics"
   ]
  },
  {
   "cell_type": "markdown",
   "id": "d44fab36-8f36-482e-9aaf-f24c5fce5f0b",
   "metadata": {},
   "source": [
    "Data Types:\n",
    "\n",
    "- Immutable\n",
    "- integers\n",
    "- floats\n",
    "- boolean (true or false)\n",
    "- strings"
   ]
  },
  {
   "cell_type": "code",
   "execution_count": 2,
   "id": "5dc32890-9eba-44cc-9785-1888b8842f7c",
   "metadata": {},
   "outputs": [],
   "source": [
    "name = 'Serge'\n",
    "name2 = \"Serge\"\n",
    "name3 = \"\"\"Serge\n",
    "Delia\n",
    "\"\"\""
   ]
  },
  {
   "cell_type": "code",
   "execution_count": 3,
   "id": "afef715a-cc30-4e2c-8d66-69c22f7dd7e6",
   "metadata": {},
   "outputs": [
    {
     "name": "stdout",
     "output_type": "stream",
     "text": [
      "Serge\n"
     ]
    }
   ],
   "source": [
    "print(name)"
   ]
  },
  {
   "cell_type": "code",
   "execution_count": 4,
   "id": "bdd8927f-18e2-4e3f-89d3-1cb60e995c4a",
   "metadata": {},
   "outputs": [
    {
     "name": "stdout",
     "output_type": "stream",
     "text": [
      "Serge\n",
      "Delia\n",
      "\n"
     ]
    }
   ],
   "source": [
    "print(name3)"
   ]
  },
  {
   "cell_type": "code",
   "execution_count": 5,
   "id": "ad3dab79-5819-4c6e-80a0-d3c4adee6b5e",
   "metadata": {},
   "outputs": [],
   "source": [
    "num = 42"
   ]
  },
  {
   "cell_type": "code",
   "execution_count": 6,
   "id": "24203cd7-f70b-4c85-99d0-cfbb94fa73d6",
   "metadata": {},
   "outputs": [],
   "source": [
    "pie = 3.14"
   ]
  },
  {
   "cell_type": "code",
   "execution_count": 7,
   "id": "9789bcfb-3eff-4b5c-92ed-d626b2710769",
   "metadata": {},
   "outputs": [],
   "source": [
    "with_lizzo = False"
   ]
  },
  {
   "cell_type": "markdown",
   "id": "2e61b5ed-5a6e-40ce-9bce-3eb898d4d224",
   "metadata": {},
   "source": [
    "\n",
    "name = 'Serge'\n",
    "name_3 = \"John\"\n",
    "3name = not valid\n",
    "\n",
    "var\n",
    "my_var\n",
    "my_var1\n",
    "index_1\n",
    "_var\n",
    "__var\n",
    "\n",
    "Reserved Keywords (do not use)\n",
    "True\n",
    "False\n",
    "if\n",
    "def\n",
    "else\n",
    "elif\n",
    "and\n",
    "or\n",
    "\n",
    "Python --> my_name --> Snake case\n",
    "JS --> myName  --> Camel case"
   ]
  },
  {
   "cell_type": "code",
   "execution_count": 10,
   "id": "84e98432-2651-451f-ba1b-1555eec05f4d",
   "metadata": {},
   "outputs": [
    {
     "data": {
      "text/plain": [
       "20"
      ]
     },
     "execution_count": 10,
     "metadata": {},
     "output_type": "execute_result"
    }
   ],
   "source": [
    "10 + 10"
   ]
  },
  {
   "cell_type": "markdown",
   "id": "6def3239-acac-421d-816f-ab58c19eb8e4",
   "metadata": {},
   "source": [
    "10 - 5"
   ]
  },
  {
   "cell_type": "code",
   "execution_count": 11,
   "id": "8cb1190a-ecae-4b20-be5e-54818246f9d3",
   "metadata": {},
   "outputs": [
    {
     "data": {
      "text/plain": [
       "60"
      ]
     },
     "execution_count": 11,
     "metadata": {},
     "output_type": "execute_result"
    }
   ],
   "source": [
    "10 * 6"
   ]
  },
  {
   "cell_type": "code",
   "execution_count": 12,
   "id": "7bd668c8-32a3-4f7f-a2ee-c46ee0279cc6",
   "metadata": {},
   "outputs": [
    {
     "data": {
      "text/plain": [
       "256"
      ]
     },
     "execution_count": 12,
     "metadata": {},
     "output_type": "execute_result"
    }
   ],
   "source": [
    "2 ** 8"
   ]
  },
  {
   "cell_type": "code",
   "execution_count": 13,
   "id": "e2a5331b-e732-4d12-8a9c-f59081591b5f",
   "metadata": {},
   "outputs": [],
   "source": [
    "# Modulus %"
   ]
  },
  {
   "cell_type": "code",
   "execution_count": 14,
   "id": "186c1ff7-f259-4e5c-9cbe-6b322df3a8cb",
   "metadata": {},
   "outputs": [
    {
     "data": {
      "text/plain": [
       "1"
      ]
     },
     "execution_count": 14,
     "metadata": {},
     "output_type": "execute_result"
    }
   ],
   "source": [
    "10 % 3"
   ]
  },
  {
   "cell_type": "code",
   "execution_count": 15,
   "id": "9a5b6e5a-23f4-4dde-a8ef-7c8331eac03a",
   "metadata": {},
   "outputs": [
    {
     "data": {
      "text/plain": [
       "3.3333333333333335"
      ]
     },
     "execution_count": 15,
     "metadata": {},
     "output_type": "execute_result"
    }
   ],
   "source": [
    "10 / 3"
   ]
  },
  {
   "cell_type": "code",
   "execution_count": 16,
   "id": "9444149d-5eb4-46c2-ab1c-0b2adcbf38d5",
   "metadata": {},
   "outputs": [
    {
     "data": {
      "text/plain": [
       "3"
      ]
     },
     "execution_count": 16,
     "metadata": {},
     "output_type": "execute_result"
    }
   ],
   "source": [
    "10 // 3"
   ]
  },
  {
   "cell_type": "code",
   "execution_count": 17,
   "id": "03445dbd-c02c-4aae-91c9-1ef47de0e432",
   "metadata": {},
   "outputs": [],
   "source": [
    "num1 = 20\n",
    "num2 = 8"
   ]
  },
  {
   "cell_type": "code",
   "execution_count": 18,
   "id": "6bab5e25-6a5f-497a-bc6f-e94703b12826",
   "metadata": {},
   "outputs": [
    {
     "data": {
      "text/plain": [
       "28"
      ]
     },
     "execution_count": 18,
     "metadata": {},
     "output_type": "execute_result"
    }
   ],
   "source": [
    "num1 + num2"
   ]
  },
  {
   "cell_type": "code",
   "execution_count": 19,
   "id": "dab50021-b089-4994-922b-7972991ba9f7",
   "metadata": {},
   "outputs": [
    {
     "data": {
      "text/plain": [
       "2"
      ]
     },
     "execution_count": 19,
     "metadata": {},
     "output_type": "execute_result"
    }
   ],
   "source": [
    "num1 // num2"
   ]
  },
  {
   "cell_type": "code",
   "execution_count": 20,
   "id": "8548a2d5-386b-464c-9c94-90dced7553b2",
   "metadata": {},
   "outputs": [
    {
     "data": {
      "text/plain": [
       "4"
      ]
     },
     "execution_count": 20,
     "metadata": {},
     "output_type": "execute_result"
    }
   ],
   "source": [
    "num1 % num2"
   ]
  },
  {
   "cell_type": "markdown",
   "id": "01478de1-0967-4e14-8e6a-5d0c3e07e914",
   "metadata": {},
   "source": [
    "PEMDAS\n",
    "\n",
    "Parenthesis\n",
    "Exponents\n",
    "Mul\n",
    "Div\n",
    "Add\n",
    "Subtract"
   ]
  },
  {
   "cell_type": "code",
   "execution_count": 21,
   "id": "30772ed8-d7cc-4b96-afa9-25dcbe4fc456",
   "metadata": {},
   "outputs": [
    {
     "data": {
      "text/plain": [
       "51"
      ]
     },
     "execution_count": 21,
     "metadata": {},
     "output_type": "execute_result"
    }
   ],
   "source": [
    "3 + 3 * 2 ** 4\n",
    "\n",
    "# 2 ** 4 --> 16 * 3 + 3"
   ]
  },
  {
   "cell_type": "code",
   "execution_count": 24,
   "id": "6af910d8-9dc9-4289-b4ed-3c2d6f66f7df",
   "metadata": {},
   "outputs": [
    {
     "data": {
      "text/plain": [
       "96"
      ]
     },
     "execution_count": 24,
     "metadata": {},
     "output_type": "execute_result"
    }
   ],
   "source": [
    "(3 + 3) * 2 ** 4\n",
    "\n",
    "# 3+3 * 2 ** 4\n",
    "# 6 * 16"
   ]
  },
  {
   "cell_type": "markdown",
   "id": "445e3984-aaf9-4a4a-a07c-c8497e0c2252",
   "metadata": {},
   "source": [
    "## Comparisons"
   ]
  },
  {
   "cell_type": "markdown",
   "id": "43ca76a7-8711-4787-a856-917f2abc037e",
   "metadata": {},
   "source": [
    "== Equality\n",
    "!= not equal\n",
    "<\n",
    ">\n",
    "<=\n",
    ">=\n",
    "\n",
    "Evaluates to true or false"
   ]
  },
  {
   "cell_type": "code",
   "execution_count": 25,
   "id": "3a41a76d-2dfd-4eb5-bcca-a63e762080d0",
   "metadata": {},
   "outputs": [
    {
     "data": {
      "text/plain": [
       "False"
      ]
     },
     "execution_count": 25,
     "metadata": {},
     "output_type": "execute_result"
    }
   ],
   "source": [
    "5 == 6"
   ]
  },
  {
   "cell_type": "code",
   "execution_count": 26,
   "id": "62fac12e-4bfc-4fb0-af0c-4ddbac587e2c",
   "metadata": {},
   "outputs": [
    {
     "data": {
      "text/plain": [
       "True"
      ]
     },
     "execution_count": 26,
     "metadata": {},
     "output_type": "execute_result"
    }
   ],
   "source": [
    "5 < 6"
   ]
  },
  {
   "cell_type": "code",
   "execution_count": 27,
   "id": "3a0ddd82-5977-45f5-a743-e1156719e62b",
   "metadata": {},
   "outputs": [
    {
     "data": {
      "text/plain": [
       "True"
      ]
     },
     "execution_count": 27,
     "metadata": {},
     "output_type": "execute_result"
    }
   ],
   "source": [
    "5 <= 6"
   ]
  },
  {
   "cell_type": "code",
   "execution_count": 28,
   "id": "45d56265-bac5-42ec-b7ea-f129b9311bf9",
   "metadata": {},
   "outputs": [
    {
     "data": {
      "text/plain": [
       "False"
      ]
     },
     "execution_count": 28,
     "metadata": {},
     "output_type": "execute_result"
    }
   ],
   "source": [
    "6 > 6"
   ]
  },
  {
   "cell_type": "code",
   "execution_count": 29,
   "id": "41ee241a-ffcc-465d-a72e-b4599228661a",
   "metadata": {},
   "outputs": [
    {
     "data": {
      "text/plain": [
       "True"
      ]
     },
     "execution_count": 29,
     "metadata": {},
     "output_type": "execute_result"
    }
   ],
   "source": [
    "6 >= 6"
   ]
  },
  {
   "cell_type": "code",
   "execution_count": null,
   "id": "16fe80a2-9e42-47c2-bee1-612857db028d",
   "metadata": {},
   "outputs": [],
   "source": []
  }
 ],
 "metadata": {
  "kernelspec": {
   "display_name": "Python 3 (ipykernel)",
   "language": "python",
   "name": "python3"
  },
  "language_info": {
   "codemirror_mode": {
    "name": "ipython",
    "version": 3
   },
   "file_extension": ".py",
   "mimetype": "text/x-python",
   "name": "python",
   "nbconvert_exporter": "python",
   "pygments_lexer": "ipython3",
   "version": "3.12.7"
  }
 },
 "nbformat": 4,
 "nbformat_minor": 5
}
