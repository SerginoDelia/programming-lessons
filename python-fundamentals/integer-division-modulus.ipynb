{
 "cells": [
  {
   "cell_type": "markdown",
   "id": "a8da3c43-8c13-482c-8f10-2553bc700b9d",
   "metadata": {},
   "source": [
    "## Integer Division and Modulus"
   ]
  },
  {
   "cell_type": "code",
   "execution_count": 1,
   "id": "723e5d29-47d4-42ce-872d-cdda3103f768",
   "metadata": {},
   "outputs": [],
   "source": [
    "a = 10\n",
    "b = 3"
   ]
  },
  {
   "cell_type": "code",
   "execution_count": 2,
   "id": "f0b2341c-a43f-4b42-a7f0-b303a2c76581",
   "metadata": {},
   "outputs": [
    {
     "data": {
      "text/plain": [
       "3.3333333333333335"
      ]
     },
     "execution_count": 2,
     "metadata": {},
     "output_type": "execute_result"
    }
   ],
   "source": [
    "a / b"
   ]
  },
  {
   "cell_type": "code",
   "execution_count": 3,
   "id": "9cfee23b-a55e-4adc-b4ee-a784759af50b",
   "metadata": {},
   "outputs": [
    {
     "data": {
      "text/plain": [
       "3"
      ]
     },
     "execution_count": 3,
     "metadata": {},
     "output_type": "execute_result"
    }
   ],
   "source": [
    "a // b"
   ]
  },
  {
   "cell_type": "code",
   "execution_count": 4,
   "id": "c5c48196-75fe-4910-900c-0e28b34e3648",
   "metadata": {},
   "outputs": [
    {
     "data": {
      "text/plain": [
       "-2.4"
      ]
     },
     "execution_count": 4,
     "metadata": {},
     "output_type": "execute_result"
    }
   ],
   "source": [
    "-12 / 5"
   ]
  },
  {
   "cell_type": "code",
   "execution_count": 5,
   "id": "6ae59c00-4ab7-420b-a736-3bd758e98ae3",
   "metadata": {},
   "outputs": [
    {
     "data": {
      "text/plain": [
       "-3"
      ]
     },
     "execution_count": 5,
     "metadata": {},
     "output_type": "execute_result"
    }
   ],
   "source": [
    "-12 // 5"
   ]
  },
  {
   "cell_type": "code",
   "execution_count": 6,
   "id": "d7ee1eb0-f56f-4bca-b943-2c40b4ed3356",
   "metadata": {},
   "outputs": [
    {
     "data": {
      "text/plain": [
       "1"
      ]
     },
     "execution_count": 6,
     "metadata": {},
     "output_type": "execute_result"
    }
   ],
   "source": [
    "10 % 3"
   ]
  },
  {
   "cell_type": "code",
   "execution_count": 7,
   "id": "15152696-939e-4a01-a6cb-2b6de0a41b61",
   "metadata": {},
   "outputs": [
    {
     "data": {
      "text/plain": [
       "0"
      ]
     },
     "execution_count": 7,
     "metadata": {},
     "output_type": "execute_result"
    }
   ],
   "source": [
    "4 % 2"
   ]
  },
  {
   "cell_type": "code",
   "execution_count": 8,
   "id": "d9f1bf8e-842c-4cbf-8b0d-b32c56ef6d7c",
   "metadata": {},
   "outputs": [],
   "source": [
    "elapsed_minutes = 165\n"
   ]
  },
  {
   "cell_type": "code",
   "execution_count": 9,
   "id": "2bbe6def-1c3e-4abc-b18d-95fdd0c7ddd0",
   "metadata": {},
   "outputs": [
    {
     "data": {
      "text/plain": [
       "2.75"
      ]
     },
     "execution_count": 9,
     "metadata": {},
     "output_type": "execute_result"
    }
   ],
   "source": [
    "165 / 60"
   ]
  },
  {
   "cell_type": "code",
   "execution_count": 10,
   "id": "a582c4ba-bce7-45be-b95a-101385adaed5",
   "metadata": {},
   "outputs": [
    {
     "data": {
      "text/plain": [
       "45"
      ]
     },
     "execution_count": 10,
     "metadata": {},
     "output_type": "execute_result"
    }
   ],
   "source": [
    "165 - (2 * 60)"
   ]
  },
  {
   "cell_type": "code",
   "execution_count": 11,
   "id": "551a38f0-d1a1-4d14-a675-69ac869c19bf",
   "metadata": {},
   "outputs": [
    {
     "data": {
      "text/plain": [
       "2"
      ]
     },
     "execution_count": 11,
     "metadata": {},
     "output_type": "execute_result"
    }
   ],
   "source": [
    "165 // 60"
   ]
  },
  {
   "cell_type": "code",
   "execution_count": 13,
   "id": "03e7c687-928c-4a4c-8031-27e12566fa8d",
   "metadata": {},
   "outputs": [
    {
     "data": {
      "text/plain": [
       "45"
      ]
     },
     "execution_count": 13,
     "metadata": {},
     "output_type": "execute_result"
    }
   ],
   "source": [
    "165 - (165 // 60 * 60)"
   ]
  },
  {
   "cell_type": "code",
   "execution_count": 14,
   "id": "a84a5882-744a-4d14-840f-1ec905755f8f",
   "metadata": {},
   "outputs": [
    {
     "data": {
      "text/plain": [
       "45"
      ]
     },
     "execution_count": 14,
     "metadata": {},
     "output_type": "execute_result"
    }
   ],
   "source": [
    "165 % 60 "
   ]
  },
  {
   "cell_type": "code",
   "execution_count": 17,
   "id": "c1a1b09a-2b26-401c-b4a7-49b5b7988474",
   "metadata": {},
   "outputs": [
    {
     "name": "stdout",
     "output_type": "stream",
     "text": [
      "2 45\n"
     ]
    }
   ],
   "source": [
    "elapsed_minutes = 165\n",
    "hours = elapsed_minutes // 60\n",
    "remaining_minutes = 165 % 60\n",
    "\n",
    "print(hours, remaining_minutes)"
   ]
  },
  {
   "cell_type": "code",
   "execution_count": null,
   "id": "89a2e709-d9c6-4ad4-8ebd-4ff52b86da1d",
   "metadata": {},
   "outputs": [],
   "source": []
  }
 ],
 "metadata": {
  "kernelspec": {
   "display_name": "Python 3 (ipykernel)",
   "language": "python",
   "name": "python3"
  },
  "language_info": {
   "codemirror_mode": {
    "name": "ipython",
    "version": 3
   },
   "file_extension": ".py",
   "mimetype": "text/x-python",
   "name": "python",
   "nbconvert_exporter": "python",
   "pygments_lexer": "ipython3",
   "version": "3.9.23"
  }
 },
 "nbformat": 4,
 "nbformat_minor": 5
}
