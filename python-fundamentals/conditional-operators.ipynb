{
 "cells": [
  {
   "cell_type": "markdown",
   "id": "0072bc9a-3434-4dfe-8d70-164c8376f7bb",
   "metadata": {},
   "source": [
    "## if..else"
   ]
  },
  {
   "cell_type": "code",
   "execution_count": 1,
   "id": "5b573e95-ec00-4912-a6fb-fdf63d28b1c7",
   "metadata": {},
   "outputs": [
    {
     "name": "stdout",
     "output_type": "stream",
     "text": [
      "1 is less than 2\n"
     ]
    }
   ],
   "source": [
    "if 1 < 2:\n",
    "    print('1 is less than 2')"
   ]
  },
  {
   "cell_type": "code",
   "execution_count": 2,
   "id": "f9a2ad94-3bf3-49b3-8a11-f4e979ad22c1",
   "metadata": {},
   "outputs": [],
   "source": [
    "if 1 > 2:\n",
    "    print('1 is less than 2')"
   ]
  },
  {
   "cell_type": "code",
   "execution_count": 3,
   "id": "0b2f5b5e-f847-4153-84b5-cc293c5e578c",
   "metadata": {},
   "outputs": [
    {
     "name": "stdout",
     "output_type": "stream",
     "text": [
      "1 is less than 2\n"
     ]
    }
   ],
   "source": [
    "if 1 < 2:\n",
    "    print('1 is less than 2')\n",
    "else:\n",
    "    print('1 is not less than 2')"
   ]
  },
  {
   "cell_type": "code",
   "execution_count": 4,
   "id": "8e720568-23c5-4f40-a047-13811af62b79",
   "metadata": {},
   "outputs": [
    {
     "name": "stdout",
     "output_type": "stream",
     "text": [
      "1 is not less than 2\n"
     ]
    }
   ],
   "source": [
    "if 1 > 2:\n",
    "    print('1 is less than 2')\n",
    "else:\n",
    "    print('1 is not less than 2')"
   ]
  },
  {
   "cell_type": "code",
   "execution_count": 5,
   "id": "6983007f-a22c-4544-9423-f11d41af879f",
   "metadata": {},
   "outputs": [
    {
     "name": "stdout",
     "output_type": "stream",
     "text": [
      "authorized\n"
     ]
    }
   ],
   "source": [
    "account_enabled = True\n",
    "balance = 1000\n",
    "withdraw = 100\n",
    "\n",
    "if account_enabled and withdraw <= balance: # account_enabled is already True\n",
    "    print('authorized')\n",
    "else:\n",
    "    print('not authorized')"
   ]
  },
  {
   "cell_type": "code",
   "execution_count": 6,
   "id": "eb9c0248-35c4-4c90-a9cf-1a4b9e1987c7",
   "metadata": {},
   "outputs": [
    {
     "name": "stdout",
     "output_type": "stream",
     "text": [
      "not authorized\n"
     ]
    }
   ],
   "source": [
    "account_enabled = True\n",
    "balance = 1000\n",
    "withdraw = 10000\n",
    "\n",
    "if account_enabled and withdraw <= balance: # account_enabled is already True\n",
    "    print('authorized')\n",
    "else:\n",
    "    print('not authorized')"
   ]
  },
  {
   "cell_type": "code",
   "execution_count": 8,
   "id": "6cb1a38d-9b6a-401d-b9e7-7b45b2f8296a",
   "metadata": {},
   "outputs": [
    {
     "name": "stdout",
     "output_type": "stream",
     "text": [
      "account disabled\n"
     ]
    }
   ],
   "source": [
    "account_enabled = False\n",
    "balance = 1000\n",
    "withdraw = 100\n",
    "\n",
    "if account_enabled and withdraw <= balance: # account_enabled is already True\n",
    "    print('authorized')\n",
    "else:\n",
    "    if not account_enabled: # not changes False to True\n",
    "        print('account disabled')\n",
    "    else:\n",
    "        print('insufficient funds')"
   ]
  },
  {
   "cell_type": "code",
   "execution_count": 9,
   "id": "ff163122-e26d-4eaa-a67f-1eae91ee06f0",
   "metadata": {},
   "outputs": [
    {
     "name": "stdout",
     "output_type": "stream",
     "text": [
      "C\n"
     ]
    }
   ],
   "source": [
    "grade = 72\n",
    "\n",
    "if grade >= 90:\n",
    "    letter_grade = 'A'\n",
    "else:\n",
    "    if grade >= 80:\n",
    "        letter_grade = 'B'\n",
    "    else:\n",
    "        if grade >= 70:\n",
    "            letter_grade = 'C'\n",
    "        else:\n",
    "            if grade >= 60:\n",
    "                letter_grade = 'D'\n",
    "            else: \n",
    "                letter_grade = 'F'\n",
    "\n",
    "print(letter_grade)\n",
    "        \n",
    "        "
   ]
  },
  {
   "cell_type": "code",
   "execution_count": 12,
   "id": "90fd5bd2-01e7-4343-91f0-5719c2878725",
   "metadata": {},
   "outputs": [
    {
     "name": "stdout",
     "output_type": "stream",
     "text": [
      "C\n"
     ]
    }
   ],
   "source": [
    "# Python executes every if statement\n",
    "\n",
    "grade = 72\n",
    "\n",
    "if grade >= 90:\n",
    "    letter_grade = 'A'\n",
    "\n",
    "if grade >= 80 and grade < 90:\n",
    "    letter_grade = 'B'\n",
    "\n",
    "if grade >= 70 and grade < 80:\n",
    "    letter_grade = 'C'\n",
    "\n",
    "if grade >= 60 and grade < 70:\n",
    "    letter_grade = 'D'\n",
    "if grade < 60:\n",
    "    letter_grade = 'F'\n",
    "\n",
    "print(letter_grade)"
   ]
  },
  {
   "cell_type": "code",
   "execution_count": 14,
   "id": "644e3021-26bd-445f-aa1b-a94bdf272595",
   "metadata": {},
   "outputs": [
    {
     "name": "stdout",
     "output_type": "stream",
     "text": [
      "C\n"
     ]
    }
   ],
   "source": [
    "grade = 72\n",
    "\n",
    "letter_grade = 'F'\n",
    "\n",
    "if grade >= 60:\n",
    "    letter_grade = 'D'\n",
    "\n",
    "if grade >= 70:\n",
    "    letter_grade = 'C'\n",
    "\n",
    "if grade >= 80:\n",
    "    letter_grade = 'B'\n",
    "\n",
    "if grade >= 90:\n",
    "    letter_grade = 'A'\n",
    "\n",
    "print(letter_grade)"
   ]
  },
  {
   "cell_type": "markdown",
   "id": "695885e1-79f5-47a8-a314-2d5b37903a89",
   "metadata": {},
   "source": [
    "## elif"
   ]
  },
  {
   "cell_type": "code",
   "execution_count": 16,
   "id": "2b948253-37b6-4b78-b12b-0b19b92f41d4",
   "metadata": {},
   "outputs": [
    {
     "name": "stdout",
     "output_type": "stream",
     "text": [
      "passed\n"
     ]
    }
   ],
   "source": [
    "grade = 72\n",
    "\n",
    "if grade >= 90:\n",
    "    print('passed with distinction')\n",
    "elif grade >= 70:\n",
    "    print('passed')\n",
    "else:\n",
    "    print('failed')"
   ]
  },
  {
   "cell_type": "code",
   "execution_count": 17,
   "id": "a9a951e9-44cb-4755-9a70-0d545a0db4fe",
   "metadata": {},
   "outputs": [
    {
     "name": "stdout",
     "output_type": "stream",
     "text": [
      "C\n"
     ]
    }
   ],
   "source": [
    "grade = 72\n",
    "\n",
    "if grade >= 90:\n",
    "    letter_grade = 'A'\n",
    "elif grade >= 80:\n",
    "    letter_grade = 'B'\n",
    "elif grade >= 70:\n",
    "    letter_grade = 'C'\n",
    "elif grade >= 60:\n",
    "    letter_grade = 'D'\n",
    "else:\n",
    "    letter_grade = 'F'\n",
    "\n",
    "print(letter_grade)"
   ]
  },
  {
   "cell_type": "code",
   "execution_count": 19,
   "id": "6350b735-20f6-4cef-a167-64667ec314ce",
   "metadata": {},
   "outputs": [
    {
     "name": "stdout",
     "output_type": "stream",
     "text": [
      "withdrawal authorized\n"
     ]
    }
   ],
   "source": [
    "account_enabled = True\n",
    "balance = 1000\n",
    "withdraw = 100\n",
    "\n",
    "if not account_enabled:\n",
    "    print('account disabled')\n",
    "elif withdraw > balance:\n",
    "    print('insufficient funds')\n",
    "else:\n",
    "    print('withdrawal authorized')"
   ]
  },
  {
   "cell_type": "markdown",
   "id": "06d0c3e9-c081-412f-8a27-8f3f105082dd",
   "metadata": {},
   "source": [
    "## Ternary Conditional Operator"
   ]
  },
  {
   "cell_type": "code",
   "execution_count": 26,
   "id": "1a5f1047-4b79-459a-b419-c6747a353a2c",
   "metadata": {},
   "outputs": [
    {
     "name": "stdout",
     "output_type": "stream",
     "text": [
      "50\n"
     ]
    }
   ],
   "source": [
    "ask_price = 100\n",
    "if ask_price > 50:\n",
    "    volume = 50\n",
    "else:\n",
    "    volume = 80\n",
    "\n",
    "print(volume)"
   ]
  },
  {
   "cell_type": "code",
   "execution_count": 25,
   "id": "bcc0e03b-4d69-4b96-ba26-108665a7744f",
   "metadata": {},
   "outputs": [
    {
     "name": "stdout",
     "output_type": "stream",
     "text": [
      "50\n"
     ]
    }
   ],
   "source": [
    "ask_price = 100\n",
    "\n",
    "volume = 50 if ask_price > 50 else 80\n",
    "\n",
    "print(volume)"
   ]
  },
  {
   "cell_type": "code",
   "execution_count": 28,
   "id": "e259f2c5-21ea-471d-8491-1124d28decfe",
   "metadata": {},
   "outputs": [
    {
     "name": "stdout",
     "output_type": "stream",
     "text": [
      "10\n"
     ]
    }
   ],
   "source": [
    "a = 10\n",
    "b = 20\n",
    "\n",
    "distance = a - b if a > b else b - a\n",
    "\n",
    "print(distance)"
   ]
  },
  {
   "cell_type": "markdown",
   "id": "3310d62d-0050-42da-a7df-b61ed239f484",
   "metadata": {},
   "source": [
    "Suppose we are looping (iterating) through some data file and for every row we process we have the following data:\n",
    "\n",
    "- `current_value` - the value of some column in our current row. A value of `-999` indicates the value is missing.\n",
    "- `running_total` - running total of that column's values so far, possibly zero\n",
    "- `running_count` - running count of number of rows (not including current one)"
   ]
  },
  {
   "cell_type": "code",
   "execution_count": 32,
   "id": "5c9039e1-7551-485d-9b96-dd0a8ad4c953",
   "metadata": {},
   "outputs": [
    {
     "name": "stdout",
     "output_type": "stream",
     "text": [
      "15100\n"
     ]
    }
   ],
   "source": [
    "current_value = 100\n",
    "running_total = 15000\n",
    "running_count = 125\n",
    "\n",
    "if current_value == -999:\n",
    "    clean_value = 0\n",
    "else:\n",
    "    clean_value = current_value\n",
    "\n",
    "running_total = running_total + clean_value\n",
    "\n",
    "print(running_total)"
   ]
  },
  {
   "cell_type": "code",
   "execution_count": 33,
   "id": "25ea039b-7e0a-4a28-90fe-2a69a38aedd6",
   "metadata": {},
   "outputs": [
    {
     "name": "stdout",
     "output_type": "stream",
     "text": [
      "15100\n"
     ]
    }
   ],
   "source": [
    "current_value = 100\n",
    "running_total = 15000\n",
    "running_count = 125\n",
    "\n",
    "clean_value = 0 if current_value == -999 else current_value\n",
    "\n",
    "running_total = running_total + clean_value\n",
    "\n",
    "print(running_total)"
   ]
  },
  {
   "cell_type": "code",
   "execution_count": 35,
   "id": "d05a0931-3921-4fc8-8428-132401af6b9a",
   "metadata": {},
   "outputs": [
    {
     "name": "stdout",
     "output_type": "stream",
     "text": [
      "15000\n"
     ]
    }
   ],
   "source": [
    "current_value = -999\n",
    "running_total = 15000\n",
    "running_count = 125\n",
    "\n",
    "running_total = running_total + (0 if current_value == -999 else current_value)\n",
    "\n",
    "print(running_total)"
   ]
  },
  {
   "cell_type": "code",
   "execution_count": null,
   "id": "79f8faa3-0c03-47e5-b6b3-398bba359615",
   "metadata": {},
   "outputs": [],
   "source": []
  }
 ],
 "metadata": {
  "kernelspec": {
   "display_name": "Python 3 (ipykernel)",
   "language": "python",
   "name": "python3"
  },
  "language_info": {
   "codemirror_mode": {
    "name": "ipython",
    "version": 3
   },
   "file_extension": ".py",
   "mimetype": "text/x-python",
   "name": "python",
   "nbconvert_exporter": "python",
   "pygments_lexer": "ipython3",
   "version": "3.9.23"
  }
 },
 "nbformat": 4,
 "nbformat_minor": 5
}
