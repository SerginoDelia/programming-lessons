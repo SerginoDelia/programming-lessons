{
 "cells": [
  {
   "cell_type": "markdown",
   "id": "5834a4e3-9d12-47cd-9a61-75cc5eb21c85",
   "metadata": {},
   "source": [
    "# Sequences"
   ]
  },
  {
   "cell_type": "code",
   "execution_count": 1,
   "id": "6bb59162-339f-43ea-96c6-cfb10a06c964",
   "metadata": {},
   "outputs": [],
   "source": [
    "names = [\"Jasmine\", True, 25, \"red dress\", \"athletic build\"]"
   ]
  },
  {
   "cell_type": "code",
   "execution_count": 2,
   "id": "5c6af628-1d98-45dc-860e-4cc0f22de7e5",
   "metadata": {},
   "outputs": [
    {
     "data": {
      "text/plain": [
       "'Jasmine'"
      ]
     },
     "execution_count": 2,
     "metadata": {},
     "output_type": "execute_result"
    }
   ],
   "source": [
    "names[0]"
   ]
  },
  {
   "cell_type": "code",
   "execution_count": 3,
   "id": "97cd0248-422b-490d-b711-81302ca77389",
   "metadata": {},
   "outputs": [
    {
     "data": {
      "text/plain": [
       "'red dress'"
      ]
     },
     "execution_count": 3,
     "metadata": {},
     "output_type": "execute_result"
    }
   ],
   "source": [
    "names[-1]"
   ]
  },
  {
   "cell_type": "code",
   "execution_count": 4,
   "id": "441d7ee3-f440-4635-a9fd-9c39b805fd41",
   "metadata": {},
   "outputs": [
    {
     "data": {
      "text/plain": [
       "25"
      ]
     },
     "execution_count": 4,
     "metadata": {},
     "output_type": "execute_result"
    }
   ],
   "source": [
    "names[-2]"
   ]
  },
  {
   "cell_type": "code",
   "execution_count": 5,
   "id": "41a5d99a-ecec-4c79-b1e3-916429e14c44",
   "metadata": {},
   "outputs": [
    {
     "data": {
      "text/plain": [
       "4"
      ]
     },
     "execution_count": 5,
     "metadata": {},
     "output_type": "execute_result"
    }
   ],
   "source": [
    "len(names)"
   ]
  },
  {
   "cell_type": "code",
   "execution_count": 6,
   "id": "adac43c8-da32-429f-8295-38b1eeab4083",
   "metadata": {},
   "outputs": [
    {
     "data": {
      "text/plain": [
       "'red dress'"
      ]
     },
     "execution_count": 6,
     "metadata": {},
     "output_type": "execute_result"
    }
   ],
   "source": [
    "names[len(names) - 1]"
   ]
  },
  {
   "cell_type": "code",
   "execution_count": 7,
   "id": "816add59-85d4-4d48-a63d-870f9f44521d",
   "metadata": {},
   "outputs": [],
   "source": [
    "names.append(\"shoes\")"
   ]
  },
  {
   "cell_type": "code",
   "execution_count": 8,
   "id": "285094f4-171b-4ec0-9f7a-506c3e85fc72",
   "metadata": {},
   "outputs": [
    {
     "data": {
      "text/plain": [
       "['Jasmine', True, 25, 'red dress', 'shoes']"
      ]
     },
     "execution_count": 8,
     "metadata": {},
     "output_type": "execute_result"
    }
   ],
   "source": [
    "names"
   ]
  },
  {
   "cell_type": "code",
   "execution_count": 9,
   "id": "132922b5-9736-4e83-bf54-2ec5e1e770e6",
   "metadata": {},
   "outputs": [],
   "source": [
    "names.insert(1, \"not false\")"
   ]
  },
  {
   "cell_type": "code",
   "execution_count": 10,
   "id": "9c388568-9041-4359-8bb4-0224f2de00a3",
   "metadata": {},
   "outputs": [],
   "source": [
    "kelly = names"
   ]
  },
  {
   "cell_type": "code",
   "execution_count": 11,
   "id": "cef3554e-7ec5-4cd4-9e81-3cdcf5579fee",
   "metadata": {},
   "outputs": [
    {
     "data": {
      "text/plain": [
       "['Jasmine', 'not false', True, 25, 'red dress', 'shoes']"
      ]
     },
     "execution_count": 11,
     "metadata": {},
     "output_type": "execute_result"
    }
   ],
   "source": [
    "kelly"
   ]
  },
  {
   "cell_type": "code",
   "execution_count": 12,
   "id": "d685ccc9-5a32-45a8-9889-495addc795ac",
   "metadata": {},
   "outputs": [
    {
     "data": {
      "text/plain": [
       "'shoes'"
      ]
     },
     "execution_count": 12,
     "metadata": {},
     "output_type": "execute_result"
    }
   ],
   "source": [
    "kelly.pop()"
   ]
  },
  {
   "cell_type": "code",
   "execution_count": 13,
   "id": "64f1afb8-2d08-4b4e-85ba-961e53393f77",
   "metadata": {},
   "outputs": [
    {
     "data": {
      "text/plain": [
       "['Jasmine', 'not false', True, 25, 'red dress']"
      ]
     },
     "execution_count": 13,
     "metadata": {},
     "output_type": "execute_result"
    }
   ],
   "source": [
    "names"
   ]
  },
  {
   "cell_type": "code",
   "execution_count": 14,
   "id": "d573415a-eeb3-43c3-85b5-c48a70e486c6",
   "metadata": {},
   "outputs": [],
   "source": [
    "kelly.append(\"table\")"
   ]
  },
  {
   "cell_type": "code",
   "execution_count": 15,
   "id": "ed65ce87-03f5-450b-a1a0-8e7ec6e341c8",
   "metadata": {},
   "outputs": [
    {
     "data": {
      "text/plain": [
       "['Jasmine', 'not false', True, 25, 'red dress', 'table']"
      ]
     },
     "execution_count": 15,
     "metadata": {},
     "output_type": "execute_result"
    }
   ],
   "source": [
    "kelly"
   ]
  },
  {
   "cell_type": "code",
   "execution_count": 16,
   "id": "a09edc03-d7f7-41f1-bc06-082a51b8d513",
   "metadata": {},
   "outputs": [
    {
     "data": {
      "text/plain": [
       "['Jasmine', 'not false', True, 25, 'red dress', 'table']"
      ]
     },
     "execution_count": 16,
     "metadata": {},
     "output_type": "execute_result"
    }
   ],
   "source": [
    "names"
   ]
  },
  {
   "cell_type": "code",
   "execution_count": 23,
   "id": "568ab59a-7d1f-413a-98e4-5b9101afc114",
   "metadata": {},
   "outputs": [],
   "source": [
    "name2 = ('Jasmine', [1 ,2 ,3 ,4], 'not false', True, 25, 'red dress', 'table')"
   ]
  },
  {
   "cell_type": "code",
   "execution_count": 18,
   "id": "998fa837-d308-47ef-81e8-8489c2287abd",
   "metadata": {},
   "outputs": [
    {
     "data": {
      "text/plain": [
       "('Jasmine', 'not false', True, 25, 'red dress', 'table')"
      ]
     },
     "execution_count": 18,
     "metadata": {},
     "output_type": "execute_result"
    }
   ],
   "source": [
    "name2"
   ]
  },
  {
   "cell_type": "code",
   "execution_count": 19,
   "id": "3274088d-7442-43c4-88d9-e9457e8f5236",
   "metadata": {},
   "outputs": [
    {
     "ename": "AttributeError",
     "evalue": "'tuple' object has no attribute 'append'",
     "output_type": "error",
     "traceback": [
      "\u001b[0;31m---------------------------------------------------------------------------\u001b[0m",
      "\u001b[0;31mAttributeError\u001b[0m                            Traceback (most recent call last)",
      "Cell \u001b[0;32mIn[19], line 1\u001b[0m\n\u001b[0;32m----> 1\u001b[0m name2\u001b[38;5;241m.\u001b[39mappend(\u001b[38;5;28;01mTrue\u001b[39;00m)\n",
      "\u001b[0;31mAttributeError\u001b[0m: 'tuple' object has no attribute 'append'"
     ]
    }
   ],
   "source": [
    "name2.append(True)"
   ]
  },
  {
   "cell_type": "code",
   "execution_count": 20,
   "id": "64bb721a-eb01-4981-9039-8b45a81977da",
   "metadata": {},
   "outputs": [
    {
     "data": {
      "text/plain": [
       "'Jasmine'"
      ]
     },
     "execution_count": 20,
     "metadata": {},
     "output_type": "execute_result"
    }
   ],
   "source": [
    "name2[0]"
   ]
  },
  {
   "cell_type": "code",
   "execution_count": 24,
   "id": "09c1ad58-df89-4fdd-b784-155402c28939",
   "metadata": {},
   "outputs": [
    {
     "data": {
      "text/plain": [
       "[1, 2, 3, 4]"
      ]
     },
     "execution_count": 24,
     "metadata": {},
     "output_type": "execute_result"
    }
   ],
   "source": [
    "name2[1]"
   ]
  },
  {
   "cell_type": "code",
   "execution_count": 26,
   "id": "b2fbbe73-7f86-48a7-907f-eaf8ecffb273",
   "metadata": {},
   "outputs": [
    {
     "data": {
      "text/plain": [
       "3"
      ]
     },
     "execution_count": 26,
     "metadata": {},
     "output_type": "execute_result"
    }
   ],
   "source": [
    "name2[1][2]"
   ]
  },
  {
   "cell_type": "code",
   "execution_count": 27,
   "id": "449ae1ab-ea8a-4c26-b90c-300cccf6f9e9",
   "metadata": {},
   "outputs": [],
   "source": [
    "name2[1].append(True)"
   ]
  },
  {
   "cell_type": "code",
   "execution_count": 28,
   "id": "a6c6aba4-5707-4a8f-8e52-cbc3980772f9",
   "metadata": {},
   "outputs": [
    {
     "data": {
      "text/plain": [
       "('Jasmine', [1, 2, 3, 4, True], 'not false', True, 25, 'red dress', 'table')"
      ]
     },
     "execution_count": 28,
     "metadata": {},
     "output_type": "execute_result"
    }
   ],
   "source": [
    "name2"
   ]
  },
  {
   "cell_type": "code",
   "execution_count": 29,
   "id": "fa98e531-89a2-4e2a-be5e-01251f25c8da",
   "metadata": {},
   "outputs": [],
   "source": [
    "name3 = list(name2)"
   ]
  },
  {
   "cell_type": "code",
   "execution_count": 30,
   "id": "c7f3384e-ba57-4c21-ac1b-c981f0b721af",
   "metadata": {},
   "outputs": [
    {
     "data": {
      "text/plain": [
       "['Jasmine', [1, 2, 3, 4, True], 'not false', True, 25, 'red dress', 'table']"
      ]
     },
     "execution_count": 30,
     "metadata": {},
     "output_type": "execute_result"
    }
   ],
   "source": [
    "name3"
   ]
  },
  {
   "cell_type": "code",
   "execution_count": null,
   "id": "13b7a40b-7696-4bb5-ba20-8bace510ad3c",
   "metadata": {},
   "outputs": [],
   "source": []
  }
 ],
 "metadata": {
  "kernelspec": {
   "display_name": "Python 3 (ipykernel)",
   "language": "python",
   "name": "python3"
  },
  "language_info": {
   "codemirror_mode": {
    "name": "ipython",
    "version": 3
   },
   "file_extension": ".py",
   "mimetype": "text/x-python",
   "name": "python",
   "nbconvert_exporter": "python",
   "pygments_lexer": "ipython3",
   "version": "3.12.7"
  }
 },
 "nbformat": 4,
 "nbformat_minor": 5
}
