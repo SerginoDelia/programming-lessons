{
 "cells": [
  {
   "cell_type": "markdown",
   "id": "3efe6262-12f4-417c-8b99-dfe1ac32d6fc",
   "metadata": {},
   "source": [
    "## Conditionals"
   ]
  },
  {
   "cell_type": "code",
   "execution_count": null,
   "id": "b4b8e29a-d6a1-4d68-b4e8-13812df1d4fe",
   "metadata": {},
   "outputs": [],
   "source": [
    "branching\n",
    "\n",
    "if else elif\n",
    "\n",
    "if something is true\n",
    "    run some code\n",
    "elif something is true\n",
    "    run this code\n",
    "else \n",
    "    run some other code"
   ]
  },
  {
   "cell_type": "code",
   "execution_count": 1,
   "id": "68d4d2e8-f762-4582-a054-59b01637078e",
   "metadata": {},
   "outputs": [
    {
     "name": "stdout",
     "output_type": "stream",
     "text": [
      "Walk Fast\n"
     ]
    }
   ],
   "source": [
    "girl = 'Dank'\n",
    "\n",
    "if girl == 'Dank':\n",
    "    print('Walk Fast')\n",
    "elif girl == 'Lizzo':\n",
    "    print('Run')\n",
    "else:\n",
    "    print('Chill')"
   ]
  },
  {
   "cell_type": "code",
   "execution_count": 2,
   "id": "b0aa021b-0bc1-4ac9-b40d-65de07228bfa",
   "metadata": {},
   "outputs": [
    {
     "name": "stdout",
     "output_type": "stream",
     "text": [
      "Run\n"
     ]
    }
   ],
   "source": [
    "girl = 'Lizzo'\n",
    "\n",
    "if girl == 'Dank':\n",
    "    print('Walk Fast')\n",
    "elif girl == 'Lizzo':\n",
    "    print('Run')\n",
    "else:\n",
    "    print('Chill')"
   ]
  },
  {
   "cell_type": "code",
   "execution_count": 3,
   "id": "e1f416d8-7c62-4280-86f4-a4494f5379a0",
   "metadata": {},
   "outputs": [
    {
     "name": "stdout",
     "output_type": "stream",
     "text": [
      "Chill\n"
     ]
    }
   ],
   "source": [
    "girl = 'June'\n",
    "\n",
    "if girl == 'Dank':\n",
    "    print('Walk Fast')\n",
    "elif girl == 'Lizzo':\n",
    "    print('Run')\n",
    "else:\n",
    "    print('Chill')"
   ]
  },
  {
   "cell_type": "code",
   "execution_count": 4,
   "id": "aeedead0-46a7-4fdc-a529-34f0944f6eba",
   "metadata": {},
   "outputs": [
    {
     "name": "stdout",
     "output_type": "stream",
     "text": [
      "Go somewhere else\n"
     ]
    }
   ],
   "source": [
    "price = 100\n",
    "\n",
    "if price < 100:\n",
    "    print('Good')\n",
    "elif price > 100:\n",
    "    print('Too high')\n",
    "else:\n",
    "    print('Go somewhere else')"
   ]
  },
  {
   "cell_type": "code",
   "execution_count": 6,
   "id": "9354578a-8dc1-431d-938d-935504cdced0",
   "metadata": {},
   "outputs": [
    {
     "name": "stdout",
     "output_type": "stream",
     "text": [
      "Good\n"
     ]
    }
   ],
   "source": [
    "price = 100\n",
    "\n",
    "if price <= 100:\n",
    "    print('Good')\n",
    "elif price > 100:\n",
    "    print('Too high')\n",
    "else:\n",
    "    print('Go somewhere else')"
   ]
  },
  {
   "cell_type": "markdown",
   "id": "6ad70f9a-0853-4a43-b31e-98814fe916cd",
   "metadata": {},
   "source": [
    "Short-circuit"
   ]
  },
  {
   "cell_type": "markdown",
   "id": "8f734286-5921-4557-8305-efc9022a8765",
   "metadata": {},
   "source": [
    "## Ternary Operator"
   ]
  },
  {
   "cell_type": "raw",
   "id": "1f9a006f-3076-44c8-88c0-01d9891da790",
   "metadata": {},
   "source": [
    "[expression1] if [condition] else [expression2]"
   ]
  },
  {
   "cell_type": "code",
   "execution_count": 7,
   "id": "bdf2822a-acad-4aeb-80c0-e4c769372762",
   "metadata": {},
   "outputs": [],
   "source": [
    "price = 200"
   ]
  },
  {
   "cell_type": "code",
   "execution_count": 8,
   "id": "d639e738-3240-40a4-985b-f6626d8825e4",
   "metadata": {},
   "outputs": [
    {
     "name": "stdout",
     "output_type": "stream",
     "text": [
      "20\n"
     ]
    }
   ],
   "source": [
    "volume = 20 if price < 300 else 10\n",
    "\n",
    "print(volume)"
   ]
  },
  {
   "cell_type": "code",
   "execution_count": 9,
   "id": "6df76c16-1334-4b92-babc-9336f7e94599",
   "metadata": {},
   "outputs": [
    {
     "name": "stdout",
     "output_type": "stream",
     "text": [
      "20\n"
     ]
    }
   ],
   "source": [
    "if price < 300:\n",
    "    volume = 20\n",
    "else:\n",
    "    volume = 10\n",
    "\n",
    "print(volume)"
   ]
  },
  {
   "cell_type": "markdown",
   "id": "2ba0f133-8b8f-4e21-90f1-cbbd507e937a",
   "metadata": {},
   "source": [
    "and or \n",
    "\n",
    "and both has to be true to make the statement true\n",
    "or one side has to be true to make the statement true"
   ]
  },
  {
   "cell_type": "code",
   "execution_count": 10,
   "id": "d531a8ab-612f-408f-beb2-abe4312369dd",
   "metadata": {},
   "outputs": [
    {
     "data": {
      "text/plain": [
       "True"
      ]
     },
     "execution_count": 10,
     "metadata": {},
     "output_type": "execute_result"
    }
   ],
   "source": [
    "True and True"
   ]
  },
  {
   "cell_type": "code",
   "execution_count": 11,
   "id": "76b1c572-bb85-409b-9078-fe1ea85e785b",
   "metadata": {},
   "outputs": [
    {
     "data": {
      "text/plain": [
       "False"
      ]
     },
     "execution_count": 11,
     "metadata": {},
     "output_type": "execute_result"
    }
   ],
   "source": [
    "True and False"
   ]
  },
  {
   "cell_type": "code",
   "execution_count": 12,
   "id": "ecbf61ed-41d0-4e25-b6d5-807f16fe250f",
   "metadata": {},
   "outputs": [
    {
     "data": {
      "text/plain": [
       "False"
      ]
     },
     "execution_count": 12,
     "metadata": {},
     "output_type": "execute_result"
    }
   ],
   "source": [
    "False and False"
   ]
  },
  {
   "cell_type": "code",
   "execution_count": 13,
   "id": "bdff2314-d7e6-403e-8246-ef1ef38e6aa9",
   "metadata": {},
   "outputs": [
    {
     "data": {
      "text/plain": [
       "True"
      ]
     },
     "execution_count": 13,
     "metadata": {},
     "output_type": "execute_result"
    }
   ],
   "source": [
    "True or True"
   ]
  },
  {
   "cell_type": "code",
   "execution_count": 14,
   "id": "27beebe6-d539-4643-a5d6-d3c238449cc2",
   "metadata": {},
   "outputs": [
    {
     "data": {
      "text/plain": [
       "True"
      ]
     },
     "execution_count": 14,
     "metadata": {},
     "output_type": "execute_result"
    }
   ],
   "source": [
    "True or False "
   ]
  },
  {
   "cell_type": "code",
   "execution_count": 15,
   "id": "9fc0a738-cf20-4861-b5bd-2011e6b3f34c",
   "metadata": {},
   "outputs": [
    {
     "data": {
      "text/plain": [
       "True"
      ]
     },
     "execution_count": 15,
     "metadata": {},
     "output_type": "execute_result"
    }
   ],
   "source": [
    "True and True"
   ]
  },
  {
   "cell_type": "code",
   "execution_count": 16,
   "id": "3eeefa65-f848-4851-8cef-c114a1913e7d",
   "metadata": {},
   "outputs": [
    {
     "data": {
      "text/plain": [
       "False"
      ]
     },
     "execution_count": 16,
     "metadata": {},
     "output_type": "execute_result"
    }
   ],
   "source": [
    "False and True"
   ]
  },
  {
   "cell_type": "code",
   "execution_count": 17,
   "id": "c78dd07a-d948-4075-902f-4214b40b61e6",
   "metadata": {},
   "outputs": [
    {
     "data": {
      "text/plain": [
       "True"
      ]
     },
     "execution_count": 17,
     "metadata": {},
     "output_type": "execute_result"
    }
   ],
   "source": [
    "True or False"
   ]
  },
  {
   "cell_type": "code",
   "execution_count": 18,
   "id": "c1a5e4ac-db7d-4e9d-b9d1-59f29dd6bf24",
   "metadata": {},
   "outputs": [
    {
     "data": {
      "text/plain": [
       "True"
      ]
     },
     "execution_count": 18,
     "metadata": {},
     "output_type": "execute_result"
    }
   ],
   "source": [
    "False or True"
   ]
  },
  {
   "cell_type": "code",
   "execution_count": 19,
   "id": "0a312a94-9ad7-4bc0-972f-c5f07a071f99",
   "metadata": {},
   "outputs": [],
   "source": [
    "name1 = 'Lizzo'\n",
    "name2 = 'Dank'"
   ]
  },
  {
   "cell_type": "code",
   "execution_count": 20,
   "id": "ad89dbb6-9bd8-48c8-b22f-f47ef32d26f2",
   "metadata": {},
   "outputs": [
    {
     "name": "stdout",
     "output_type": "stream",
     "text": [
      "Run and don't look back\n"
     ]
    }
   ],
   "source": [
    "if name1 == 'Lizzo' or name2 == 'Dank':\n",
    "    print('Run and don\\'t look back')\n",
    "    # print(\"Run and don't look back\")\n",
    "else: \n",
    "    print('Chill')"
   ]
  },
  {
   "cell_type": "code",
   "execution_count": 21,
   "id": "4f1f8a60-d358-4109-bb4f-9e243c4fbaad",
   "metadata": {},
   "outputs": [
    {
     "name": "stdout",
     "output_type": "stream",
     "text": [
      "There might be an earthquake\n"
     ]
    }
   ],
   "source": [
    "if name1 == 'Lizzo' and name2 == 'Dank':\n",
    "    print('There might be an earthquake')\n",
    "    # print(\"Run and don't look back\")\n",
    "\n",
    "elif name1 == 'Lizzo' or name2 == 'Dank':\n",
    "    print('Run and don\\'t look back')\n",
    "    \n",
    "else: \n",
    "    print('Chill')"
   ]
  },
  {
   "cell_type": "code",
   "execution_count": 22,
   "id": "70ed98dc-2309-483f-8931-506e6b7d5f1e",
   "metadata": {},
   "outputs": [
    {
     "name": "stdout",
     "output_type": "stream",
     "text": [
      "Run and don't look back\n"
     ]
    }
   ],
   "source": [
    "name1 = 'Lizzo'\n",
    "name2 = 'Luna'\n",
    "\n",
    "if name1 == 'Lizzo' and name2 == 'Dank':\n",
    "    print('There might be an earthquake')\n",
    "    # print(\"Run and don't look back\")\n",
    "\n",
    "elif name1 == 'Lizzo' or name2 == 'Dank':\n",
    "    print('Run and don\\'t look back')\n",
    "    \n",
    "else: \n",
    "    print('Chill')"
   ]
  },
  {
   "cell_type": "code",
   "execution_count": 23,
   "id": "c82638fe-83b5-4ec3-8480-1bb336eed043",
   "metadata": {},
   "outputs": [
    {
     "name": "stdout",
     "output_type": "stream",
     "text": [
      "Chill\n"
     ]
    }
   ],
   "source": [
    "name1 = 'Jasmine'\n",
    "name2 = 'Luna'\n",
    "\n",
    "if name1 == 'Lizzo' and name2 == 'Dank':\n",
    "    print('There might be an earthquake')\n",
    "    # print(\"Run and don't look back\")\n",
    "\n",
    "elif name1 == 'Lizzo' or name2 == 'Dank':\n",
    "    print('Run and don\\'t look back')\n",
    "    \n",
    "else: \n",
    "    print('Chill')"
   ]
  },
  {
   "cell_type": "code",
   "execution_count": 27,
   "id": "3f82b9d3-b25b-4507-a9e8-a4ecd3f9def7",
   "metadata": {},
   "outputs": [
    {
     "name": "stdout",
     "output_type": "stream",
     "text": [
      "chill\n"
     ]
    }
   ],
   "source": [
    "if not name1 and name2 == 'Dank':\n",
    "    print('no earthquakes')\n",
    "else:\n",
    "    print('chill')"
   ]
  },
  {
   "cell_type": "code",
   "execution_count": 24,
   "id": "2461a07a-18e8-4c19-9ac9-e1e061092dd0",
   "metadata": {},
   "outputs": [
    {
     "data": {
      "text/plain": [
       "True"
      ]
     },
     "execution_count": 24,
     "metadata": {},
     "output_type": "execute_result"
    }
   ],
   "source": [
    "name1 and True"
   ]
  },
  {
   "cell_type": "code",
   "execution_count": 25,
   "id": "2e380b43-e92b-4a10-ba7f-adeb8f06faa9",
   "metadata": {},
   "outputs": [
    {
     "data": {
      "text/plain": [
       "False"
      ]
     },
     "execution_count": 25,
     "metadata": {},
     "output_type": "execute_result"
    }
   ],
   "source": [
    "not name1 and True"
   ]
  },
  {
   "cell_type": "code",
   "execution_count": 32,
   "id": "134c73fe-9fc8-476b-ac06-72e071b88272",
   "metadata": {},
   "outputs": [
    {
     "name": "stdout",
     "output_type": "stream",
     "text": [
      "Its not Gina or Luna\n"
     ]
    }
   ],
   "source": [
    "name1 = 'Gina'\n",
    "name2 = 'Luna'\n",
    "\n",
    "if name1 != 'Lizzo':\n",
    "    print(f'Its not {name1} or {name2}')\n",
    "else:\n",
    "    print('Its Lizzo')"
   ]
  },
  {
   "cell_type": "code",
   "execution_count": 36,
   "id": "c693316f-8940-45c1-b620-fac03c031ef2",
   "metadata": {},
   "outputs": [
    {
     "name": "stdout",
     "output_type": "stream",
     "text": [
      "To call a variable we have to use the braces Gina and we can call mutliple variables Luna\n"
     ]
    }
   ],
   "source": [
    "print(f\"To call a variable we have to use the braces {name1} and we can call mutliple variables {name2}\")"
   ]
  },
  {
   "cell_type": "code",
   "execution_count": 38,
   "id": "d90201b2-9f3b-4d32-926d-7f748d059e73",
   "metadata": {},
   "outputs": [
    {
     "name": "stdout",
     "output_type": "stream",
     "text": [
      "My name is Gina and the other girls name is Luna\n"
     ]
    }
   ],
   "source": [
    "print(\"My name is \" + name1 + \" and the other girls name is \" + name2)"
   ]
  },
  {
   "cell_type": "code",
   "execution_count": 39,
   "id": "0439aaec-97a2-4d14-b710-a14a5043b5ae",
   "metadata": {},
   "outputs": [
    {
     "name": "stdout",
     "output_type": "stream",
     "text": [
      "My name is Gina and the other girls name is Luna\n"
     ]
    }
   ],
   "source": [
    "print(f\"My name is {name1} and the other girls name is {name2}\")"
   ]
  },
  {
   "cell_type": "code",
   "execution_count": null,
   "id": "52363286-73e4-47ee-b7eb-785fe9d3fe95",
   "metadata": {},
   "outputs": [],
   "source": []
  }
 ],
 "metadata": {
  "kernelspec": {
   "display_name": "Python 3 (ipykernel)",
   "language": "python",
   "name": "python3"
  },
  "language_info": {
   "codemirror_mode": {
    "name": "ipython",
    "version": 3
   },
   "file_extension": ".py",
   "mimetype": "text/x-python",
   "name": "python",
   "nbconvert_exporter": "python",
   "pygments_lexer": "ipython3",
   "version": "3.12.7"
  }
 },
 "nbformat": 4,
 "nbformat_minor": 5
}
